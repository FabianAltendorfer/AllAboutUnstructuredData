{
  "cells": [
    {
      "cell_type": "raw",
      "source": [
        "---\n",
        "sidebar_position: 1\n",
        "title: Summarization\n",
        "---"
      ],
      "metadata": {
        "id": "2aca8168-62ec-4bba-93f0-73da08cd1920"
      },
      "id": "2aca8168-62ec-4bba-93f0-73da08cd1920"
    },
    {
      "cell_type": "code",
      "source": [
        "from langchain.chains.summarize import load_summarize_chain\n",
        "from langchain_community.document_loaders import WebBaseLoader\n",
        "from langchain_openai import AzureChatOpenAI\n",
        "from langchain_community.document_loaders import PyPDFLoader\n",
        "from langchain.text_splitter import CharacterTextSplitter,RecursiveCharacterTextSplitter\n",
        "\n",
        "from langchain.chains.combine_documents.stuff import StuffDocumentsChain\n",
        "from langchain.chains.llm import LLMChain\n",
        "from langchain.prompts import PromptTemplate\n",
        "\n",
        "from langchain.chains import MapReduceDocumentsChain, ReduceDocumentsChain\n",
        "from langchain.text_splitter import CharacterTextSplitter\n",
        "\n",
        "import os\n",
        "\n",
        "os.environ[\"AZURE_OPENAI_ENDPOINT\"]  = \"Azure OpenAI EndPoint\"\n",
        "os.environ[\"AZURE_OPENAI_API_KEY\"] = \"Azure OpenAI Key\"\n",
        "os.environ[\"OPENAI_API_TYPE\"] = \"azure\"\n",
        "\n",
        "\n",
        "\n",
        "#Model\n",
        "OPENAI_DEPLOYMENT_NAME = \"gpt-35-turbo-16k\"\n",
        "\n",
        "#temperature. Default 0.7\n",
        "temperature=0.7\n",
        "#file URL\n",
        "#chunking Option\n",
        "#prompt\n"
      ],
      "outputs": [],
      "execution_count": 2,
      "metadata": {
        "jupyter": {
          "source_hidden": false,
          "outputs_hidden": false
        },
        "nteract": {
          "transient": {
            "deleting": false
          }
        },
        "gather": {
          "logged": 1708476161455
        }
      },
      "id": "aaac8724-3af5-4142-bdc5-c659f44aa4a0"
    },
    {
      "cell_type": "code",
      "source": [
        "#gpt3.5 turbo\n",
        "llm = AzureChatOpenAI(\n",
        "    openai_api_version=\"2023-09-15-preview\",\n",
        "    azure_deployment=OPENAI_DEPLOYMENT_NAME,\n",
        "    temperature=temperature,\n",
        "    deployment_name=\"OpenAiGpt3turbo\"\n",
        "\n",
        ")\n",
        "#gpt4 turbo\n",
        "llmgpt4 = AzureChatOpenAI(\n",
        "    openai_api_version=\"2023-09-15-preview\",\n",
        "    azure_deployment=\"gpt-4-turbo\",\n",
        "    temperature=temperature,\n",
        "    deployment_name=\"OpenAiGpt4turbo\"\n",
        ")\n"
      ],
      "outputs": [],
      "execution_count": 3,
      "metadata": {
        "jupyter": {
          "source_hidden": false,
          "outputs_hidden": false
        },
        "nteract": {
          "transient": {
            "deleting": false
          }
        },
        "gather": {
          "logged": 1708477612253
        }
      },
      "id": "41d631e8-12c0-4fe3-90d1-8d353d1baba1"
    },
    {
      "cell_type": "markdown",
      "source": [
        "### Splitting by Pages or Specific Token size"
      ],
      "metadata": {
        "nteract": {
          "transient": {
            "deleting": false
          }
        }
      },
      "id": "e70743c9-1e35-40d5-b975-cf84cafa8f24"
    },
    {
      "cell_type": "code",
      "source": [
        "loader = PyPDFLoader(\"ING_Call_transcript_1Q2022.pdf\")\n",
        "#load and split will split by chunks with some sliding window.. can be customizable. Just using load will split at page level\n",
        "pages = loader.load_and_split()\n",
        "\n",
        "text = \"\"\n",
        "for page in pages:\n",
        "    text += page.page_content\n",
        "text = text.replace('\\t', ' ')\n",
        "num_tokens = llm.get_num_tokens(text)\n",
        "print (f\"This book has {len(pages)} pages and {num_tokens} tokens in it\")\n"
      ],
      "outputs": [
        {
          "output_type": "stream",
          "name": "stdout",
          "text": "This book has 50 pages and 17301 tokens in it\n"
        }
      ],
      "execution_count": 4,
      "metadata": {
        "jupyter": {
          "source_hidden": false,
          "outputs_hidden": false
        },
        "nteract": {
          "transient": {
            "deleting": false
          }
        },
        "gather": {
          "logged": 1708477626744
        }
      },
      "id": "104e476b-8d55-45dd-a4d1-ccba13546ba6"
    },
    {
      "cell_type": "markdown",
      "source": [
        "### Splitting by Sections using Azure document Intelligence"
      ],
      "metadata": {
        "nteract": {
          "transient": {
            "deleting": false
          }
        }
      },
      "id": "7df73704-0ba5-48d1-8a54-17e87db9e7bd"
    },
    {
      "cell_type": "code",
      "source": [
        "# Using SDK targeting 2023-10-31-preview, make sure your resource is in one of these regions: East US, West US2, West Europe\n",
        "# pip install azure-ai-documentintelligence==1.0.0b1\n",
        "# pip install langchain langchain-community azure-ai-documentintelligence\n",
        "\n",
        "from azure.ai.documentintelligence import DocumentIntelligenceClient\n",
        "\n",
        "doc_intel_endpoint = \"Azure Document Inteligence Endpoint\"\n",
        "doc_intel_key = \"Azure Document Inteligence Key\"\n",
        "\n",
        "from langchain_community.document_loaders import AzureAIDocumentIntelligenceLoader\n",
        "from langchain.text_splitter import MarkdownHeaderTextSplitter\n",
        " \n",
        "# Initiate Azure AI Document Intelligence to load the document. You can either specify file_path or url_path to load the document.\n",
        "loader = AzureAIDocumentIntelligenceLoader(file_path=\"ING_Call_transcript_1Q2022.pdf\", api_key = doc_intel_key, api_endpoint = doc_intel_endpoint, api_model=\"prebuilt-layout\")\n",
        "docs = loader.load()\n",
        " \n",
        "# Split the document into chunks base on markdown headers.\n",
        "headers_to_split_on = [\n",
        "    (\"#\", \"Header 1\"),\n",
        "    (\"##\", \"Header 2\"),\n",
        "    (\"###\", \"Header 3\"),\n",
        "]\n",
        "text_splitter = MarkdownHeaderTextSplitter(headers_to_split_on=headers_to_split_on)\n",
        " \n",
        "docs_string = docs[0].page_content\n",
        "sections = text_splitter.split_text(docs_string)\n",
        "print (f\"This book has {len(sections)} sections in it\")\n",
        "\n",
        "#splits"
      ],
      "outputs": [
        {
          "output_type": "stream",
          "name": "stdout",
          "text": "This book has 39 sections in it\n"
        }
      ],
      "execution_count": 5,
      "metadata": {
        "jupyter": {
          "source_hidden": false,
          "outputs_hidden": false
        },
        "nteract": {
          "transient": {
            "deleting": false
          }
        },
        "gather": {
          "logged": 1708477673334
        }
      },
      "id": "fb1a51bf-9854-4d84-b14e-f3406a2c99a0"
    },
    {
      "cell_type": "markdown",
      "source": [
        "## Option 1. Stuff\n",
        "\n",
        "### --> Generic Summary using GPT3.5"
      ],
      "metadata": {
        "nteract": {
          "transient": {
            "deleting": false
          }
        }
      },
      "id": "d2243313-3f05-4390-b58b-38415844feac"
    },
    {
      "cell_type": "code",
      "source": [
        "from langchain.chains.combine_documents.stuff import StuffDocumentsChain\n",
        "from langchain.chains.llm import LLMChain\n",
        "from langchain.prompts import PromptTemplate\n",
        "\n",
        "# Define prompt\n",
        "prompt_template = \"\"\"Write a concise summary of the following:\n",
        "\"{text}\"\n",
        "CONCISE SUMMARY:\"\"\"\n",
        "prompt = PromptTemplate.from_template(prompt_template)\n",
        "\n",
        "\n",
        "# Define LLM chain\n",
        "llm_chain = LLMChain(llm=llmgpt4, prompt=prompt)\n",
        "\n",
        "# Define StuffDocumentsChain\n",
        "stuff_chain = StuffDocumentsChain(llm_chain=llm_chain, document_variable_name=\"text\")\n",
        "\n",
        "print(stuff_chain.run(pages))"
      ],
      "outputs": [
        {
          "output_type": "stream",
          "name": "stderr",
          "text": "/anaconda/envs/azureml_py38/lib/python3.8/site-packages/langchain_core/_api/deprecation.py:117: LangChainDeprecationWarning: The function `run` was deprecated in LangChain 0.1.0 and will be removed in 0.2.0. Use invoke instead.\n  warn_deprecated(\n"
        },
        {
          "output_type": "stream",
          "name": "stdout",
          "text": "During the ING 1Q2022 Analyst Meeting on May 6, 2022, CEO Steven van Rijswijk discussed the company's first-quarter results amidst a backdrop of COVID-19 normalization and the challenges posed by the Ukraine invasion, high energy prices, and supply chain disruptions. ING has supported colleagues affected by the conflict and managed its Russia-related exposure while advancing its strategic priorities, including financing the green transition and enhancing digital channels.\n\nING reported a higher pre-provision profit, resilient net interest income (NII), increased fees, and lower costs. A final cash dividend of 41 cents and an additional EUR 1.25 billion distribution were announced. The NII benefited from a favorable yield curve, mortgage loan growth, and repayment of short-term TLTRO facilities. Costs were managed well despite inflationary pressures, and risk costs were elevated at EUR 987 million, mainly due to actions taken in the Russian portfolio.\n\nThe CET1 ratio declined to 14.9%, primarily driven by risk-weighted asset (RWA) growth related to Russian exposure and Dutch mortgages. ING remains confident in the quality of its loan book and has reduced its Russian exposure by nearly EUR 1 billion over two months.\n\nING's digitalization efforts have improved customer experience and operational efficiency. The company plans to elaborate on its end-to-end digitalization strategy at its Investor Day on June 13.\n\nQuestions from analysts covered topics such as the provisioning for the Russian exposure, NII trajectory with potential ECB rate hikes, the mix of future capital distributions, and the impact of stagflation on the bank. Management provided insights into the bank's capital management, cost controls, loan growth expectations, and the strategic handling of its Russian operations.\n"
        }
      ],
      "execution_count": 15,
      "metadata": {
        "jupyter": {
          "source_hidden": false,
          "outputs_hidden": false
        },
        "nteract": {
          "transient": {
            "deleting": false
          }
        },
        "gather": {
          "logged": 1707883302868
        }
      },
      "id": "8b63a34b-5cd1-4eb1-9b13-4c155b065dee"
    },
    {
      "cell_type": "markdown",
      "source": [
        "## Option 1. Stuff\n",
        "\n",
        "### --> Extract Insights(risks/issues/concerns) and Summarize them Using GPT3.5"
      ],
      "metadata": {
        "id": "615b36e1"
      },
      "id": "615b36e1"
    },
    {
      "cell_type": "code",
      "source": [
        "from langchain.chains.combine_documents.stuff import StuffDocumentsChain\n",
        "from langchain.chains.llm import LLMChain\n",
        "from langchain.prompts import PromptTemplate\n",
        "\n",
        "# Define prompt\n",
        "prompt_template = \"\"\"You are an expert in analyzing Financial earnings transcripts. Following is text from a bank's earnings transcript. Analyze that text to identify potential risks, issues and concerns the bank was facing . Write a concise summary on those potential risks, issues and concerns. \n",
        "\"{text}\"\n",
        "CONCISE SUMMARY:\"\"\"\n",
        "prompt = PromptTemplate.from_template(prompt_template)\n",
        "\n",
        "# Define LLM chain\n",
        "llm_chain = LLMChain(llm=llmgpt4, prompt=prompt)\n",
        "\n",
        "# Define StuffDocumentsChain\n",
        "stuff_chain = StuffDocumentsChain(llm_chain=llm_chain, document_variable_name=\"text\")\n",
        "\n",
        "print(stuff_chain.run(pages))"
      ],
      "outputs": [
        {
          "output_type": "stream",
          "name": "stdout",
          "text": "The bank, ING, faced several risks, issues, and concerns as highlighted in their 1Q2022 Analyst Meeting Transcript from 6 May 2022. A concise summary of these is as follows:\n\n1. **Geopolitical Risk**: The invasion of Ukraine presented significant challenges, including the safety of colleagues and managing Russia-related exposure.\n\n2. **Financial Risk**: There was an increased risk cost, notably in Stage 2 provisions, due to actions taken concerning their Russian portfolio, which constituted a substantial portion of the risk costs. The bank reduced its Russia-related exposure by almost EUR 1 billion over the past two months.\n\n3. **Capital and Liquidity Risk**: The CET1 ratio declined to 14.9%, mainly driven by Risk-Weighted Assets (RWA) growth primarily from Russia-related exposure and Dutch mortgages. The bank also reported a decline in net customer deposit growth, partially due to outflows in Germany following the introduction of negative rates.\n\n4. **Interest Rate and NII Impact**: The bank anticipated that with the normalization of the yield curve, they would see a tailwind in Net Interest Income (NII) after years of liability pressure. They also expected NII to grow, driven by changes in the ECB's monetary policy.\n\n5. **Cost Management**: Despite inflationary pressures, the bank managed to keep costs lower both year-on-year and quarter-on-quarter. They maintained a commitment to keeping costs at least flat for the current year.\n\n6. **Strategic Focus**: ING continued to focus on strategic priorities such as financing the green transition and improving digital channels. This includes steps towards reducing financing for fossil fuels and increasing loans for renewable energy, as well as digitalizing processes to improve efficiency and customer experience.\n\n7. **Regulatory Risks**: The bank mentioned regulatory costs were up due to contributions to the European Single Resolution Fund and other regulatory funds. No new regulatory headwinds were anticipated apart from Basel IV.\n\n8. **Dividend and Capital Distribution**: ING announced a final cash dividend and an additional EUR 1.25 billion distribution, which was adjusted to reflect increased macroeconomic uncertainties. The distribution strategy included both cash components and share buybacks, subject to Dutch withholding tax requirements.\n\n9. **Economic Risks**: The bank acknowledged the potential for economic growth impacts and prolonged inflationary effects due to the situation in Ukraine, with a possibility of stagflation. They are monitoring their loan book and client engagement closely but have not observed a significant impact on credit risk thus far.\n\n10. **Digitalization and Customer Service**: The bank emphasized the importance of their digital journey, focusing on projects to enhance digital capabilities and improve customer experience, which also contributes to top-line growth and reduced cost-to-serve.\n\n11. **Operational Efficiency**: The bank reported on efforts to maximize end-to-end digitalization of key processes and highlighted their upcoming Investor Day where they will elaborate on their digitalization strategy.\n\nOverall, the bank showed resilience in its financial performance but remains vigilant about the ongoing geopolitical tensions, economic uncertainties, and the need to manage costs and capital effectively in a changing interest rate environment.\n"
        }
      ],
      "execution_count": 17,
      "metadata": {
        "id": "ef45585d",
        "outputId": "e830ca28-3ade-4536-996c-e629d179b380",
        "gather": {
          "logged": 1707883797258
        }
      },
      "id": "ef45585d"
    },
    {
      "cell_type": "markdown",
      "source": [
        "## Option 2. Map-Reduce - Generic summarization\n",
        "### --> Generic Summary (Identify main themes). Chunks:Pages, LLM:gpt-35-turbo-16k"
      ],
      "metadata": {
        "id": "ad6cabee"
      },
      "id": "ad6cabee"
    },
    {
      "cell_type": "code",
      "source": [
        "from langchain.chains import MapReduceDocumentsChain, ReduceDocumentsChain\n",
        "from langchain.text_splitter import CharacterTextSplitter\n",
        "\n",
        "\n",
        "# Map\n",
        "map_template = \"\"\"The following is a set of documents\n",
        "{docs}\n",
        "Based on this list of docs, please identify the main themes \n",
        "Helpful Answer:\"\"\"\n",
        "map_prompt = PromptTemplate.from_template(map_template)\n",
        "map_chain = LLMChain(llm=llm, prompt=map_prompt)\n",
        "\n",
        "# Reduce\n",
        "reduce_template = \"\"\"The following is set of summaries:\n",
        "{docs}\n",
        "Take these and distill it into a final, consolidated summary of the main themes. \n",
        "Helpful Answer:\"\"\"\n",
        "reduce_prompt = PromptTemplate.from_template(reduce_template)\n",
        "\n",
        "# Run chain\n",
        "reduce_chain = LLMChain(llm=llm, prompt=reduce_prompt)\n",
        "\n",
        "# Takes a list of documents, combines them into a single string, and passes this to an LLMChain\n",
        "combine_documents_chain = StuffDocumentsChain(\n",
        "    llm_chain=reduce_chain, document_variable_name=\"docs\"\n",
        ")\n",
        "\n",
        "# Combines and iteratively reduces the mapped documents\n",
        "reduce_documents_chain = ReduceDocumentsChain(\n",
        "    # This is final chain that is called.\n",
        "    combine_documents_chain=combine_documents_chain,\n",
        "    # If documents exceed context for `StuffDocumentsChain`\n",
        "    collapse_documents_chain=combine_documents_chain,\n",
        "    # The maximum number of tokens to group documents into.\n",
        "    token_max=4000,\n",
        ")\n",
        "\n",
        "# Combining documents by mapping a chain over them, then combining results\n",
        "map_reduce_chain = MapReduceDocumentsChain(\n",
        "    # Map chain\n",
        "    llm_chain=map_chain,\n",
        "    # Reduce chain\n",
        "    reduce_documents_chain=reduce_documents_chain,\n",
        "    # The variable name in the llm_chain to put the documents in\n",
        "    document_variable_name=\"docs\",\n",
        "    # Return the results of the map steps in the output\n",
        "    return_intermediate_steps=False,\n",
        ")\n",
        "#Can split if pages have lot of text\n",
        "'''textSplitter = RecursiveCharacterTextSplitter(chunk_size=1500, chunk_overlap=0)\n",
        "docs = textSplitter.split_documents(pages)'''\n",
        "\n",
        "print(map_reduce_chain.run(pages))"
      ],
      "outputs": [
        {
          "output_type": "stream",
          "name": "stderr",
          "text": "/anaconda/envs/azureml_py38/lib/python3.8/site-packages/langchain_core/_api/deprecation.py:117: LangChainDeprecationWarning: The function `run` was deprecated in LangChain 0.1.0 and will be removed in 0.2.0. Use invoke instead.\n  warn_deprecated(\n"
        },
        {
          "output_type": "stream",
          "name": "stdout",
          "text": "The main themes discussed in the 1Q2022 Analyst Meeting Transcript of ING Group revolve around financial performance, risk management, strategic priorities, capital optimization, shareholder value, analyst inquiries, net interest income (NII), risk management and exposure, capital management and returns, fee growth and partnerships, cost management and control, and economic and market conditions. These themes encompass discussions regarding strong financial results, higher pre-provision profit, resilient NII, measures taken to manage risks and reduce exposure, ING's strategic priorities in financing the green transition and improving digital channels, capital optimization and its impact on the CET1 ratio, ING's commitment to delivering value to shareholders through dividends and attractive total returns, analyst questions on potential risks, provisions, and NII tailwinds, NII and its impact on financial performance, risk management strategies and exposure management, capital management plans and achieving target capital levels, fee growth and partnerships to enhance client experience, cost management and control, and considerations of economic and market conditions.\n"
        }
      ],
      "execution_count": 19,
      "metadata": {
        "jupyter": {
          "source_hidden": false,
          "outputs_hidden": false
        },
        "nteract": {
          "transient": {
            "deleting": false
          }
        },
        "gather": {
          "logged": 1707927320434
        }
      },
      "id": "b51d9fc9-e229-4130-af89-0a14831831fa"
    },
    {
      "cell_type": "markdown",
      "source": [
        "## Option 2. Map-Reduce - Generic summarization\n",
        "### --> Generic Summary (Identify main themes). Chunks:Sections, LLM:gpt-35-turbo-16k"
      ],
      "metadata": {
        "nteract": {
          "transient": {
            "deleting": false
          }
        }
      },
      "id": "f753ca80-b4f4-4338-87ed-0a406d1839ed"
    },
    {
      "cell_type": "code",
      "source": [
        "from langchain.chains import MapReduceDocumentsChain, ReduceDocumentsChain\n",
        "from langchain.text_splitter import CharacterTextSplitter\n",
        "\n",
        "\n",
        "# Map\n",
        "map_template = \"\"\"The following is a set of documents\n",
        "{docs}\n",
        "Based on this list of docs, please identify the main themes \n",
        "Helpful Answer:\"\"\"\n",
        "map_prompt = PromptTemplate.from_template(map_template)\n",
        "map_chain = LLMChain(llm=llm, prompt=map_prompt)\n",
        "\n",
        "# Reduce\n",
        "reduce_template = \"\"\"The following is set of summaries:\n",
        "{docs}\n",
        "Take these and distill it into a final, consolidated summary of the main themes. \n",
        "Helpful Answer:\"\"\"\n",
        "reduce_prompt = PromptTemplate.from_template(reduce_template)\n",
        "\n",
        "# Run chain\n",
        "reduce_chain = LLMChain(llm=llm, prompt=reduce_prompt)\n",
        "\n",
        "# Takes a list of documents, combines them into a single string, and passes this to an LLMChain\n",
        "combine_documents_chain = StuffDocumentsChain(\n",
        "    llm_chain=reduce_chain, document_variable_name=\"docs\"\n",
        ")\n",
        "\n",
        "# Combines and iteratively reduces the mapped documents\n",
        "reduce_documents_chain = ReduceDocumentsChain(\n",
        "    # This is final chain that is called.\n",
        "    combine_documents_chain=combine_documents_chain,\n",
        "    # If documents exceed context for `StuffDocumentsChain`\n",
        "    collapse_documents_chain=combine_documents_chain,\n",
        "    # The maximum number of tokens to group documents into.\n",
        "    token_max=4000,\n",
        ")\n",
        "\n",
        "# Combining documents by mapping a chain over them, then combining results\n",
        "map_reduce_chain = MapReduceDocumentsChain(\n",
        "    # Map chain\n",
        "    llm_chain=map_chain,\n",
        "    # Reduce chain\n",
        "    reduce_documents_chain=reduce_documents_chain,\n",
        "    # The variable name in the llm_chain to put the documents in\n",
        "    document_variable_name=\"docs\",\n",
        "    # Return the results of the map steps in the output\n",
        "    return_intermediate_steps=False,\n",
        ")\n",
        "#Can split if pages have lot of text\n",
        "'''textSplitter = RecursiveCharacterTextSplitter(chunk_size=1500, chunk_overlap=0)\n",
        "docs = textSplitter.split_documents(pages)'''\n",
        "\n",
        "print(map_reduce_chain.run(sections))"
      ],
      "outputs": [
        {
          "output_type": "stream",
          "name": "stdout",
          "text": "The main themes identified in the provided documents can be consolidated into the following summary:\n\nThe documents provide insights into ING Group's strong financial performance, with a focus on pre-provision profit, net interest income, fees, and expenses. The bank emphasizes its commitment to supporting the green transition and improving the customer experience through digital capabilities. Loan growth and deposits, strong fee growth, and cost focus are also highlighted. The bank addresses elevated risk costs, particularly related to Russia, but expresses confidence in its risk management framework. The CET1 ratio and risk-weighted assets are discussed, along with external challenges such as the invasion of Ukraine and disrupted supply chains. The bank notes that Covid circumstances are normalizing. Capital adequacy, profitability, and cost optimization are key areas of focus, as well as mitigating risks associated with Russian exposure. The impact of interest rate dynamics on net interest income is discussed, along with customer experience and digital partnerships. The documents also cover topics such as ratings migration, fees in retail markets, the bank's business model, capital management, funding costs, cost control, capital return, exposure to Russia and Ukraine, provisioning, and risk factors. It is important to note that the financial reporting is based on unaudited figures and includes forward-looking statements, with disclaimers regarding the accuracy of certain information.\n"
        }
      ],
      "execution_count": 20,
      "metadata": {
        "jupyter": {
          "source_hidden": false,
          "outputs_hidden": false
        },
        "nteract": {
          "transient": {
            "deleting": false
          }
        },
        "gather": {
          "logged": 1707927687135
        }
      },
      "id": "964a779c-11c7-46ea-a8df-008e64920320"
    },
    {
      "cell_type": "markdown",
      "source": [
        "## Option 2. Map-Reduce - Custom summarization\n",
        "### --> Extract Insights(risks/issues/concerns). Chunks:Pages, LLM:gpt-35-turbo-16k"
      ],
      "metadata": {
        "nteract": {
          "transient": {
            "deleting": false
          }
        }
      },
      "id": "45308031-d88a-4a1a-9ba8-938a1475552d"
    },
    {
      "cell_type": "code",
      "source": [
        "from langchain.chains import MapReduceDocumentsChain, ReduceDocumentsChain\n",
        "from langchain.text_splitter import CharacterTextSplitter\n",
        "\n",
        "\n",
        "# Map\n",
        "map_template = \"\"\"The following is a set of text chunks from an earnings transcript:\n",
        "{docs}\n",
        "Based on this list of chunks, please analyze the text to identify potential risks, issues and concerns the bank was facing\n",
        "For each identified risk, provide a concise description or explanation in a sentence or two, followed by formatting it into a bullet-point list\n",
        "\"\"\"\n",
        "map_prompt = PromptTemplate.from_template(map_template)\n",
        "map_chain = LLMChain(llm=llm, prompt=map_prompt)\n",
        "\n",
        "# Reduce\n",
        "reduce_template = \"\"\"The following is set of potential risks, issues and concerns identified from a bank's earnings transcript:\n",
        "{docs}\n",
        "Please take these and provide consolidated summary of the risks identified in a bullet-point list with one or two sentences for each point. Summary should have title and each bullet point should have short title.\n",
        "\"\"\"\n",
        "reduce_prompt = PromptTemplate.from_template(reduce_template)\n",
        "\n",
        "# Run chain\n",
        "reduce_chain = LLMChain(llm=llm, prompt=reduce_prompt)\n",
        "\n",
        "# Takes a list of documents, combines them into a single string, and passes this to an LLMChain\n",
        "combine_documents_chain = StuffDocumentsChain(\n",
        "    llm_chain=reduce_chain, document_variable_name=\"docs\"\n",
        ")\n",
        "\n",
        "# Combines and iteratively reduces the mapped documents\n",
        "reduce_documents_chain = ReduceDocumentsChain(\n",
        "    # This is final chain that is called.\n",
        "    combine_documents_chain=combine_documents_chain,\n",
        "    # If documents exceed context for `StuffDocumentsChain`\n",
        "    collapse_documents_chain=combine_documents_chain,\n",
        "    # The maximum number of tokens to group documents into.\n",
        "    token_max=4000,\n",
        ")\n",
        "\n",
        "# Combining documents by mapping a chain over them, then combining results\n",
        "map_reduce_chain = MapReduceDocumentsChain(\n",
        "    # Map chain\n",
        "    llm_chain=map_chain,\n",
        "    # Reduce chain\n",
        "    reduce_documents_chain=reduce_documents_chain,\n",
        "    # The variable name in the llm_chain to put the documents in\n",
        "    document_variable_name=\"docs\",\n",
        "    # Return the results of the map steps in the output\n",
        "    return_intermediate_steps=False,\n",
        ")\n",
        "\n",
        "#Can split if pages have lot of text\n",
        "'''textSplitter = RecursiveCharacterTextSplitter(chunk_size=1500, chunk_overlap=0)\n",
        "docs = textSplitter.split_documents(pages)'''\n",
        "\n",
        "print(map_reduce_chain.run(pages))"
      ],
      "outputs": [
        {
          "output_type": "stream",
          "name": "stdout",
          "text": "Summary of Potential Risks Identified from Bank's Earnings Transcript:\n\nTitle: General Risks and Concerns\n- Lack of clarity and organization in transcript's formatting and presentation.\n- Incomplete information and missing context.\n- Uncertainty and potential risk in forward-looking statements.\n- Impact of geopolitical risks and high energy prices.\n- Disruption to supply chains.\n- Risk management of Russia-related exposure.\n- Historical liability pressure turning into a tailwind.\n\nTitle: Increasing Central Bank Rates and Rising Interest Rates\n- Potential impact on lending margins from increasing Central Bank rates.\n- Potential decrease in prepayment penalty income.\n- Uncertainty regarding yield curve development and its impact on Net Interest Income (NII) growth.\n\nTitle: Fee Growth and Cost Management\n- Ambition to maintain annual growth in fees.\n- Challenges in cost management amidst inflationary pressure.\n\nTitle: Transition to Green and Digitalization\n- Risks associated with transition to renewable energy and reducing fossil fuel investments.\n- Challenges in attracting customers for green mortgages.\n- Risks associated with digitalization strategy and potential resistance from customers.\n- Need for continuous adaptation to evolving digital technologies and customer preferences.\n\nTitle: Credit Risk and Loan Portfolio\n- Concerns about credit risk exposure and potential loan defaults, particularly in the Russian portfolio.\n- Risks associated with stage migration and rating migration.\n- Potential risks and challenges in managing credit risk and loan quality.\n\nTitle: Capital Adequacy and Financial Stability\n- Potential impact on CET1 ratio and capital adequacy due to risk costs and increased credit risk-weighted assets.\n- Concerns about stability and performance of Russian market and its impact on financial stability.\n- Potential risks associated with macroeconomic uncertainties and optimizing capital structure.\n\nTitle: Growth, Customer Satisfaction, and Competition\n- Potential risks and challenges in achieving growth and maintaining profitability.\n- Concerns about customer satisfaction and competition in the market.\n\nTitle: Market Volatility and Regulatory Compliance\n- Potential risks associated with market volatility and uncertain macroeconomic conditions.\n- Compliance with regulatory requirements and potential impact on profitability and financial stability.\n\nTitle: Risks and Concerns Identified from Bank's Earnings Transcript\n- Geopolitical and Economic Risks: Invasion of Ukraine poses potential risks for the bank.\n- Russia-related Exposure: Managing risk associated with exposure to Russia.\n- Elevated Risk Costs: Potential credit risks and loan defaults.\n- CET1 Ratio Decline: Concerns about capital adequacy and ability to absorb losses.\n- RWA Growth: Increase in risk-weighted assets raises risk profile.\n- Capital Distribution: Uncertainties and need for capital preservation.\n- Faith in Track Record and Risk Framework: Emphasis on confidence in risk management.\n\nTitle: Potential Risks, Issues, and Concerns Identified from Bank's Earnings Transcript\n- Net Interest Income (NII) Uncertainty: Potential volatility or challenges in NII.\n- Basel IV Impact on CET1: Regulatory compliance risks related to capital adequacy calculations.\n- Volatility in Risk-Weighted Assets: Fluctuations or uncertainties in risk profile.\n- Lack of Clarity on Basel IV Impact: Concerns about impact on CET1.\n- Limited Information on Other Concerns: Possibility of additional risks not captured.\n- Sensitivity to GDP Growth: Concerns about impact on cost of risk.\n- Moving Parts in GDP Factors to Provision: Need for understanding elements impacting provisioning.\n- Tax Implications of Buybacks in The Netherlands: Clarification on tax implications of buybacks.\n- Revenue/P&L Loss from Unwind of Russian Activities: Financial impact of unwinding Russian activities.\n- Winding Down of Book in Russia: Challenges associated with winding down Russian activities.\n- Limited Exposure to Russia: Potential impact on growth potential.\n- Need for Growth Opportunities Outside of Russia: Necessity to explore growth opportunities beyond Russia.\n- Complexity and Risks of Tax Regulations: Concerns related to tax regulations.\n- Lack of Disclosure on Income Amount from Russia: Difficulty in assessing financial impact.\n- Concerns regarding Growth and Revenue Generation: Questions about ability to grow and generate revenue.\n"
        }
      ],
      "execution_count": 21,
      "metadata": {
        "id": "a1e6773c",
        "gather": {
          "logged": 1707928036478
        }
      },
      "id": "a1e6773c"
    },
    {
      "cell_type": "markdown",
      "source": [
        "## Option 2. Map-Reduce - Custom Summarization\n",
        "### --> Extract Insights(risks/issues/concerns). Chunks:Sections, LLM:gpt-35-turbo-16k"
      ],
      "metadata": {
        "nteract": {
          "transient": {
            "deleting": false
          }
        }
      },
      "id": "c175bf6f-16a6-45bc-9530-ed21ee75782d"
    },
    {
      "cell_type": "code",
      "source": [
        "from langchain.chains import MapReduceDocumentsChain, ReduceDocumentsChain\n",
        "from langchain.text_splitter import CharacterTextSplitter\n",
        "\n",
        "\n",
        "# Map\n",
        "map_template = \"\"\"The following is a set of text chunks from an earnings transcript:\n",
        "{docs}\n",
        "Based on this list of chunks, please analyze the text to identify potential risks, issues and concerns the bank was facing\n",
        "For each identified risk, provide a concise description or explanation in a sentence or two, followed by formatting it into a bullet-point list\n",
        "\"\"\"\n",
        "map_prompt = PromptTemplate.from_template(map_template)\n",
        "map_chain = LLMChain(llm=llm, prompt=map_prompt)\n",
        "\n",
        "# Reduce\n",
        "reduce_template = \"\"\"The following is set of potential risks, issues and concerns identified from a bank's earnings transcript:\n",
        "{docs}\n",
        "Please take these and provide consolidated summary of the risks identified in a bullet-point list with one or two sentences for each point. Summary should have title and each bullet point should have short title.\n",
        "\"\"\"\n",
        "reduce_prompt = PromptTemplate.from_template(reduce_template)\n",
        "\n",
        "# Run chain\n",
        "reduce_chain = LLMChain(llm=llm, prompt=reduce_prompt)\n",
        "\n",
        "# Takes a list of documents, combines them into a single string, and passes this to an LLMChain\n",
        "combine_documents_chain = StuffDocumentsChain(\n",
        "    llm_chain=reduce_chain, document_variable_name=\"docs\"\n",
        ")\n",
        "\n",
        "# Combines and iteratively reduces the mapped documents\n",
        "reduce_documents_chain = ReduceDocumentsChain(\n",
        "    # This is final chain that is called.\n",
        "    combine_documents_chain=combine_documents_chain,\n",
        "    # If documents exceed context for `StuffDocumentsChain`\n",
        "    collapse_documents_chain=combine_documents_chain,\n",
        "    # The maximum number of tokens to group documents into.\n",
        "    token_max=4000,\n",
        ")\n",
        "\n",
        "# Combining documents by mapping a chain over them, then combining results\n",
        "map_reduce_chain = MapReduceDocumentsChain(\n",
        "    # Map chain\n",
        "    llm_chain=map_chain,\n",
        "    # Reduce chain\n",
        "    reduce_documents_chain=reduce_documents_chain,\n",
        "    # The variable name in the llm_chain to put the documents in\n",
        "    document_variable_name=\"docs\",\n",
        "    # Return the results of the map steps in the output\n",
        "    return_intermediate_steps=False,\n",
        ")\n",
        "\n",
        "#Can split if pages have lot of text\n",
        "'''textSplitter = RecursiveCharacterTextSplitter(chunk_size=1500, chunk_overlap=0)\n",
        "docs = textSplitter.split_documents(pages)'''\n",
        "\n",
        "print(map_reduce_chain.run(sections))"
      ],
      "outputs": [
        {
          "output_type": "stream",
          "name": "stdout",
          "text": "Title: Overall Risks and Concerns\n- Financial performance expectations: Risk of not meeting financial performance expectations.\n- Regulatory compliance: Concerns about compliance with regulatory requirements.\n- Market volatility: Awareness of market volatility and its impact on the business.\n- Securities offering: Concerns about legal and regulatory compliance in securities transactions.\n- Financial performance: Focus on maintaining or improving financial results.\n- Risk management: Focus on managing and mitigating risks within the bank.\n- Investor confidence: Emphasis on maintaining or enhancing investor confidence.\n\nTitle: Geopolitical and Macroeconomic Risks\n- Ukraine invasion: Adverse impact on operations and exposure to Russia-related assets.\n- Energy prices and supply chain disruptions: Potential impact on customers and economy, leading to higher loan default rates.\n- Elevated risk costs and credit risk: Potential credit risk and increased provisions, especially related to Russia.\n- Capital adequacy concerns: Concerns about capital adequacy due to downgraded ratings and risk-weight floor on Dutch mortgages.\n- Decrease in core deposits and loan growth: Potential decrease in customer confidence and demand for loans, impacting interest income.\n- Cost management challenges: Need for cost reduction and efficiency improvements amid inflation.\n\nTitle: Operational and Safety Concerns\n- Russia-related exposure: Operational and safety concerns related to geopolitical events and managing risk exposure.\n- Green transition and digitalization: Need to adapt to changing customer preferences and industry trends.\n\nTitle: Monetary Policy and Interest Rate Risks\n- Negative interest rate charging: Potential impact on profitability in eurozone countries.\n- Non-liability net interest income: Potential impact from client rates tracking funding costs and reduced prepayment penalty income on mortgages.\n- European Central Bank's normalization of monetary policy: Uncertainty and potential risks to operations.\n- Increase in rates in non-Eurozone countries: Potential impact on lending margins.\n\nTitle: Risks and Opportunities in Renewable Energy Transition\n- Financing risks: Market volatility and regulatory changes in financing renewable power generation.\n- Portfolio concentration risks: Exposure to risks specific to the renewable energy sector.\n- Financing growth challenges: Finding suitable investment opportunities and managing associated risks.\n- Exclusion of oil and gas fields: Potential revenue limitations and risks associated with over-reliance on renewables.\n- Green residential mortgages: Risks associated with demand, pricing, and performance in the market.\n- Transition support risks: Financial viability and success of client projects and potential reputational risks.\n- Maintaining reputation: Risks associated with maintaining recognition and meeting future expectations.\n- Digitalization risks: Technology failures, data security breaches, and customer adoption and satisfaction levels.\n- Mobile channel risks: Challenges in maintaining and enhancing mobile offering and managing customer interactions.\n- Digitalization strategy risks: Project execution, integration complexities, and delivering expected improvements.\n- Investment offering risks: Managing increased volumes, regulatory compliance, and meeting customer expectations.\n- Investor Day and financial results risks: Managing expectations, communicating strategy, and addressing potential concerns from investors.\n\nTitle: Fee Income and Financial Performance Risks\n- Investment activity decline: Potential decrease in investment activity or demand for investment products.\n- Retail investment decline: Potential decline in retail investment activity.\n- Increased credit risk exposure: Potential increased credit risk exposure in Wholesale Banking.\n- Cost management and compliance costs: Potential challenges in improving profitability and higher compliance costs.\n- Credit quality and loan portfolio risks: Deterioration in credit quality and increased risk in the loan portfolio.\n- Russia-related exposure risks: Concerns about geopolitical risks and economic instability in Russia.\n- Capital adequacy and credit losses concerns: Potential concerns about credit losses and capital adequacy.\n- Macroeconomic risks and uncertainties: Potential macroeconomic risks and uncertainties related to the situation in Ukraine.\n\nTitle: Capital Adequacy and CET1 Ratio Risks\n- Decreasing CET1 ratio: Potential risk of capital adequacy and limitations on absorbing losses.\n- Declining profitability: Potential risk of declining profitability and reduced returns for shareholders.\n- High cost to income ratio: Potential risk of inefficient cost management and challenges in improving profitability.\n- Lower distribution per share: Potential risk of lower dividend payouts to shareholders, impacting investor confidence.\n\nTitle: Risk Costs, Ratings Migration, and RWA Inflation\n- Elevated risk costs and Russian exposure: Increased risk costs and capital costs related to Russia-related exposure.\n- Ratings migration and portfolio improvements: Concerns about potential reversal of positive ratings migration and improving portfolio structure.\n- Competition and fee potential: Competition challenges and potential for fee growth in various markets.\n- RWA inflation and improvements: Managing inflation of Risk-Weighted Assets and sustaining improvements in Wholesale Banking.\n\nTitle: Determining Special Distribution, Cost Trajectory, and Funding Costs\n- Size of special distribution: Challenges in determining appropriate size and repeatability of special distribution.\n- Cost trajectory and inflationary pressure: Need to consider cost trajectory and manage costs in the face of inflationary pressures.\n- Front book margins and funding costs: Pressure on front book margins, funding costs, and prepayment income.\n- Gradual benefits from past decisions: Gradual realization of benefits from cost efficiency decisions and winding down operations.\n- Inflation and investment challenges: Navigating challenges of inflation and investing in digitalization while controlling costs.\n- Capital management and Russian exposure: Determining capital size, managing Russian exposure, and stress test scenarios.\n- Constructive discussions with the ECB: Engaging with the ECB on capital management strategy and gaining approval.\n\nTitle: Stagflation, Cost of Risk, and Distribution Mix\n- Impact of stagflation: Adjusting loan growth assumptions and monitoring credit repayment capabilities in stagflation scenario.\n- Uncertainty in cost of risk: Difficulty in determining exact impact of stagflation on cost of risk and potential volatility.\n- Mix of distributions: Managing mix of capital distributions between dividends and share buybacks, considering tax requirements.\n\nSummary of Risks Identified in Bank's Earnings Transcript:\n- Various risks and concerns identified across different areas of the bank's operations and external environment.\n- Emphasis on financial performance, regulatory compliance, risk management, and maintaining investor confidence.\n- Specific risks related to geopolitical events, interest rates, renewable energy transition, and digitalization.\n- Concerns about capital adequacy, credit quality, loan portfolio, and potential impact of economic conditions.\n- Challenges in cost management, profitability, and managing investor expectations.\n- Risks related to Russia and Ukraine, regulatory changes, cybersecurity, and climate change.\n"
        }
      ],
      "execution_count": 22,
      "metadata": {
        "jupyter": {
          "source_hidden": false,
          "outputs_hidden": false
        },
        "nteract": {
          "transient": {
            "deleting": false
          }
        },
        "gather": {
          "logged": 1707928401739
        }
      },
      "id": "f7188fee-6c85-4e1d-825a-2d1df189c957"
    },
    {
      "cell_type": "markdown",
      "source": [
        "## Option 3. Refine - Generic Summarization\n",
        "### --> Chunks:Sections, LLM:gpt-35-turbo-16k\n"
      ],
      "metadata": {
        "id": "f08ff365"
      },
      "id": "f08ff365"
    },
    {
      "cell_type": "code",
      "source": [
        "prompt_template = \"\"\"Write a concise summary of the following:\n",
        "{text}\n",
        "CONCISE SUMMARY:\"\"\"\n",
        "prompt = PromptTemplate.from_template(prompt_template)\n",
        "\n",
        "refine_template = (\n",
        "    \"Your job is to produce a final summary\\n\"\n",
        "    \"We have provided an existing summary up to a certain point: {existing_answer}\\n\"\n",
        "    \"We have the opportunity to refine the existing summary\"\n",
        "    \"(only if needed) with some more context below.\\n\"\n",
        "    \"------------\\n\"\n",
        "    \"{text}\\n\"\n",
        "    \"------------\\n\"\n",
        "    \"Given the new context, refine the original summary\"\n",
        "    \"If the context isn't useful, return the original summary.\"\n",
        ")\n",
        "\n",
        "\n",
        "refine_prompt = PromptTemplate.from_template(refine_template)\n",
        "chain = load_summarize_chain(\n",
        "    llm=llm,\n",
        "    chain_type=\"refine\",\n",
        "    question_prompt=prompt,\n",
        "    refine_prompt=refine_prompt,\n",
        "    return_intermediate_steps=True,\n",
        "    input_key=\"input_documents\",\n",
        "    output_key=\"output_text\",\n",
        ")\n",
        "result = chain({\"input_documents\": sections}, return_only_outputs=True)\n",
        "print(result[\"output_text\"])"
      ],
      "outputs": [
        {
          "output_type": "stream",
          "name": "stdout",
          "text": "ING reported a net profit of €429 million for Q1 2022, driven by loan growth in the retail segment and continued fee income growth. The company acknowledged challenges posed by the invasion of Ukraine, high energy prices, and disrupted supply chains. ING plans to pay a final cash dividend of €0.41 per share and distribute an additional €1.25 billion to optimize its capital structure. The bank aims to maintain an attractive total return through growth, cost and capital optimization, and achieving a cost-income ratio of 50-52%. ING feels confident in its current provisioning and capital adequacy regarding its Russian exposure, which is covered by €2.5 billion within the CET1 ratio. The CEO mentioned that the bank currently incurs €300 million annually due to negative interest rate charging and expects this amount to be lost once the ECB rate hikes from minus 50 to zero. Loan growth in the Wholesale segment mainly comes from syndicated markets, while real estate finance has decreased. ING expects positive effects on net interest income (NII) from rate increases in non-Eurozone markets such as Poland, Romania, and Australia. The bank anticipates NII to turn positive this year and will provide more sensitivity information during the Investor Day. ING expects less prepayments due to higher mortgage rates but remains positive about continued loan growth in the retail segment, particularly in markets like Germany where there is still a shortage of houses. The target CET1 level for the end of the year is not 14.5%, but rather a gradual move towards 12.5% in the next couple of years. ING's discussions with the ECB regarding capital return have been constructive, and the pace at which ING reaches a CET1 ratio of 12.5% will be determined by its own capital management, geopolitical situation, and credit risk. The bank will provide more guidance on net interest income during an upcoming sensitivity presentation on June 13th. The sensitivity scenario regarding GDP growth and its implications on the cost of risk was discussed during the analyst meeting, but ING did not disclose specific details on the moving parts and factors to provision. Additional context was provided regarding the bank's exposure to Russia, with a gradual winding down of its activities in the country. The impact on ING's overall growth is limited, as the bank has ample opportunities for growth in other markets. Further details on tax implications and revenue impacts were not disclosed during the call. In terms of financial performance, there were some volatile items, such as valuation adjustments, capital gains/losses, hedge ineffectiveness, and other items income, that fluctuated throughout the quarters. Incidental items expenses also varied, including redundancy and restructuring costs. ING has a well-diversified and well-collateralized loan book with a strong focus on own-originated mortgages and senior loans. The loan portfolio is well diversified across geographies and sectors, with growth markets accounting for €320 billion and the European network accounting for €244 billion. The bank has exposure to various industries, including real estate, infrastructure, construction, commodities, food and agriculture, TMT and healthcare, transportation and logistics, energy, diversified corporates, financial institutions, and others. ING is directly exposed to oil price risk in certain regions, such as Asia, but not in others, such as Hong Kong. The bank also has a presence in North America, Africa, and other parts of Asia. As of March 31, 2022, ING's total Russia-related exposure was €5.8 billion, while its total Ukraine-related exposure was €0.6 billion. The provisioning for Q1 2022 includes Stage 1, Stage 2, and Stage 3 provisions, with the main drivers being the release of Covid-19 related sector overlays, rating downgrades, stage migration, management overlay related to Russian exposure, and updated macroeconomic indicators. The financial information is prepared in accordance with IFRS-EU, and the unaudited figures may differ slightly due to rounding. The statements in the document are forward-looking and involve known and unknown risks and uncertainties that may cause actual results to differ from expectations. ING does not guarantee the accuracy or completeness of information on third-party websites mentioned in the document. The company has no obligation to update forward-looking statements. The document does not constitute an offer to sell securities in the United States or any other jurisdiction.\n"
        }
      ],
      "execution_count": 24,
      "metadata": {
        "jupyter": {
          "source_hidden": false,
          "outputs_hidden": false
        },
        "nteract": {
          "transient": {
            "deleting": false
          }
        },
        "gather": {
          "logged": 1707929202121
        }
      },
      "id": "0008215d-ba40-4be1-86f6-d5b347ca647a"
    },
    {
      "cell_type": "code",
      "source": [
        "print(\"\\n\\n\".join(result[\"intermediate_steps\"][:3]))"
      ],
      "outputs": [
        {
          "output_type": "stream",
          "name": "stdout",
          "text": "ING reported a net profit of €429 million for the first quarter of 2022. The CEO, Steven van Rijswijk, discussed the company's financial performance and future developments during a conference call. The company emphasized that forward-looking statements should be taken with caution and that actual results may differ from projections. The CEO was joined by the CFO and CRO during the call.\n\nING reported a net profit of €429 million for the first quarter of 2022. The CEO, Steven van Rijswijk, discussed the company's financial performance and future developments during a conference call. The company emphasized that forward-looking statements should be taken with caution and that actual results may differ from projections. The CEO was joined by the CFO and CRO during the call. The pre-provision profit was strong, supported by resilient net interest income (NII), strong fees, and lower expenses. The company highlighted its support for the green transition through renewable energy financing and increasing support for clients in their transitions. ING also focused on enhancing its digital capabilities to offer a superior customer experience. Loan growth in the retail segment was driven by mortgages, while the wholesale banking segment saw repayments of short-term facilities. Strong fee growth was driven by actions in daily banking and syndicated deal activity. Despite inflation, the company achieved lower expenses. Elevated risk costs were mainly driven by provisioning for Russia-related exposure, which the company has reduced over the past months. The CET1 ratio decreased due to higher risk weights and downgraded ratings of Russia-related exposure. ING plans to pay a final cash dividend of €0.41 per share and make a €1.25 billion additional distribution. The company acknowledged the challenges posed by the invasion of Ukraine, high energy prices, and disrupted supply chains, and expressed its commitment to supporting colleagues and managing the risk of Russia-related exposure.\n\nING reported a net profit of €429 million for the first quarter of 2022. The CEO, Steven van Rijswijk, discussed the company's financial performance and future developments during a conference call, highlighting the company's support for the green transition and focus on enhancing digital capabilities. Loan growth in the retail segment was driven by mortgages, while the wholesale banking segment saw repayments of short-term facilities. Strong fee growth was driven by actions in daily banking and syndicated deal activity. The company achieved lower expenses despite inflation. Elevated risk costs were mainly driven by provisioning for Russia-related exposure. ING plans to pay a final cash dividend of €0.41 per share and make a €1.25 billion additional distribution. The company acknowledged the challenges posed by the invasion of Ukraine, high energy prices, and disrupted supply chains, and expressed its commitment to supporting colleagues and managing the risk of Russia-related exposure. The pre-provision profit, excluding volatile items and regulatory costs, increased both year-on-year and quarter-on-quarter. NII (excluding TLTRO III) was resilient, reflecting the effect of rising interest rates. The share of fee income increased, and the company achieved good cost control. The CEO mentioned that the yield curve development will be supportive of NII growth, and the company maintains its ambition of 5%-10% annual fee growth. Operating costs were lower despite inflationary pressure, and the company aims to keep costs at least flat this year.\n"
        }
      ],
      "execution_count": 25,
      "metadata": {
        "jupyter": {
          "source_hidden": false,
          "outputs_hidden": true
        },
        "nteract": {
          "transient": {
            "deleting": false
          }
        },
        "gather": {
          "logged": 1707929309290
        }
      },
      "id": "5d1c2421-7f9e-4f5b-988f-cf9754c8b259"
    },
    {
      "cell_type": "markdown",
      "source": [
        "## Option 3: Refine - Custom summarization\n",
        "### --> Extract Insights(risks/issues/concerns). Chunks:Sections, LLM:gpt-35-turbo-16k"
      ],
      "metadata": {
        "nteract": {
          "transient": {
            "deleting": false
          }
        }
      },
      "id": "474c405e-9f75-47bf-8302-62d1dfb4340e"
    },
    {
      "cell_type": "code",
      "source": [
        "prompt_template = \"\"\"You are an AI with expertise in analyzing financial earnings transcripts to identify potential risks, issues, and concerns that could impact a company's performance. \n",
        "Following is text from a Financial Company's earnings transcript. \n",
        "{text}\n",
        "Analyze the above text to identify potential risks, issues and concerns \n",
        "the company was facing . Write a concise summary on those potential risks, issues and concerns\n",
        "\"\"\"\n",
        "prompt = PromptTemplate.from_template(prompt_template)\n",
        "\n",
        "\n",
        "\n",
        "refine_template = \"\"\"You are an AI with expertise in analyzing financial earnings transcripts to identify potential risks, issues, and concerns that could impact a company's performance. \n",
        "\n",
        "Existing Summary of Potential Risks, Issues, and Concerns:\n",
        "{existing_answer}\n",
        "\n",
        "Please review the following new text from a recent financial earnings transcript:\n",
        "{text}\n",
        "\n",
        "Based on your analysis, refine the existing summary with any new potential risks, issues, and concerns identified in the new text. Ensure to:\n",
        "- Clearly distinguish between previously identified risks and any new insights.\n",
        "- Provide a concise explanation for each new risk, issue, or concern identified.\n",
        "- If no new risks or issues are found, return the existing summary. \n",
        "\n",
        "Your goal is to ensure that the summary of identified risks, issues, and concerns is current and reflects any new information presented in the latest earnings transcript.\n",
        "\"\"\"\n",
        "\n",
        "refine_prompt = PromptTemplate.from_template(refine_template)\n",
        "chain = load_summarize_chain(\n",
        "    llm=llm,\n",
        "    chain_type=\"refine\",\n",
        "    question_prompt=prompt,\n",
        "    refine_prompt=refine_prompt,\n",
        "    return_intermediate_steps=True,\n",
        "    input_key=\"input_documents\",\n",
        "    output_key=\"output_text\",\n",
        ")\n",
        "result = chain({\"input_documents\": sections}, return_only_outputs=True)\n",
        "print(result[\"output_text\"])"
      ],
      "outputs": [
        {
          "output_type": "stream",
          "name": "stdout",
          "text": "Updated Summary of Potential Risks, Issues, and Concerns:\n1. Elevated risk cost impacting ROE: The mention of elevated risk costs impacting ROE suggests a potential increase in credit losses or provisions. This can arise from factors such as deteriorating credit quality, economic downturn, or higher default rates. Elevated risk costs can reduce ING's profitability and adversely impact its financial performance.\n\n2. Impact of invasion of Ukraine: The invasion of Ukraine poses new challenges for ING. Geopolitical tensions and potential economic impacts from the invasion can result in increased credit losses, market volatility, regulatory changes, and geopolitical uncertainties. These risks can negatively affect ING's operations and financial performance.\n\n3. Stagflation concerns: The mention of stagflation raises concerns about lower-than-expected growth and higher inflation. While ING benefits from a strong risk management framework and low-risk book structure, managing this scenario may still pose a challenge. The potential impact on the cost of risk is uncertain, but ING maintains a through-the-cycle perspective and believes it can manage the situation with no significant volatility in the cost of risk other than 25 bps.\n\n4. Negative interest rate impact: The question about the impact of ECB rate hikes and going back to zero raises concerns about the potential loss from negative deposit charging. Currently, ING incurs EUR 300 million on an annual basis from negative interest rate charging. As market rates change, the bank may also lose this amount. This can affect ING's net interest income and overall financial performance.\n\n5. Run down of the Russian book: The mention of the normal rundown of the Russian book based on maturities poses a potential risk for ING. While ING has credit insurance for a good part of the long-term portfolio, the run-down of the short part may continue. This can lead to a reduced portfolio size and potential impacts on ING's performance.\n\n6. Potential impact of negative rates on revenue: The mention of the Wholesale bank being neutrally geared towards negative rates raises concerns about the potential impact on revenue as negative rates disappear. While there is an expectation of not losing revenue, the exact outcome is uncertain, and any revenue loss can affect ING's financial performance.\n\n7. Impact of higher mortgage rates on loan growth: The mention of higher mortgage rates and the impact on origination and loan growth in mortgages raises a new concern. If higher mortgage rates lead to decreased demand for mortgages, it could impact ING's loan growth in the retail sector. This can potentially affect the bank's overall financial performance.\n\n8. Exposure reduction in Russia and potential write-backs: The CEO mentioned a decrease in exposure with approximately EUR 1 billion in Russia. If the short-term exposure gets repaid back, there may be write-backs in terms of risk-weighted assets (RWA). However, the credit component's development in line with the exposure is uncertain and may pose risks to ING's financial performance.\n\n9. Provisions allocation onshore vs. offshore in Russia: The question about the allocation of provisions onshore and offshore in Russia indicates a need for clarification on the accounting treatment. The differentiation between onshore and offshore provisions can have implications for ING's financial reporting and risk management practices.\n\n10. Uncertainty surrounding sanctions exposure and repayments: The mention of EUR 3.3 billion in sanctions exposure and the potential for additional sanctions raises concerns about the uncertainty surrounding the amount and the impact on repayments. The speed at which this exposure may decrease due to sanctions and repayments is unclear, and ING's financial performance could be affected by changes in the sanctions landscape.\n\n11. Regulatory headwinds beyond Basel IV: The mention of potential regulatory headwinds in excess capital consideration prompts the need for further information on upcoming regulatory changes. While Basel IV is mentioned as a major regulatory framework, there may be other regulatory developments throughout the year that could impact ING's operations and financial performance. Clarification is needed to assess the potential risks and challenges associated with these regulatory headwinds.\n\n12. Uncertainty regarding Net Interest Income (NII) guidance: The mention of providing more guidance on NII sensitivity on June 13th raises concerns about the uncertainty surrounding ING's Net Interest Income. Without clear guidance, it becomes challenging to assess the potential impact on ING's financial performance and make informed investment decisions.\n\n13. Implications of macroeconomic factors on cost of risk: The mention of the complexity behind determining the cost of risk based on GDP alone raises concerns about the implications of other macroeconomic factors such as inflation, unemployment, and energy prices. Without disclosure of the specific moving parts, it becomes difficult to assess the potential impact on ING's cost of risk and its overall financial performance.\n\n14. Tax implications of buybacks in The Netherlands: The request for more explanation about the tax implications of buybacks in The Netherlands raises a new concern. Understanding the tax implications is crucial in determining the feasibility and impact of future capital return decisions, including the choice between cash dividends and buybacks. Lack of clarity on this matter can hinder effective capital management and potentially impact ING's financial performance.\n\n15. Revenue/P&L loss from unwind of Russian activities: The request for disclosure about the revenue/P&L loss on the unwind of the Russian activities highlights a new risk. The unwind of Russian activities may result in a loss of revenue or negative impact on the profit and loss statement. Without specific disclosure, it becomes challenging to assess the potential financial impact of this unwind on ING's overall performance.\n\n16. Implications of potential higher provisioning: The mention of potential higher provisioning due to the pandemic and the need to assess the impact raises a new concern. The ongoing COVID-19 pandemic may lead to increased credit losses and provisions, impacting ING's financial performance. The extent of the impact and the adequacy of existing provisions need to be evaluated to understand the potential risks and challenges for ING.\n\n17. Volatile items in income and expenses: The new information provided in the financial earnings transcript highlights the volatility in ING's income and expenses. Fluctuations in valuation adjustments, capital gains/losses, hedge ineffectiveness, and other income items can impact ING's financial performance. Similarly, incidental items expenses can add unpredictability to ING's financial results. Managing and mitigating these volatile items and expenses is crucial for ING to maintain stability and profitability.\n\n18. Regulatory costs: The significant regulatory costs reported in the transcript raise concerns about the financial impact on ING. The magnitude of these costs, especially the negative trend observed over multiple quarters, can impact ING's profitability and financial performance. Understanding the nature and reasons behind these regulatory costs is essential for effective financial planning and risk management.\n\n19. Diversification and collateralization of loan book: The new information from the transcript highlights ING's well-diversified and well-collateralized loan book, with a strong focus on own-originated mortgages and senior loans. While this information may indicate a lower level of risk, it is important to monitor the performance of these loans and ensure that the collateral remains sufficient to mitigate potential credit losses.\n\n20. Exposure to oil price risk: The mention of direct exposure to oil price risk in Hong Kong and indirect exposure in other Asian countries raises a new concern. Fluctuations in oil prices can impact the credit quality of borrowers in the oil and gas industry, potentially leading to increased credit losses and provisions. Assessing and managing this exposure is crucial for ING to mitigate potential risks and challenges in its loan portfolio.\n\n21. Russian and Ukrainian exposure: The new information from the transcript reveals ING's lending credit outstandings related to Russia and Ukraine. The exposure to Russian borrowers with Russian ownership, Russian borrowers with non-Russian ownership, and non-Russian borrowers with Russian ownership presents potential risks due to geopolitical tensions, economic impacts, and sanctions. Similarly, the exposure to Ukraine raises concerns about the potential impact of geopolitical events and economic instability on ING's financial performance. Assessing and managing these exposures is important for mitigating potential credit losses and regulatory risks.\n\n22. Stage 1, 2, and 3 provisioning: The information provided in the financial earnings transcript about Stage 1, 2, and 3 provisioning raises new concerns. The partial release of Covid-19 related sector overlays, rating downgrades, stage migration, management overlay related to Russian exposure, and updated macroeconomic indicators can impact ING's provisioning levels and financial performance. Understanding the drivers and implications of these provisioning changes is important for assessing the potential risks and challenges associated with credit quality and loan losses.\n\n23. General risks and uncertainties: The new text highlights various general risks and uncertainties that can impact ING's financial performance. These include changes in general economic conditions, effects of the Covid-19 pandemic, changes in interest rate levels, market disruptions, fiscal uncertainty, changes in regulations, geopolitical risks, legal and regulatory challenges, operational and IT risks, changes in tax laws, changes in competitive landscape, and other business risks. Monitoring and managing these risks is essential for ING to navigate through uncertainties and maintain its financial stability and profitability.\n"
        }
      ],
      "execution_count": 31,
      "metadata": {
        "id": "f86c8072",
        "gather": {
          "logged": 1707933799967
        }
      },
      "id": "f86c8072"
    },
    {
      "cell_type": "code",
      "source": [
        "print(\"\\n\\n\".join(result[\"intermediate_steps\"]))"
      ],
      "outputs": [
        {
          "output_type": "stream",
          "name": "stdout",
          "text": "From the provided text, there are a few potential risks, issues, and concerns that can be identified for ING:\n\n1. Forward-looking statements: The mention of forward-looking statements indicates that there is uncertainty regarding the future developments and financial performance of the company. Actual results may differ from the projections, which could impact ING's performance.\n\n2. Regulatory compliance: The reference to public filings, including the most recent Annual Report on Form 20-F filed with the United States Securities and Exchange Commission, suggests that regulatory compliance is an important concern for ING. Non-compliance with regulations could result in penalties or reputational damage.\n\n3. Economic conditions: The transcript does not explicitly mention economic conditions, but the overall tone of caution and the need to discuss factors that may cause actual results to differ from projections indicates that ING may be concerned about the impact of economic conditions on its financial performance.\n\n4. Market competition: The transcript does not provide direct information about market competition, but the need to present positive results and address potential concerns suggests that ING may be facing competition from other financial institutions. Maintaining market share and profitability in a competitive environment can be a challenge.\n\n5. Investor confidence: The disclaimer about today's comments not constituting an offer to sell or a solicitation of an offer to buy any securities indicates that ING may be concerned about maintaining investor confidence. This suggests that any negative news or uncertainties could impact the company's stock price and investor sentiment.\n\nOverall, the potential risks, issues, and concerns for ING include the uncertainty of forward-looking statements, regulatory compliance, economic conditions, market competition, and investor confidence.\n\nBased on the new text from the recent financial earnings transcript, the following new potential risks, issues, and concerns can be identified for ING:\n\n1. Repayments and loan growth: The transcript mentions that loan growth in Wholesale Banking was €-5.2 billion, including repayments of short-term facilities in Financial Markets. This suggests that ING may be experiencing a decrease in loan and credit activity, which could impact its revenue and profitability.\n\n2. Risk costs and exposure: The elevated risk costs of €987 million, mainly driven by Stage 2 provisioning for Russia-related exposure, indicate that ING may have significant exposure to risky assets in its loan book. This exposes the company to potential losses if these assets deteriorate in value or default.\n\n3. CET1 ratio decline: The decline in the CET1 ratio to 14.9% is primarily driven by higher risk-weighted assets (RWA) due to downgraded ratings of Russia-related exposure and the announced risk-weight floor on Dutch mortgages. A lower CET1 ratio indicates a decrease in the bank's capital adequacy and may limit its ability to absorb potential losses.\n\n4. External challenges: The transcript mentions challenges such as the invasion of Ukraine, high energy prices, and disrupted supply chains. These external challenges could impact ING's operations, including potential disruptions to its business activities and increased credit risk.\n\n5. Mortgage loans and NII: The mention of mortgage loan growth and the turning of liability income pressure into a tailwind for net interest income (NII) suggest that ING's performance is still heavily reliant on its mortgage business. This concentration of risk in the mortgage market could expose the bank to potential risks associated with changes in the housing market.\n\n6. Digital capabilities and customer experience: The mention of adding digital capabilities to offer a superior customer experience highlights the importance of technology and digitalization in ING's strategy. However, any issues or challenges in implementing and maintaining these digital capabilities could impact its ability to meet customer expectations and compete effectively in the market.\n\nIn summary, the new potential risks, issues, and concerns for ING include repayments and loan growth, risk costs and exposure, CET1 ratio decline, external challenges, reliance on mortgage loans and NII, and digital capabilities and customer experience. These new insights complement the existing summary and provide a more current assessment of the potential risks and concerns for the company.\n\nBased on the analysis of the new text from the recent financial earnings transcript, the following new potential risks, issues, and concerns can be identified for ING:\n\n7. NII impact of rising interest rates: The transcript mentions that NII (excl. TLTRO III) was resilient, reflecting the effect of rising interest rates. However, it also states that client rates generally track higher funding rates with some delay, which impacted lending margins and prepayment penalty income. This highlights the potential risk of decreased NII growth if interest rates continue to rise, affecting ING's profitability.\n\n8. Inflationary pressure on operating costs: The text mentions that operating costs were lower year-on-year and quarter-on-quarter despite inflationary pressure, mainly visible in salaries in some countries. While ING has managed to control costs, the persistence of higher inflation could pose challenges in maintaining cost control, potentially impacting the bank's overall financial performance.\n\nThese new insights complement the existing summary and provide a more current assessment of the potential risks and concerns for ING.\n\nNew Potential Risks, Issues, and Concerns:\n\n9. Dependence on the green transition: The new text highlights ING's focus on financing the green transition and supporting renewable energy projects. While this presents a growth opportunity, it also introduces a potential risk if the green transition faces obstacles or setbacks. ING's heavy reliance on the success of the green transition could impact its financial performance if there are delays or challenges in the adoption of renewable energy sources.\n\n10. Concentration in power generation book: The transcript mentions that ING's renewables book doubled since 2016 to €7.3 billion in 2021, accounting for 60% of the total power generation book. While this indicates ING's commitment to renewable energy, it also suggests a concentration of risk in this sector. Any adverse developments or downturns in the renewable energy market could have a significant impact on ING's overall financial performance.\n\n11. Potential reputational risks: ING's efforts to support the green transition, such as not financing new oil and gas fields and introducing green mortgages, have received recognition and awards. However, the bank's reputation could be at risk if it fails to meet its sustainability commitments or if its clients or projects associated with ING's green financing face environmental controversies or reputational issues. Such risks could impact customer trust and loyalty, potentially affecting ING's business operations.\n\nThese new insights, along with the previously identified risks and concerns, provide a comprehensive assessment of the potential risks and issues that could impact ING's performance.\n\nNew Potential Risks, Issues, and Concerns:\n\n12. Pressure on lending margins: The transcript indicates that there is pressure on lending margins due to rising interest rates. This poses a risk to ING's financial performance as higher funding costs may not be immediately passed on to clients, resulting in squeezed margins. If this pressure on lending margins persists, it could negatively impact ING's profitability.\n\n13. Decline in net core deposits: The transcript reveals a decline of €0.7 billion in net core deposits, primarily driven by lower deposits in Germany due to the introduction of negative interest rate charging. This decline in deposits could restrict ING's ability to generate interest income and lend to customers, potentially impacting its overall financial performance.\n\n14. Decline in Wholesale Banking: The transcript highlights a decline of €5.2 billion in Wholesale Banking, mainly in Financial Markets, due to repayments of short-term facilities. This decline suggests a decrease in trading activities and potentially reduced revenue from Wholesale Banking. If this decline continues or worsens, it could negatively impact ING's financial performance.\n\nThese new risks, along with the previously identified risks and concerns, provide a comprehensive assessment of the potential risks and issues that could impact ING's performance.\n\nExisting Summary of Potential Risks, Issues, and Concerns:\n12. Pressure on lending margins: The transcript indicates that there is pressure on lending margins due to rising interest rates. This poses a risk to ING's financial performance as higher funding costs may not be immediately passed on to clients, resulting in squeezed margins. If this pressure on lending margins persists, it could negatively impact ING's profitability.\n\n13. Decline in net core deposits: The transcript reveals a decline of €0.7 billion in net core deposits, primarily driven by lower deposits in Germany due to the introduction of negative interest rate charging. This decline in deposits could restrict ING's ability to generate interest income and lend to customers, potentially impacting its overall financial performance.\n\n14. Decline in Wholesale Banking: The transcript highlights a decline of €5.2 billion in Wholesale Banking, mainly in Financial Markets, due to repayments of short-term facilities. This decline suggests a decrease in trading activities and potentially reduced revenue from Wholesale Banking. If this decline continues or worsens, it could negatively impact ING's financial performance.\n\nNew Potential Risks, Issues, and Concerns:\n15. Mortgage lending concentration: The transcript mentions that mortgages were again the primary driver of growth in the Retail segment, particularly in Germany, Australia, and Spain. While this indicates strong demand, it also highlights a concentration of ING's lending portfolio in mortgages. If there is a downturn in the housing market or an increase in mortgage defaults, it could pose a risk to ING's financial stability and profitability.\n\n16. Lower loan growth in Wholesale Banking: The transcript states that loan growth in Wholesale Banking was affected by repayments on short-term facilities in Financial Markets. Although there are signs of demand in the pipeline, the higher level of macroeconomic uncertainty for 2022 is expected to result in loan growth below ING's target of 3% to 4%. Lower loan growth in Wholesale Banking could impact ING's revenue and profitability in this segment.\n\n17. Seasonal outflow of deposits in Retail: The transcript reveals a seasonal outflow of €7 billion in net customer deposits in the Retail segment, primarily driven by an outflow in Germany following the introduction of negative interest rates. This highlights a potential risk of deposit volatility and the need for ING to manage its funding sources effectively to maintain liquidity and support lending activities.\n\n18. Macroeconomic uncertainty: The transcript mentions a higher level of macroeconomic uncertainty for 2022. This uncertainty could stem from various factors such as global economic conditions, geopolitical tensions, or regulatory changes. Increased uncertainty can impact customer behavior, investment decisions, and overall market conditions, potentially affecting ING's financial performance and ability to achieve its growth ambitions.\n\nThe refined summary incorporates the new risks and concerns identified in the latest earnings transcript, providing a comprehensive assessment of the potential risks and issues that could impact ING's performance.\n\nNew Potential Risks, Issues, and Concerns:\n\n19. Dependency on fee income growth: The latest earnings transcript indicates a continued growth in fee income for ING. While this is positive in terms of revenue diversification, it also highlights a potential risk of dependency on fee income for overall financial performance. If there is a slowdown in fee growth or a decline in fee income, it could impact ING's profitability and ability to generate consistent revenue.\n\n20. Decline in fees from investment products: The transcript mentions a decline in fees from investment products compared to the record-high level in 1Q2021. This decline could be a concern as it suggests a potential decrease in demand or activity in the investment products segment. If this trend continues, it could impact ING's fee income and overall financial performance.\n\n21. Lower activity in Corporate Finance: The transcript reveals lower fees in Corporate Finance in Wholesale Banking. This indicates a decrease in activity in this segment, potentially due to reduced deal flow or market conditions. Lower activity in Corporate Finance can impact fee income and revenue generation for ING in Wholesale Banking.\n\n22. Potential impact of macroeconomic conditions: While not explicitly mentioned in the new text, the overall increase in fee income could be influenced by macroeconomic conditions. If there is a deterioration in global economic conditions or increased volatility in financial markets, it could impact customer behavior and demand for ING's fee-based products and services.\n\nExisting Summary of Potential Risks, Issues, and Concerns:\n12. Pressure on lending margins: The transcript indicates that there is pressure on lending margins due to rising interest rates. This poses a risk to ING's financial performance as higher funding costs may not be immediately passed on to clients, resulting in squeezed margins. If this pressure on lending margins persists, it could negatively impact ING's profitability.\n\n13. Decline in net core deposits: The transcript reveals a decline of €0.7 billion in net core deposits, primarily driven by lower deposits in Germany due to the introduction of negative interest rate charging. This decline in deposits could restrict ING's ability to generate interest income and lend to customers, potentially impacting its overall financial performance.\n\n14. Decline in Wholesale Banking: The transcript highlights a decline of €5.2 billion in Wholesale Banking, mainly in Financial Markets, due to repayments of short-term facilities. This decline suggests a decrease in trading activities and potentially reduced revenue from Wholesale Banking. If this decline continues or worsens, it could negatively impact ING's financial performance.\n\nRefined Summary of Potential Risks, Issues, and Concerns:\n\n12. Pressure on lending margins: The transcript indicates that there is pressure on lending margins due to rising interest rates. This poses a risk to ING's financial performance as higher funding costs may not be immediately passed on to clients, resulting in squeezed margins. If this pressure on lending margins persists, it could negatively impact ING's profitability.\n\n13. Decline in net core deposits: The transcript reveals a decline of €0.7 billion in net core deposits, primarily driven by lower deposits in Germany due to the introduction of negative interest rate charging. This decline in deposits could restrict ING's ability to generate interest income and lend to customers, potentially impacting its overall financial performance.\n\n14. Decline in Wholesale Banking: The transcript highlights a decline of €5.2 billion in Wholesale Banking, mainly in Financial Markets, due to repayments of short-term facilities. This decline suggests a decrease in trading activities and potentially reduced revenue from Wholesale Banking. If this decline continues or worsens, it could negatively impact ING's financial performance.\n\n15. Mortgage lending concentration: The transcript mentions that mortgages were again the primary driver of growth in the Retail segment, particularly in Germany, Australia, and Spain. While this indicates strong demand, it also highlights a concentration of ING's lending portfolio in mortgages. If there is a downturn in the housing market or an increase in mortgage defaults, it could pose a risk to ING's financial stability and profitability.\n\n16. Lower loan growth in Wholesale Banking: The transcript states that loan growth in Wholesale Banking was affected by repayments on short-term facilities in Financial Markets. Although there are signs of demand in the pipeline, the higher level of macroeconomic uncertainty for 2022 is expected to result in loan growth below ING's target of 3% to 4%. Lower loan growth in Wholesale Banking could impact ING's revenue and profitability in this segment.\n\n17. Seasonal outflow of deposits in Retail: The transcript reveals a seasonal outflow of €7 billion in net customer deposits in the Retail segment, primarily driven by an outflow in Germany following the introduction of negative interest rates. This highlights a potential risk of deposit volatility and the need for ING to manage its funding sources effectively to maintain liquidity and support lending activities.\n\n18. Macroeconomic uncertainty: The transcript mentions a higher level of macroeconomic uncertainty for 2022. This uncertainty could stem from various factors such as global economic conditions, geopolitical tensions, or regulatory changes. Increased uncertainty can impact customer behavior, investment decisions, and overall market conditions, potentially affecting ING's financial performance and ability to achieve its growth ambitions.\n\n19. Dependency on fee income growth: The latest earnings transcript indicates a continued growth in fee income for ING. While this is positive in terms of revenue diversification, it also highlights a potential risk of dependency on fee income for overall financial performance. If there is a slowdown in fee growth or a decline in fee income, it could impact ING's profitability and ability to generate consistent revenue.\n\n20. Decline in fees from investment products: The transcript mentions a decline in fees from investment products compared to the record-high level in 1Q2021. This decline could be a concern as it suggests a potential decrease in demand or activity in the investment products segment. If this trend continues, it could impact ING's fee income and overall financial performance.\n\n21. Lower activity in Corporate Finance: The transcript reveals lower fees in Corporate Finance in Wholesale Banking. This indicates a decrease in activity in this segment, potentially due to reduced deal flow or market conditions. Lower activity in Corporate Finance can impact fee income and revenue generation for ING in Wholesale Banking.\n\n22. Potential impact of macroeconomic conditions: While not explicitly mentioned in the new text, the overall increase in fee income could be influenced by macroeconomic conditions. If there is a deterioration in global economic conditions or increased volatility in financial markets, it could impact customer behavior and demand for ING's fee-based products and services.\n\nExisting Summary of Potential Risks, Issues, and Concerns:\n12. Pressure on lending margins: The transcript indicates that there is pressure on lending margins due to rising interest rates. This poses a risk to ING's financial performance as higher funding costs may not be immediately passed on to clients, resulting in squeezed margins. If this pressure on lending margins persists, it could negatively impact ING's profitability.\n\n13. Decline in net core deposits: The transcript reveals a decline of €0.7 billion in net core deposits, primarily driven by lower deposits in Germany due to the introduction of negative interest rate charging. This decline in deposits could restrict ING's ability to generate interest income and lend to customers, potentially impacting its overall financial performance.\n\n14. Decline in Wholesale Banking: The transcript highlights a decline of €5.2 billion in Wholesale Banking, mainly in Financial Markets, due to repayments of short-term facilities. This decline suggests a decrease in trading activities and potentially reduced revenue from Wholesale Banking. If this decline continues or worsens, it could negatively impact ING's financial performance.\n\n15. Mortgage lending concentration: The transcript mentions that mortgages were again the primary driver of growth in the Retail segment, particularly in Germany, Australia, and Spain. While this indicates strong demand, it also highlights a concentration of ING's lending portfolio in mortgages. If there is a downturn in the housing market or an increase in mortgage defaults, it could pose a risk to ING's financial stability and profitability.\n\n16. Lower loan growth in Wholesale Banking: The transcript states that loan growth in Wholesale Banking was affected by repayments on short-term facilities in Financial Markets. Although there are signs of demand in the pipeline, the higher level of macroeconomic uncertainty for 2022 is expected to result in loan growth below ING's target of 3% to 4%. Lower loan growth in Wholesale Banking could impact ING's revenue and profitability in this segment.\n\n17. Seasonal outflow of deposits in Retail: The transcript reveals a seasonal outflow of €7 billion in net customer deposits in the Retail segment, primarily driven by an outflow in Germany following the introduction of negative interest rates. This highlights a potential risk of deposit volatility and the need for ING to manage its funding sources effectively to maintain liquidity and support lending activities.\n\n18. Macroeconomic uncertainty: The transcript mentions a higher level of macroeconomic uncertainty for 2022. This uncertainty could stem from various factors such as global economic conditions, geopolitical tensions, or regulatory changes. Increased uncertainty can impact customer behavior, investment decisions, and overall market conditions, potentially affecting ING's financial performance and ability to achieve its growth ambitions.\n\nNew Potential Risks, Issues, and Concerns:\n19. Dependency on fee income growth: The latest earnings transcript indicates a continued growth in fee income for ING. While this is positive in terms of revenue diversification, it also highlights a potential risk of dependency on fee income for overall financial performance. If there is a slowdown in fee growth or a decline in fee income, it could impact ING's profitability and ability to generate consistent revenue.\n\n20. Decline in fees from investment products: The transcript mentions a decline in fees from investment products compared to the record-high level in 1Q2021. This decline could be a concern as it suggests a potential decrease in demand or activity in the investment products segment. If this trend continues, it could impact ING's fee income and overall financial performance.\n\n21. Lower activity in Corporate Finance: The transcript reveals lower fees in Corporate Finance in Wholesale Banking. This indicates a decrease in activity in this segment, potentially due to reduced deal flow or market conditions. Lower activity in Corporate Finance can impact fee income and revenue generation for ING in Wholesale Banking.\n\n22. Potential impact of macroeconomic conditions: While not explicitly mentioned in the new text, the overall increase in fee income could be influenced by macroeconomic conditions. If there is a deterioration in global economic conditions or increased volatility in financial markets, it could impact customer behavior and demand for ING's fee-based products and services.\n\nExplanation of New Potential Risks, Issues, and Concerns:\n19. Dependency on fee income growth: The growth in fee income for ING highlights the risk of being overly dependent on this source of revenue. If there is a slowdown in fee growth or a decline in fee income, it could impact ING's profitability and overall financial performance.\n\n20. Decline in fees from investment products: The decline in fees from investment products compared to the record-high level in 1Q2021 suggests a potential decrease in demand or activity in this segment. This decline in fees could impact ING's fee income and financial performance.\n\n21. Lower activity in Corporate Finance: The lower fees in Corporate Finance indicate a decrease in activity in this segment. This could be due to reduced deal flow or market conditions, which can impact fee income and revenue generation for ING in Wholesale Banking.\n\n22. Potential impact of macroeconomic conditions: Although not explicitly mentioned, the overall increase in fee income could be influenced by macroeconomic conditions. If there is a deterioration in global economic conditions or increased volatility in financial markets, it could impact customer behavior and demand for ING's fee-based products and services. This can have implications for ING's financial performance.\n\nExisting Summary of Potential Risks, Issues, and Concerns:\n12. Pressure on lending margins: The transcript indicates that there is pressure on lending margins due to rising interest rates. This poses a risk to ING's financial performance as higher funding costs may not be immediately passed on to clients, resulting in squeezed margins. If this pressure on lending margins persists, it could negatively impact ING's profitability.\n\n13. Decline in net core deposits: The transcript reveals a decline of €0.7 billion in net core deposits, primarily driven by lower deposits in Germany due to the introduction of negative interest rate charging. This decline in deposits could restrict ING's ability to generate interest income and lend to customers, potentially impacting its overall financial performance.\n\n14. Decline in Wholesale Banking: The transcript highlights a decline of €5.2 billion in Wholesale Banking, mainly in Financial Markets, due to repayments of short-term facilities. This decline suggests a decrease in trading activities and potentially reduced revenue from Wholesale Banking. If this decline continues or worsens, it could negatively impact ING's financial performance.\n\n15. Mortgage lending concentration: The transcript mentions that mortgages were again the primary driver of growth in the Retail segment, particularly in Germany, Australia, and Spain. While this indicates strong demand, it also highlights a concentration of ING's lending portfolio in mortgages. If there is a downturn in the housing market or an increase in mortgage defaults, it could pose a risk to ING's financial stability and profitability.\n\n16. Lower loan growth in Wholesale Banking: The transcript states that loan growth in Wholesale Banking was affected by repayments on short-term facilities in Financial Markets. Although there are signs of demand in the pipeline, the higher level of macroeconomic uncertainty for 2022 is expected to result in loan growth below ING's target of 3% to 4%. Lower loan growth in Wholesale Banking could impact ING's revenue and profitability in this segment.\n\n17. Seasonal outflow of deposits in Retail: The transcript reveals a seasonal outflow of €7 billion in net customer deposits in the Retail segment, primarily driven by an outflow in Germany following the introduction of negative interest rates. This highlights a potential risk of deposit volatility and the need for ING to manage its funding sources effectively to maintain liquidity and support lending activities.\n\n18. Macroeconomic uncertainty: The transcript mentions a higher level of macroeconomic uncertainty for 2022. This uncertainty could stem from various factors such as global economic conditions, geopolitical tensions, or regulatory changes. Increased uncertainty can impact customer behavior, investment decisions, and overall market conditions, potentially affecting ING's financial performance and ability to achieve its growth ambitions.\n\nNew Potential Risks, Issues, and Concerns:\n19. Dependency on fee income growth: The growth in fee income for ING highlights the risk of being overly dependent on this source of revenue. If there is a slowdown in fee growth or a decline in fee income, it could impact ING's profitability and ability to generate consistent revenue.\n\n20. Decline in fees from investment products: The decline in fees from investment products compared to the record-high level in 1Q2021 suggests a potential decrease in demand or activity in this segment. This decline in fees could impact ING's fee income and overall financial performance.\n\n21. Lower activity in Corporate Finance: The lower fees in Corporate Finance indicate a decrease in activity in this segment. This could be due to reduced deal flow or market conditions, which can impact fee income and revenue generation for ING in Wholesale Banking.\n\n22. Potential impact of macroeconomic conditions: Although not explicitly mentioned, the overall increase in fee income could be influenced by macroeconomic conditions. If there is a deterioration in global economic conditions or increased volatility in financial markets, it could impact customer behavior and demand for ING's fee-based products and services. This can have implications for ING's financial performance.\n\nExplanation of New Potential Risks, Issues, and Concerns:\n19. Dependency on fee income growth: The growth in fee income for ING highlights the risk of being overly dependent on this source of revenue. If there is a slowdown in fee growth or a decline in fee income, it could impact ING's profitability and overall financial performance.\n\n20. Decline in fees from investment products: The decline in fees from investment products compared to the record-high level in 1Q2021 suggests a potential decrease in demand or activity in this segment. This decline in fees could impact ING's fee income and financial performance.\n\n21. Lower activity in Corporate Finance: The lower fees in Corporate Finance indicate a decrease in activity in this segment. This could be due to reduced deal flow or market conditions, which can impact fee income and revenue generation for ING in Wholesale Banking.\n\n22. Potential impact of macroeconomic conditions: Although not explicitly mentioned, the overall increase in fee income could be influenced by macroeconomic conditions. If there is a deterioration in global economic conditions or increased volatility in financial markets, it could impact customer behavior and demand for ING's fee-based products and services. This can have implications for ING's financial performance.\n\nThese new risks, issues, and concerns identified in the latest earnings transcript provide additional insights into the potential challenges ING may face in maintaining its financial performance and achieving its growth ambitions.\n\nExisting Summary of Potential Risks, Issues, and Concerns:\n12. Pressure on lending margins: The transcript indicates that there is pressure on lending margins due to rising interest rates. This poses a risk to ING's financial performance as higher funding costs may not be immediately passed on to clients, resulting in squeezed margins. If this pressure on lending margins persists, it could negatively impact ING's profitability.\n\n13. Decline in net core deposits: The transcript reveals a decline of €0.7 billion in net core deposits, primarily driven by lower deposits in Germany due to the introduction of negative interest rate charging. This decline in deposits could restrict ING's ability to generate interest income and lend to customers, potentially impacting its overall financial performance.\n\n14. Decline in Wholesale Banking: The transcript highlights a decline of €5.2 billion in Wholesale Banking, mainly in Financial Markets, due to repayments of short-term facilities. This decline suggests a decrease in trading activities and potentially reduced revenue from Wholesale Banking. If this decline continues or worsens, it could negatively impact ING's financial performance.\n\n15. Mortgage lending concentration: The transcript mentions that mortgages were again the primary driver of growth in the Retail segment, particularly in Germany, Australia, and Spain. While this indicates strong demand, it also highlights a concentration of ING's lending portfolio in mortgages. If there is a downturn in the housing market or an increase in mortgage defaults, it could pose a risk to ING's financial stability and profitability.\n\n16. Lower loan growth in Wholesale Banking: The transcript states that loan growth in Wholesale Banking was affected by repayments on short-term facilities in Financial Markets. Although there are signs of demand in the pipeline, the higher level of macroeconomic uncertainty for 2022 is expected to result in loan growth below ING's target of 3% to 4%. Lower loan growth in Wholesale Banking could impact ING's revenue and profitability in this segment.\n\n17. Seasonal outflow of deposits in Retail: The transcript reveals a seasonal outflow of €7 billion in net customer deposits in the Retail segment, primarily driven by an outflow in Germany following the introduction of negative interest rates. This highlights a potential risk of deposit volatility and the need for ING to manage its funding sources effectively to maintain liquidity and support lending activities.\n\n18. Macroeconomic uncertainty: The transcript mentions a higher level of macroeconomic uncertainty for 2022. This uncertainty could stem from various factors such as global economic conditions, geopolitical tensions, or regulatory changes. Increased uncertainty can impact customer behavior, investment decisions, and overall market conditions, potentially affecting ING's financial performance and ability to achieve its growth ambitions.\n\nNew Potential Risks, Issues, and Concerns:\n19. Dependency on fee income growth: The growth in fee income for ING highlights the risk of being overly dependent on this source of revenue. If there is a slowdown in fee growth or a decline in fee income, it could impact ING's profitability and ability to generate consistent revenue.\n\n20. Decline in fees from investment products: The decline in fees from investment products compared to the record-high level in 1Q2021 suggests a potential decrease in demand or activity in this segment. This decline in fees could impact ING's fee income and overall financial performance.\n\n21. Lower activity in Corporate Finance: The lower fees in Corporate Finance indicate a decrease in activity in this segment. This could be due to reduced deal flow or market conditions, which can impact fee income and revenue generation for ING in Wholesale Banking.\n\n22. Potential impact of macroeconomic conditions: Although not explicitly mentioned, the overall increase in fee income could be influenced by macroeconomic conditions. If there is a deterioration in global economic conditions or increased volatility in financial markets, it could impact customer behavior and demand for ING's fee-based products and services. This can have implications for ING's financial performance.\n\nExplanation of New Potential Risks, Issues, and Concerns:\n19. Dependency on fee income growth: The growth in fee income for ING highlights the risk of being overly dependent on this source of revenue. If there is a slowdown in fee growth or a decline in fee income, it could impact ING's profitability and overall financial performance.\n\n20. Decline in fees from investment products: The decline in fees from investment products compared to the record-high level in 1Q2021 suggests a potential decrease in demand or activity in this segment. This decline in fees could impact ING's fee income and financial performance.\n\n21. Lower activity in Corporate Finance: The lower fees in Corporate Finance indicate a decrease in activity in this segment. This could be due to reduced deal flow or market conditions, which can impact fee income and revenue generation for ING in Wholesale Banking.\n\n22. Potential impact of macroeconomic conditions: Although not explicitly mentioned, the overall increase in fee income could be influenced by macroeconomic conditions. If there is a deterioration in global economic conditions or increased volatility in financial markets, it could impact customer behavior and demand for ING's fee-based products and services. This can have implications for ING's financial performance.\n\nThese new risks, issues, and concerns identified in the latest earnings transcript provide additional insights into the potential challenges ING may face in maintaining its financial performance and achieving its growth ambitions.\n\nNew Potential Risks, Issues, and Concerns:\n23. Elevated risk cost impacting ROE: The transcript mentions that there was some impact on the ROE due to elevated risk costs in the current quarter. This indicates a potential risk of increased credit losses or provisions, which can negatively affect ING's profitability and overall financial performance.\n\nExplanation of New Potential Risks, Issues, and Concerns:\n23. Elevated risk cost impacting ROE: The mention of elevated risk costs impacting ROE suggests a potential increase in credit losses or provisions. This can arise from factors such as deteriorating credit quality, economic downturn, or higher default rates. Elevated risk costs can reduce ING's profitability and adversely impact its financial performance.\n\nThe new risk identified in the latest earnings transcript highlights the potential impact of elevated risk costs on ING's ROE. This risk should be considered alongside the existing risks and concerns to provide a comprehensive analysis of the potential challenges that could affect ING's financial performance and growth ambitions.\n\nExisting Summary of Potential Risks, Issues, and Concerns:\n23. Elevated risk cost impacting ROE: The transcript mentions that there was some impact on the ROE due to elevated risk costs in the current quarter. This indicates a potential risk of increased credit losses or provisions, which can negatively affect ING's profitability and overall financial performance.\n\nExplanation of New Potential Risks, Issues, and Concerns:\n23. Elevated risk cost impacting ROE: The mention of elevated risk costs impacting ROE suggests a potential increase in credit losses or provisions. This can arise from factors such as deteriorating credit quality, economic downturn, or higher default rates. Elevated risk costs can reduce ING's profitability and adversely impact its financial performance.\n\nNew Potential Risks, Issues, and Concerns:\n1. Impact of invasion of Ukraine: The transcript highlights the invasion of Ukraine as a new challenge for ING. While the company expresses confidence in managing the risk of Russia-related exposure, geopolitical tensions and potential economic impacts from the invasion pose risks to ING's operations and financial performance. These risks can include increased credit losses, market volatility, regulatory changes, and geopolitical uncertainties.\n\nThe new risk identified in the latest earnings transcript highlights the potential impact of the invasion of Ukraine on ING's operations and financial performance. This risk should be considered alongside the existing risks and concerns to provide a comprehensive analysis of the potential challenges that could affect ING's financial performance and growth ambitions.\n\nExisting Summary of Potential Risks, Issues, and Concerns:\n23. Elevated risk cost impacting ROE: The transcript mentions that there was some impact on the ROE due to elevated risk costs in the current quarter. This indicates a potential risk of increased credit losses or provisions, which can negatively affect ING's profitability and overall financial performance.\n\nExplanation of New Potential Risks, Issues, and Concerns:\n23. Elevated risk cost impacting ROE: The mention of elevated risk costs impacting ROE suggests a potential increase in credit losses or provisions. This can arise from factors such as deteriorating credit quality, economic downturn, or higher default rates. Elevated risk costs can reduce ING's profitability and adversely impact its financial performance.\n\nNew Potential Risks, Issues, and Concerns:\n1. Impact of invasion of Ukraine: The transcript highlights the invasion of Ukraine as a new challenge for ING. While the company expresses confidence in managing the risk of Russia-related exposure, geopolitical tensions and potential economic impacts from the invasion pose risks to ING's operations and financial performance. These risks can include increased credit losses, market volatility, regulatory changes, and geopolitical uncertainties.\n\nThe new risk identified in the latest earnings transcript highlights the potential impact of the invasion of Ukraine on ING's operations and financial performance. This risk should be considered alongside the existing risks and concerns to provide a comprehensive analysis of the potential challenges that could affect ING's financial performance and growth ambitions.\n\nExisting Summary of Potential Risks, Issues, and Concerns:\n23. Elevated risk cost impacting ROE: The mention of elevated risk costs impacting ROE suggests a potential increase in credit losses or provisions. This can arise from factors such as deteriorating credit quality, economic downturn, or higher default rates. Elevated risk costs can reduce ING's profitability and adversely impact its financial performance.\n\nNew Potential Risks, Issues, and Concerns:\n1. Impact of invasion of Ukraine: The transcript highlights the invasion of Ukraine as a new challenge for ING. While the company expresses confidence in managing the risk of Russia-related exposure, geopolitical tensions and potential economic impacts from the invasion pose risks to ING's operations and financial performance. These risks can include increased credit losses, market volatility, regulatory changes, and geopolitical uncertainties.\n\nExplanation of New Potential Risks, Issues, and Concerns:\nThe new risk identified in the latest earnings transcript highlights the potential impact of the invasion of Ukraine on ING's operations and financial performance. This risk should be considered alongside the existing risks and concerns to provide a comprehensive analysis of the potential challenges that could affect ING's financial performance and growth ambitions. The invasion of Ukraine presents geopolitical tensions and economic risks that could result in increased credit losses, market volatility, regulatory changes, and geopolitical uncertainties. These factors can negatively impact ING's operations, profitability, and overall financial performance.\n\nExisting Summary of Potential Risks, Issues, and Concerns:\n23. Elevated risk cost impacting ROE: The mention of elevated risk costs impacting ROE suggests a potential increase in credit losses or provisions. This can arise from factors such as deteriorating credit quality, economic downturn, or higher default rates. Elevated risk costs can reduce ING's profitability and adversely impact its financial performance.\n\nNew Potential Risks, Issues, and Concerns:\n1. Impact of invasion of Ukraine: The transcript highlights the invasion of Ukraine as a new challenge for ING. While the company expresses confidence in managing the risk of Russia-related exposure, geopolitical tensions and potential economic impacts from the invasion pose risks to ING's operations and financial performance. These risks can include increased credit losses, market volatility, regulatory changes, and geopolitical uncertainties.\n\nExplanation of New Potential Risks, Issues, and Concerns:\nThe new risk identified in the latest earnings transcript highlights the potential impact of the invasion of Ukraine on ING's operations and financial performance. This risk should be considered alongside the existing risks and concerns to provide a comprehensive analysis of the potential challenges that could affect ING's financial performance and growth ambitions. The invasion of Ukraine presents geopolitical tensions and economic risks that could result in increased credit losses, market volatility, regulatory changes, and geopolitical uncertainties. These factors can negatively impact ING's operations, profitability, and overall financial performance.\n\nUpdated Summary of Potential Risks, Issues, and Concerns:\n\nExisting Risks:\n\n1. Elevated risk cost impacting ROE: The mention of elevated risk costs impacting ROE suggests a potential increase in credit losses or provisions. This can arise from factors such as deteriorating credit quality, economic downturn, or higher default rates. Elevated risk costs can reduce ING's profitability and adversely impact its financial performance.\n\nNew Risks:\n\n1. Impact of invasion of Ukraine: The invasion of Ukraine poses new challenges for ING. Geopolitical tensions and potential economic impacts from the invasion can result in increased credit losses, market volatility, regulatory changes, and geopolitical uncertainties. These risks can negatively affect ING's operations and financial performance.\n\nExplanation of New Risks:\n\nThe latest earnings transcript highlights the potential impact of the invasion of Ukraine on ING's operations and financial performance. This risk should be considered alongside the existing risk of elevated risk costs to provide a comprehensive analysis of the potential challenges that could affect ING's financial performance and growth ambitions. The invasion of Ukraine presents geopolitical tensions and economic risks that could result in increased credit losses, market volatility, regulatory changes, and geopolitical uncertainties. These factors can negatively impact ING's operations, profitability, and overall financial performance.\n\nUpdated Summary of Potential Risks, Issues, and Concerns:\n\nExisting Risks:\n\n1. Elevated risk cost impacting ROE: The mention of elevated risk costs impacting ROE suggests a potential increase in credit losses or provisions. This can arise from factors such as deteriorating credit quality, economic downturn, or higher default rates. Elevated risk costs can reduce ING's profitability and adversely impact its financial performance.\n\nNew Risks:\n\n1. Impact of invasion of Ukraine: The invasion of Ukraine poses new challenges for ING. Geopolitical tensions and potential economic impacts from the invasion can result in increased credit losses, market volatility, regulatory changes, and geopolitical uncertainties. These risks can negatively affect ING's operations and financial performance.\n\nExplanation of New Risks:\n\nThe latest earnings transcript introduces two new potential risks for ING. Firstly, the impact of the invasion of Ukraine is highlighted, which can lead to geopolitical tensions, economic risks, increased credit losses, market volatility, regulatory changes, and geopolitical uncertainties. These factors can have a negative impact on ING's operations, profitability, and overall financial performance.\n\nSecondly, the mention of stagflation raises concerns about lower-than-expected growth and higher inflation, which are already being factored into ING's base case. While ING benefits from a strong risk management framework and low-risk book structure, managing this scenario may still pose a challenge. The bank is closely monitoring the situation, assessing scenarios, and ensuring adequate provisions are in place. The potential impact on the cost of risk is uncertain, but ING maintains a through-the-cycle perspective and believes it can manage the situation with no significant volatility in cost of risk other than 25 bps.\n\nExisting Summary of Potential Risks, Issues, and Concerns:\n\n1. Elevated risk cost impacting ROE: The mention of elevated risk costs impacting ROE suggests a potential increase in credit losses or provisions. This can arise from factors such as deteriorating credit quality, economic downturn, or higher default rates. Elevated risk costs can reduce ING's profitability and adversely impact its financial performance.\n\nNew Summary of Potential Risks, Issues, and Concerns:\n\n1. Impact of invasion of Ukraine: The invasion of Ukraine poses new challenges for ING. Geopolitical tensions and potential economic impacts from the invasion can result in increased credit losses, market volatility, regulatory changes, and geopolitical uncertainties. These risks can negatively affect ING's operations and financial performance.\n\n2. Stagflation concerns: The mention of stagflation raises concerns about lower-than-expected growth and higher inflation. While ING benefits from a strong risk management framework and low-risk book structure, managing this scenario may still pose a challenge. The potential impact on the cost of risk is uncertain, but ING maintains a through-the-cycle perspective and believes it can manage the situation with no significant volatility in the cost of risk other than 25 bps.\n\nExplanation of New Risks:\n\nThe new transcript text raises two additional potential risks for ING. Firstly, the impact of the invasion of Ukraine introduces geopolitical tensions, economic risks, increased credit losses, market volatility, regulatory changes, and geopolitical uncertainties. These factors can have a negative impact on ING's operations, profitability, and overall financial performance.\n\nSecondly, the mention of stagflation raises concerns about lower-than-expected growth and higher inflation, which are already being factored into ING's base case. While ING benefits from a strong risk management framework and low-risk book structure, managing this scenario may still pose a challenge. The bank is closely monitoring the situation, assessing scenarios, and ensuring adequate provisions are in place. The potential impact on the cost of risk is uncertain, but ING maintains a through-the-cycle perspective and believes it can manage the situation with no significant volatility in the cost of risk other than 25 bps.\n\nExisting Summary of Potential Risks, Issues, and Concerns:\n\n1. Elevated risk cost impacting ROE: The mention of elevated risk costs impacting ROE suggests a potential increase in credit losses or provisions. This can arise from factors such as deteriorating credit quality, economic downturn, or higher default rates. Elevated risk costs can reduce ING's profitability and adversely impact its financial performance.\n\nNew Summary of Potential Risks, Issues, and Concerns:\n\n1. Impact of invasion of Ukraine: The invasion of Ukraine poses new challenges for ING. Geopolitical tensions and potential economic impacts from the invasion can result in increased credit losses, market volatility, regulatory changes, and geopolitical uncertainties. These risks can negatively affect ING's operations and financial performance.\n\n2. Stagflation concerns: The mention of stagflation raises concerns about lower-than-expected growth and higher inflation. While ING benefits from a strong risk management framework and low-risk book structure, managing this scenario may still pose a challenge. The potential impact on the cost of risk is uncertain, but ING maintains a through-the-cycle perspective and believes it can manage the situation with no significant volatility in the cost of risk other than 25 bps.\n\n3. Negative interest rate impact: The question about the impact of ECB rate hikes and going back to zero raises concerns about the potential loss from negative deposit charging. Currently, ING incurs EUR 300 million on an annual basis from negative interest rate charging. As market rates change, the bank may also lose this amount. This can affect ING's net interest income and overall financial performance.\n\nExplanation of New Risks:\n\nThe new transcript text reveals one additional potential risk for ING. The question about the impact of ECB rate hikes and going back to zero highlights the potential loss from negative deposit charging. Currently, ING incurs EUR 300 million on an annual basis from negative interest rate charging. As market rates change, the bank may also lose this amount. This can impact ING's net interest income and overall financial performance.\n\nUpdated Summary of Potential Risks, Issues, and Concerns:\n\n1. Elevated risk cost impacting ROE: The mention of elevated risk costs impacting ROE suggests a potential increase in credit losses or provisions. This can arise from factors such as deteriorating credit quality, economic downturn, or higher default rates. Elevated risk costs can reduce ING's profitability and adversely impact its financial performance.\n\n2. Impact of invasion of Ukraine: The invasion of Ukraine poses new challenges for ING. Geopolitical tensions and potential economic impacts from the invasion can result in increased credit losses, market volatility, regulatory changes, and geopolitical uncertainties. These risks can negatively affect ING's operations and financial performance.\n\n3. Stagflation concerns: The mention of stagflation raises concerns about lower-than-expected growth and higher inflation. While ING benefits from a strong risk management framework and low-risk book structure, managing this scenario may still pose a challenge. The potential impact on the cost of risk is uncertain, but ING maintains a through-the-cycle perspective and believes it can manage the situation with no significant volatility in the cost of risk other than 25 bps.\n\n4. Negative interest rate impact: The question about the impact of ECB rate hikes and going back to zero raises concerns about the potential loss from negative deposit charging. Currently, ING incurs EUR 300 million on an annual basis from negative interest rate charging. As market rates change, the bank may also lose this amount. This can affect ING's net interest income and overall financial performance.\n\nExplanation of New Risks:\n\nThe new transcript text reveals one additional potential risk for ING. The question about the run rate of decline in the Russian book indicates a normal rundown based on maturities. While ING has credit insurance for a good part of the long-term portfolio, the run down of the short part may continue. This poses a potential risk of reduced portfolio size and associated impacts on ING's performance.\n\nAdditionally, the mention of the Wholesale bank being neutrally geared towards negative rates raises concerns about the potential impact on revenue as negative rates disappear. While there is an expectation of not losing revenue, the exact outcome is uncertain, and any revenue loss can affect ING's financial performance.\n\nTherefore, the updated summary includes the risks of the impact of invasion of Ukraine, the run down of the Russian book, and the potential impact of negative rates on revenue.\n\nUpdated Summary of Potential Risks, Issues, and Concerns:\n\n1. Elevated risk cost impacting ROE: The mention of elevated risk costs impacting ROE suggests a potential increase in credit losses or provisions. This can arise from factors such as deteriorating credit quality, economic downturn, or higher default rates. Elevated risk costs can reduce ING's profitability and adversely impact its financial performance.\n\n2. Impact of invasion of Ukraine: The invasion of Ukraine poses new challenges for ING. Geopolitical tensions and potential economic impacts from the invasion can result in increased credit losses, market volatility, regulatory changes, and geopolitical uncertainties. These risks can negatively affect ING's operations and financial performance.\n\n3. Stagflation concerns: The mention of stagflation raises concerns about lower-than-expected growth and higher inflation. While ING benefits from a strong risk management framework and low-risk book structure, managing this scenario may still pose a challenge. The potential impact on the cost of risk is uncertain, but ING maintains a through-the-cycle perspective and believes it can manage the situation with no significant volatility in the cost of risk other than 25 bps.\n\n4. Negative interest rate impact: The question about the impact of ECB rate hikes and going back to zero raises concerns about the potential loss from negative deposit charging. Currently, ING incurs EUR 300 million on an annual basis from negative interest rate charging. As market rates change, the bank may also lose this amount. This can affect ING's net interest income and overall financial performance.\n\n5. Run down of the Russian book: The mention of the normal rundown of the Russian book based on maturities poses a potential risk for ING. While ING has credit insurance for a good part of the long-term portfolio, the run down of the short part may continue. This can lead to a reduced portfolio size and potential impacts on ING's performance.\n\n6. Potential impact of negative rates on revenue: The mention of the Wholesale bank being neutrally geared towards negative rates raises concerns about the potential impact on revenue as negative rates disappear. While there is an expectation of not losing revenue, the exact outcome is uncertain, and any revenue loss can affect ING's financial performance.\n\nTherefore, the updated summary includes the risks of the impact of invasion of Ukraine, the run down of the Russian book, and the potential impact of negative rates on revenue.\n\nUpdated Summary of Potential Risks, Issues, and Concerns:\n\n1. Elevated risk cost impacting ROE: The mention of elevated risk costs impacting ROE suggests a potential increase in credit losses or provisions. This can arise from factors such as deteriorating credit quality, economic downturn, or higher default rates. Elevated risk costs can reduce ING's profitability and adversely impact its financial performance.\n\n2. Impact of invasion of Ukraine: The invasion of Ukraine poses new challenges for ING. Geopolitical tensions and potential economic impacts from the invasion can result in increased credit losses, market volatility, regulatory changes, and geopolitical uncertainties. These risks can negatively affect ING's operations and financial performance.\n\n3. Stagflation concerns: The mention of stagflation raises concerns about lower-than-expected growth and higher inflation. While ING benefits from a strong risk management framework and low-risk book structure, managing this scenario may still pose a challenge. The potential impact on the cost of risk is uncertain, but ING maintains a through-the-cycle perspective and believes it can manage the situation with no significant volatility in the cost of risk other than 25 bps.\n\n4. Negative interest rate impact: The question about the impact of ECB rate hikes and going back to zero raises concerns about the potential loss from negative deposit charging. Currently, ING incurs EUR 300 million on an annual basis from negative interest rate charging. As market rates change, the bank may also lose this amount. This can affect ING's net interest income and overall financial performance.\n\n5. Run down of the Russian book: The mention of the normal rundown of the Russian book based on maturities poses a potential risk for ING. While ING has credit insurance for a good part of the long-term portfolio, the run down of the short part may continue. This can lead to a reduced portfolio size and potential impacts on ING's performance.\n\n6. Potential impact of negative rates on revenue: The mention of the Wholesale bank being neutrally geared towards negative rates raises concerns about the potential impact on revenue as negative rates disappear. While there is an expectation of not losing revenue, the exact outcome is uncertain, and any revenue loss can affect ING's financial performance.\n\n7. Impact of higher mortgage rates on loan growth: The mention of higher mortgage rates and the impact on origination and loan growth in mortgages raises a new concern. If higher mortgage rates lead to decreased demand for mortgages, it could impact ING's loan growth in the retail sector. This can potentially affect the bank's overall financial performance.\n\nTherefore, the updated summary includes the risks of the impact of invasion of Ukraine, the run down of the Russian book, the potential impact of negative rates on revenue, and the impact of higher mortgage rates on loan growth.\n\nUpdated Summary of Potential Risks, Issues, and Concerns:\n\n1. Elevated risk cost impacting ROE: The mention of elevated risk costs impacting ROE suggests a potential increase in credit losses or provisions. This can arise from factors such as deteriorating credit quality, economic downturn, or higher default rates. Elevated risk costs can reduce ING's profitability and adversely impact its financial performance.\n\n2. Impact of invasion of Ukraine: The invasion of Ukraine poses new challenges for ING. Geopolitical tensions and potential economic impacts from the invasion can result in increased credit losses, market volatility, regulatory changes, and geopolitical uncertainties. These risks can negatively affect ING's operations and financial performance.\n\n3. Stagflation concerns: The mention of stagflation raises concerns about lower-than-expected growth and higher inflation. While ING benefits from a strong risk management framework and low-risk book structure, managing this scenario may still pose a challenge. The potential impact on the cost of risk is uncertain, but ING maintains a through-the-cycle perspective and believes it can manage the situation with no significant volatility in the cost of risk other than 25 bps.\n\n4. Negative interest rate impact: The question about the impact of ECB rate hikes and going back to zero raises concerns about the potential loss from negative deposit charging. Currently, ING incurs EUR 300 million on an annual basis from negative interest rate charging. As market rates change, the bank may also lose this amount. This can affect ING's net interest income and overall financial performance.\n\n5. Run down of the Russian book: The mention of the normal rundown of the Russian book based on maturities poses a potential risk for ING. While ING has credit insurance for a good part of the long-term portfolio, the run down of the short part may continue. This can lead to a reduced portfolio size and potential impacts on ING's performance.\n\n6. Potential impact of negative rates on revenue: The mention of the Wholesale bank being neutrally geared towards negative rates raises concerns about the potential impact on revenue as negative rates disappear. While there is an expectation of not losing revenue, the exact outcome is uncertain, and any revenue loss can affect ING's financial performance.\n\n7. Impact of higher mortgage rates on loan growth: The mention of higher mortgage rates and the impact on origination and loan growth in mortgages raises a new concern. If higher mortgage rates lead to decreased demand for mortgages, it could impact ING's loan growth in the retail sector. This can potentially affect the bank's overall financial performance.\n\nNew potential risks, issues, and concerns identified in the latest text:\n\n8. Exposure reduction in Russia and potential write-backs: The CEO mentioned a decrease in exposure with approximately EUR 1 billion in Russia. If the short-term exposure gets repaid back, there may be write-backs in terms of risk-weighted assets (RWA). However, the credit component's development in line with the exposure is uncertain and may pose risks to ING's financial performance.\n\nTherefore, the updated summary includes the risks of elevated risk cost impacting ROE, the impact of invasion of Ukraine, stagflation concerns, negative interest rate impact, run down of the Russian book, potential impact of negative rates on revenue, impact of higher mortgage rates on loan growth, and exposure reduction in Russia and potential write-backs.\n\nUpdated Summary of Potential Risks, Issues, and Concerns:\n\n1. Elevated risk cost impacting ROE: The mention of elevated risk costs impacting ROE suggests a potential increase in credit losses or provisions. This can arise from factors such as deteriorating credit quality, economic downturn, or higher default rates. Elevated risk costs can reduce ING's profitability and adversely impact its financial performance.\n\n2. Impact of invasion of Ukraine: The invasion of Ukraine poses new challenges for ING. Geopolitical tensions and potential economic impacts from the invasion can result in increased credit losses, market volatility, regulatory changes, and geopolitical uncertainties. These risks can negatively affect ING's operations and financial performance.\n\n3. Stagflation concerns: The mention of stagflation raises concerns about lower-than-expected growth and higher inflation. While ING benefits from a strong risk management framework and low-risk book structure, managing this scenario may still pose a challenge. The potential impact on the cost of risk is uncertain, but ING maintains a through-the-cycle perspective and believes it can manage the situation with no significant volatility in the cost of risk other than 25 bps.\n\n4. Negative interest rate impact: The question about the impact of ECB rate hikes and going back to zero raises concerns about the potential loss from negative deposit charging. Currently, ING incurs EUR 300 million on an annual basis from negative interest rate charging. As market rates change, the bank may also lose this amount. This can affect ING's net interest income and overall financial performance.\n\n5. Run down of the Russian book: The mention of the normal rundown of the Russian book based on maturities poses a potential risk for ING. While ING has credit insurance for a good part of the long-term portfolio, the run down of the short part may continue. This can lead to a reduced portfolio size and potential impacts on ING's performance.\n\n6. Potential impact of negative rates on revenue: The mention of the Wholesale bank being neutrally geared towards negative rates raises concerns about the potential impact on revenue as negative rates disappear. While there is an expectation of not losing revenue, the exact outcome is uncertain, and any revenue loss can affect ING's financial performance.\n\n7. Impact of higher mortgage rates on loan growth: The mention of higher mortgage rates and the impact on origination and loan growth in mortgages raises a new concern. If higher mortgage rates lead to decreased demand for mortgages, it could impact ING's loan growth in the retail sector. This can potentially affect the bank's overall financial performance.\n\n8. Exposure reduction in Russia and potential write-backs: The CEO mentioned a decrease in exposure with approximately EUR 1 billion in Russia. If the short-term exposure gets repaid back, there may be write-backs in terms of risk-weighted assets (RWA). However, the credit component's development in line with the exposure is uncertain and may pose risks to ING's financial performance.\n\nUpdated Summary of Potential Risks, Issues, and Concerns:\n\n1. Elevated risk cost impacting ROE: The mention of elevated risk costs impacting ROE suggests a potential increase in credit losses or provisions. This can arise from factors such as deteriorating credit quality, economic downturn, or higher default rates. Elevated risk costs can reduce ING's profitability and adversely impact its financial performance.\n\n2. Impact of invasion of Ukraine: The invasion of Ukraine poses new challenges for ING. Geopolitical tensions and potential economic impacts from the invasion can result in increased credit losses, market volatility, regulatory changes, and geopolitical uncertainties. These risks can negatively affect ING's operations and financial performance.\n\n3. Stagflation concerns: The mention of stagflation raises concerns about lower-than-expected growth and higher inflation. While ING benefits from a strong risk management framework and low-risk book structure, managing this scenario may still pose a challenge. The potential impact on the cost of risk is uncertain, but ING maintains a through-the-cycle perspective and believes it can manage the situation with no significant volatility in the cost of risk other than 25 bps.\n\n4. Negative interest rate impact: The question about the impact of ECB rate hikes and going back to zero raises concerns about the potential loss from negative deposit charging. Currently, ING incurs EUR 300 million on an annual basis from negative interest rate charging. As market rates change, the bank may also lose this amount. This can affect ING's net interest income and overall financial performance.\n\n5. Run down of the Russian book: The mention of the normal rundown of the Russian book based on maturities poses a potential risk for ING. While ING has credit insurance for a good part of the long-term portfolio, the run down of the short part may continue. This can lead to a reduced portfolio size and potential impacts on ING's performance.\n\n6. Potential impact of negative rates on revenue: The mention of the Wholesale bank being neutrally geared towards negative rates raises concerns about the potential impact on revenue as negative rates disappear. While there is an expectation of not losing revenue, the exact outcome is uncertain, and any revenue loss can affect ING's financial performance.\n\n7. Impact of higher mortgage rates on loan growth: The mention of higher mortgage rates and the impact on origination and loan growth in mortgages raises a new concern. If higher mortgage rates lead to decreased demand for mortgages, it could impact ING's loan growth in the retail sector. This can potentially affect the bank's overall financial performance.\n\n8. Exposure reduction in Russia and potential write-backs: The CEO mentioned a decrease in exposure with approximately EUR 1 billion in Russia. If the short-term exposure gets repaid back, there may be write-backs in terms of risk-weighted assets (RWA). However, the credit component's development in line with the exposure is uncertain and may pose risks to ING's financial performance.\n\nNew Potential Risks, Issues, and Concerns:\n\n9. Provisions allocation onshore vs. offshore in Russia: The question about the allocation of provisions onshore and offshore in Russia indicates a need for clarification on the accounting treatment. The differentiation between onshore and offshore provisions can have implications for ING's financial reporting and risk management practices.\n\n10. Uncertainty surrounding sanctions exposure and repayments: The mention of EUR 3.3 billion in sanctions exposure and the potential for additional sanctions raises concerns about the uncertainty surrounding the amount and the impact on repayments. The speed at which this exposure may decrease due to sanctions and repayments is unclear, and ING's financial performance could be affected by changes in the sanctions landscape.\n\n11. Regulatory headwinds beyond Basel IV: The mention of potential regulatory headwinds in excess capital consideration prompts the need for further information on upcoming regulatory changes. While Basel IV is mentioned as a major regulatory framework, there may be other regulatory developments throughout the year that could impact ING's operations and financial performance. Clarification is needed to assess the potential risks and challenges associated with these regulatory headwinds.\n\nBased on the new text, three new potential risks, issues, and concerns have been identified. These include provisions allocation onshore vs. offshore in Russia, uncertainty surrounding sanctions exposure and repayments, and regulatory headwinds beyond Basel IV.\n\nUpdated Summary of Potential Risks, Issues, and Concerns:\n\n1. Elevated risk cost impacting ROE: The mention of elevated risk costs impacting ROE suggests a potential increase in credit losses or provisions. This can arise from factors such as deteriorating credit quality, economic downturn, or higher default rates. Elevated risk costs can reduce ING's profitability and adversely impact its financial performance.\n\n2. Impact of invasion of Ukraine: The invasion of Ukraine poses new challenges for ING. Geopolitical tensions and potential economic impacts from the invasion can result in increased credit losses, market volatility, regulatory changes, and geopolitical uncertainties. These risks can negatively affect ING's operations and financial performance.\n\n3. Stagflation concerns: The mention of stagflation raises concerns about lower-than-expected growth and higher inflation. While ING benefits from a strong risk management framework and low-risk book structure, managing this scenario may still pose a challenge. The potential impact on the cost of risk is uncertain, but ING maintains a through-the-cycle perspective and believes it can manage the situation with no significant volatility in the cost of risk other than 25 bps.\n\n4. Negative interest rate impact: The question about the impact of ECB rate hikes and going back to zero raises concerns about the potential loss from negative deposit charging. Currently, ING incurs EUR 300 million on an annual basis from negative interest rate charging. As market rates change, the bank may also lose this amount. This can affect ING's net interest income and overall financial performance.\n\n5. Run down of the Russian book: The mention of the normal rundown of the Russian book based on maturities poses a potential risk for ING. While ING has credit insurance for a good part of the long-term portfolio, the run down of the short part may continue. This can lead to a reduced portfolio size and potential impacts on ING's performance.\n\n6. Potential impact of negative rates on revenue: The mention of the Wholesale bank being neutrally geared towards negative rates raises concerns about the potential impact on revenue as negative rates disappear. While there is an expectation of not losing revenue, the exact outcome is uncertain, and any revenue loss can affect ING's financial performance.\n\n7. Impact of higher mortgage rates on loan growth: The mention of higher mortgage rates and the impact on origination and loan growth in mortgages raises a new concern. If higher mortgage rates lead to decreased demand for mortgages, it could impact ING's loan growth in the retail sector. This can potentially affect the bank's overall financial performance.\n\n8. Exposure reduction in Russia and potential write-backs: The CEO mentioned a decrease in exposure with approximately EUR 1 billion in Russia. If the short-term exposure gets repaid back, there may be write-backs in terms of risk-weighted assets (RWA). However, the credit component's development in line with the exposure is uncertain and may pose risks to ING's financial performance.\n\nNew Potential Risks, Issues, and Concerns:\n\n9. Provisions allocation onshore vs. offshore in Russia: The question about the allocation of provisions onshore and offshore in Russia indicates a need for clarification on the accounting treatment. The differentiation between onshore and offshore provisions can have implications for ING's financial reporting and risk management practices.\n\n10. Uncertainty surrounding sanctions exposure and repayments: The mention of EUR 3.3 billion in sanctions exposure and the potential for additional sanctions raises concerns about the uncertainty surrounding the amount and the impact on repayments. The speed at which this exposure may decrease due to sanctions and repayments is unclear, and ING's financial performance could be affected by changes in the sanctions landscape.\n\n11. Regulatory headwinds beyond Basel IV: The mention of potential regulatory headwinds in excess capital consideration prompts the need for further information on upcoming regulatory changes. While Basel IV is mentioned as a major regulatory framework, there may be other regulatory developments throughout the year that could impact ING's operations and financial performance. Clarification is needed to assess the potential risks and challenges associated with these regulatory headwinds.\n\nBased on the new text, three new potential risks, issues, and concerns have been identified. These include provisions allocation onshore vs. offshore in Russia, uncertainty surrounding sanctions exposure and repayments, and regulatory headwinds beyond Basel IV.\n\nUpdated Summary of Potential Risks, Issues, and Concerns:\n\n1. Elevated risk cost impacting ROE: The mention of elevated risk costs impacting ROE suggests a potential increase in credit losses or provisions. This can arise from factors such as deteriorating credit quality, economic downturn, or higher default rates. Elevated risk costs can reduce ING's profitability and adversely impact its financial performance.\n\n2. Impact of invasion of Ukraine: The invasion of Ukraine poses new challenges for ING. Geopolitical tensions and potential economic impacts from the invasion can result in increased credit losses, market volatility, regulatory changes, and geopolitical uncertainties. These risks can negatively affect ING's operations and financial performance.\n\n3. Stagflation concerns: The mention of stagflation raises concerns about lower-than-expected growth and higher inflation. While ING benefits from a strong risk management framework and low-risk book structure, managing this scenario may still pose a challenge. The potential impact on the cost of risk is uncertain, but ING maintains a through-the-cycle perspective and believes it can manage the situation with no significant volatility in the cost of risk other than 25 bps.\n\n4. Negative interest rate impact: The question about the impact of ECB rate hikes and going back to zero raises concerns about the potential loss from negative deposit charging. Currently, ING incurs EUR 300 million on an annual basis from negative interest rate charging. As market rates change, the bank may also lose this amount. This can affect ING's net interest income and overall financial performance.\n\n5. Run down of the Russian book: The mention of the normal rundown of the Russian book based on maturities poses a potential risk for ING. While ING has credit insurance for a good part of the long-term portfolio, the run down of the short part may continue. This can lead to a reduced portfolio size and potential impacts on ING's performance.\n\n6. Potential impact of negative rates on revenue: The mention of the Wholesale bank being neutrally geared towards negative rates raises concerns about the potential impact on revenue as negative rates disappear. While there is an expectation of not losing revenue, the exact outcome is uncertain, and any revenue loss can affect ING's financial performance.\n\n7. Impact of higher mortgage rates on loan growth: The mention of higher mortgage rates and the impact on origination and loan growth in mortgages raises a new concern. If higher mortgage rates lead to decreased demand for mortgages, it could impact ING's loan growth in the retail sector. This can potentially affect the bank's overall financial performance.\n\n8. Exposure reduction in Russia and potential write-backs: The CEO mentioned a decrease in exposure with approximately EUR 1 billion in Russia. If the short-term exposure gets repaid back, there may be write-backs in terms of risk-weighted assets (RWA). However, the credit component's development in line with the exposure is uncertain and may pose risks to ING's financial performance.\n\n9. Provisions allocation onshore vs. offshore in Russia: The question about the allocation of provisions onshore and offshore in Russia indicates a need for clarification on the accounting treatment. The differentiation between onshore and offshore provisions can have implications for ING's financial reporting and risk management practices.\n\n10. Uncertainty surrounding sanctions exposure and repayments: The mention of EUR 3.3 billion in sanctions exposure and the potential for additional sanctions raises concerns about the uncertainty surrounding the amount and the impact on repayments. The speed at which this exposure may decrease due to sanctions and repayments is unclear, and ING's financial performance could be affected by changes in the sanctions landscape.\n\n11. Regulatory headwinds beyond Basel IV: The mention of potential regulatory headwinds in excess capital consideration prompts the need for further information on upcoming regulatory changes. While Basel IV is mentioned as a major regulatory framework, there may be other regulatory developments throughout the year that could impact ING's operations and financial performance. Clarification is needed to assess the potential risks and challenges associated with these regulatory headwinds.\n\nUpdated Summary of Potential Risks, Issues, and Concerns:\n\n1. Elevated risk cost impacting ROE: The mention of elevated risk costs impacting ROE suggests a potential increase in credit losses or provisions. This can arise from factors such as deteriorating credit quality, economic downturn, or higher default rates. Elevated risk costs can reduce ING's profitability and adversely impact its financial performance.\n\n2. Impact of invasion of Ukraine: The invasion of Ukraine poses new challenges for ING. Geopolitical tensions and potential economic impacts from the invasion can result in increased credit losses, market volatility, regulatory changes, and geopolitical uncertainties. These risks can negatively affect ING's operations and financial performance.\n\n3. Stagflation concerns: The mention of stagflation raises concerns about lower-than-expected growth and higher inflation. While ING benefits from a strong risk management framework and low-risk book structure, managing this scenario may still pose a challenge. The potential impact on the cost of risk is uncertain, but ING maintains a through-the-cycle perspective and believes it can manage the situation with no significant volatility in the cost of risk other than 25 bps.\n\n4. Negative interest rate impact: The question about the impact of ECB rate hikes and going back to zero raises concerns about the potential loss from negative deposit charging. Currently, ING incurs EUR 300 million on an annual basis from negative interest rate charging. As market rates change, the bank may also lose this amount. This can affect ING's net interest income and overall financial performance.\n\n5. Run down of the Russian book: The mention of the normal rundown of the Russian book based on maturities poses a potential risk for ING. While ING has credit insurance for a good part of the long-term portfolio, the run down of the short part may continue. This can lead to a reduced portfolio size and potential impacts on ING's performance.\n\n6. Potential impact of negative rates on revenue: The mention of the Wholesale bank being neutrally geared towards negative rates raises concerns about the potential impact on revenue as negative rates disappear. While there is an expectation of not losing revenue, the exact outcome is uncertain, and any revenue loss can affect ING's financial performance.\n\n7. Impact of higher mortgage rates on loan growth: The mention of higher mortgage rates and the impact on origination and loan growth in mortgages raises a new concern. If higher mortgage rates lead to decreased demand for mortgages, it could impact ING's loan growth in the retail sector. This can potentially affect the bank's overall financial performance.\n\n8. Exposure reduction in Russia and potential write-backs: The CEO mentioned a decrease in exposure with approximately EUR 1 billion in Russia. If the short-term exposure gets repaid back, there may be write-backs in terms of risk-weighted assets (RWA). However, the credit component's development in line with the exposure is uncertain and may pose risks to ING's financial performance.\n\n9. Provisions allocation onshore vs. offshore in Russia: The question about the allocation of provisions onshore and offshore in Russia indicates a need for clarification on the accounting treatment. The differentiation between onshore and offshore provisions can have implications for ING's financial reporting and risk management practices.\n\n10. Uncertainty surrounding sanctions exposure and repayments: The mention of EUR 3.3 billion in sanctions exposure and the potential for additional sanctions raises concerns about the uncertainty surrounding the amount and the impact on repayments. The speed at which this exposure may decrease due to sanctions and repayments is unclear, and ING's financial performance could be affected by changes in the sanctions landscape.\n\n11. Regulatory headwinds beyond Basel IV: The mention of potential regulatory headwinds in excess capital consideration prompts the need for further information on upcoming regulatory changes. While Basel IV is mentioned as a major regulatory framework, there may be other regulatory developments throughout the year that could impact ING's operations and financial performance. Clarification is needed to assess the potential risks and challenges associated with these regulatory headwinds.\n\nNew Potential Risk:\n\n12. Uncertainty regarding Net Interest Income (NII) guidance: The mention of providing more guidance on NII sensitivity on June 13th raises concerns about the uncertainty surrounding ING's Net Interest Income. Without clear guidance, it becomes challenging to assess the potential impact on ING's financial performance and make informed investment decisions.\n\nUpdated Summary of Potential Risks, Issues, and Concerns:\n\n1. Elevated risk cost impacting ROE: The mention of elevated risk costs impacting ROE suggests a potential increase in credit losses or provisions. This can arise from factors such as deteriorating credit quality, economic downturn, or higher default rates. Elevated risk costs can reduce ING's profitability and adversely impact its financial performance.\n\n2. Impact of invasion of Ukraine: The invasion of Ukraine poses new challenges for ING. Geopolitical tensions and potential economic impacts from the invasion can result in increased credit losses, market volatility, regulatory changes, and geopolitical uncertainties. These risks can negatively affect ING's operations and financial performance.\n\n3. Stagflation concerns: The mention of stagflation raises concerns about lower-than-expected growth and higher inflation. While ING benefits from a strong risk management framework and low-risk book structure, managing this scenario may still pose a challenge. The potential impact on the cost of risk is uncertain, but ING maintains a through-the-cycle perspective and believes it can manage the situation with no significant volatility in the cost of risk other than 25 bps.\n\n4. Negative interest rate impact: The question about the impact of ECB rate hikes and going back to zero raises concerns about the potential loss from negative deposit charging. Currently, ING incurs EUR 300 million on an annual basis from negative interest rate charging. As market rates change, the bank may also lose this amount. This can affect ING's net interest income and overall financial performance.\n\n5. Run down of the Russian book: The mention of the normal rundown of the Russian book based on maturities poses a potential risk for ING. While ING has credit insurance for a good part of the long-term portfolio, the run down of the short part may continue. This can lead to a reduced portfolio size and potential impacts on ING's performance.\n\n6. Potential impact of negative rates on revenue: The mention of the Wholesale bank being neutrally geared towards negative rates raises concerns about the potential impact on revenue as negative rates disappear. While there is an expectation of not losing revenue, the exact outcome is uncertain, and any revenue loss can affect ING's financial performance.\n\n7. Impact of higher mortgage rates on loan growth: The mention of higher mortgage rates and the impact on origination and loan growth in mortgages raises a new concern. If higher mortgage rates lead to decreased demand for mortgages, it could impact ING's loan growth in the retail sector. This can potentially affect the bank's overall financial performance.\n\n8. Exposure reduction in Russia and potential write-backs: The CEO mentioned a decrease in exposure with approximately EUR 1 billion in Russia. If the short-term exposure gets repaid back, there may be write-backs in terms of risk-weighted assets (RWA). However, the credit component's development in line with the exposure is uncertain and may pose risks to ING's financial performance.\n\n9. Provisions allocation onshore vs. offshore in Russia: The question about the allocation of provisions onshore and offshore in Russia indicates a need for clarification on the accounting treatment. The differentiation between onshore and offshore provisions can have implications for ING's financial reporting and risk management practices.\n\n10. Uncertainty surrounding sanctions exposure and repayments: The mention of EUR 3.3 billion in sanctions exposure and the potential for additional sanctions raises concerns about the uncertainty surrounding the amount and the impact on repayments. The speed at which this exposure may decrease due to sanctions and repayments is unclear, and ING's financial performance could be affected by changes in the sanctions landscape.\n\n11. Regulatory headwinds beyond Basel IV: The mention of potential regulatory headwinds in excess capital consideration prompts the need for further information on upcoming regulatory changes. While Basel IV is mentioned as a major regulatory framework, there may be other regulatory developments throughout the year that could impact ING's operations and financial performance. Clarification is needed to assess the potential risks and challenges associated with these regulatory headwinds.\n\n12. Uncertainty regarding Net Interest Income (NII) guidance: The mention of providing more guidance on NII sensitivity on June 13th raises concerns about the uncertainty surrounding ING's Net Interest Income. Without clear guidance, it becomes challenging to assess the potential impact on ING's financial performance and make informed investment decisions.\n\nUpdated Summary of Potential Risks, Issues, and Concerns:\n\n1. Elevated risk cost impacting ROE: The mention of elevated risk costs impacting ROE suggests a potential increase in credit losses or provisions. This can arise from factors such as deteriorating credit quality, economic downturn, or higher default rates. Elevated risk costs can reduce ING's profitability and adversely impact its financial performance.\n\n2. Impact of invasion of Ukraine: The invasion of Ukraine poses new challenges for ING. Geopolitical tensions and potential economic impacts from the invasion can result in increased credit losses, market volatility, regulatory changes, and geopolitical uncertainties. These risks can negatively affect ING's operations and financial performance.\n\n3. Stagflation concerns: The mention of stagflation raises concerns about lower-than-expected growth and higher inflation. While ING benefits from a strong risk management framework and low-risk book structure, managing this scenario may still pose a challenge. The potential impact on the cost of risk is uncertain, but ING maintains a through-the-cycle perspective and believes it can manage the situation with no significant volatility in the cost of risk other than 25 bps.\n\n4. Negative interest rate impact: The question about the impact of ECB rate hikes and going back to zero raises concerns about the potential loss from negative deposit charging. Currently, ING incurs EUR 300 million on an annual basis from negative interest rate charging. As market rates change, the bank may also lose this amount. This can affect ING's net interest income and overall financial performance.\n\n5. Run down of the Russian book: The mention of the normal rundown of the Russian book based on maturities poses a potential risk for ING. While ING has credit insurance for a good part of the long-term portfolio, the run-down of the short part may continue. This can lead to a reduced portfolio size and potential impacts on ING's performance.\n\n6. Potential impact of negative rates on revenue: The mention of the Wholesale bank being neutrally geared towards negative rates raises concerns about the potential impact on revenue as negative rates disappear. While there is an expectation of not losing revenue, the exact outcome is uncertain, and any revenue loss can affect ING's financial performance.\n\n7. Impact of higher mortgage rates on loan growth: The mention of higher mortgage rates and the impact on origination and loan growth in mortgages raises a new concern. If higher mortgage rates lead to decreased demand for mortgages, it could impact ING's loan growth in the retail sector. This can potentially affect the bank's overall financial performance.\n\n8. Exposure reduction in Russia and potential write-backs: The CEO mentioned a decrease in exposure with approximately EUR 1 billion in Russia. If the short-term exposure gets repaid back, there may be write-backs in terms of risk-weighted assets (RWA). However, the credit component's development in line with the exposure is uncertain and may pose risks to ING's financial performance.\n\n9. Provisions allocation onshore vs. offshore in Russia: The question about the allocation of provisions onshore and offshore in Russia indicates a need for clarification on the accounting treatment. The differentiation between onshore and offshore provisions can have implications for ING's financial reporting and risk management practices.\n\n10. Uncertainty surrounding sanctions exposure and repayments: The mention of EUR 3.3 billion in sanctions exposure and the potential for additional sanctions raises concerns about the uncertainty surrounding the amount and the impact on repayments. The speed at which this exposure may decrease due to sanctions and repayments is unclear, and ING's financial performance could be affected by changes in the sanctions landscape.\n\n11. Regulatory headwinds beyond Basel IV: The mention of potential regulatory headwinds in excess capital consideration prompts the need for further information on upcoming regulatory changes. While Basel IV is mentioned as a major regulatory framework, there may be other regulatory developments throughout the year that could impact ING's operations and financial performance. Clarification is needed to assess the potential risks and challenges associated with these regulatory headwinds.\n\n12. Uncertainty regarding Net Interest Income (NII) guidance: The mention of providing more guidance on NII sensitivity on June 13th raises concerns about the uncertainty surrounding ING's Net Interest Income. Without clear guidance, it becomes challenging to assess the potential impact on ING's financial performance and make informed investment decisions.\n\n13. Implications of macroeconomic factors on cost of risk: The mention of the complexity behind determining the cost of risk based on GDP alone raises concerns about the implications of other macroeconomic factors such as inflation, unemployment, and energy prices. Without disclosure of the specific moving parts, it becomes difficult to assess the potential impact on ING's cost of risk and its overall financial performance.\n\nUpdated Summary of Potential Risks, Issues, and Concerns:\n\n1. Elevated risk cost impacting ROE: The mention of elevated risk costs impacting ROE suggests a potential increase in credit losses or provisions. This can arise from factors such as deteriorating credit quality, economic downturn, or higher default rates. Elevated risk costs can reduce ING's profitability and adversely impact its financial performance.\n\n2. Impact of invasion of Ukraine: The invasion of Ukraine poses new challenges for ING. Geopolitical tensions and potential economic impacts from the invasion can result in increased credit losses, market volatility, regulatory changes, and geopolitical uncertainties. These risks can negatively affect ING's operations and financial performance.\n\n3. Stagflation concerns: The mention of stagflation raises concerns about lower-than-expected growth and higher inflation. While ING benefits from a strong risk management framework and low-risk book structure, managing this scenario may still pose a challenge. The potential impact on the cost of risk is uncertain, but ING maintains a through-the-cycle perspective and believes it can manage the situation with no significant volatility in the cost of risk other than 25 bps.\n\n4. Negative interest rate impact: The question about the impact of ECB rate hikes and going back to zero raises concerns about the potential loss from negative deposit charging. Currently, ING incurs EUR 300 million on an annual basis from negative interest rate charging. As market rates change, the bank may also lose this amount. This can affect ING's net interest income and overall financial performance.\n\n5. Run down of the Russian book: The mention of the normal rundown of the Russian book based on maturities poses a potential risk for ING. While ING has credit insurance for a good part of the long-term portfolio, the run-down of the short part may continue. This can lead to a reduced portfolio size and potential impacts on ING's performance.\n\n6. Potential impact of negative rates on revenue: The mention of the Wholesale bank being neutrally geared towards negative rates raises concerns about the potential impact on revenue as negative rates disappear. While there is an expectation of not losing revenue, the exact outcome is uncertain, and any revenue loss can affect ING's financial performance.\n\n7. Impact of higher mortgage rates on loan growth: The mention of higher mortgage rates and the impact on origination and loan growth in mortgages raises a new concern. If higher mortgage rates lead to decreased demand for mortgages, it could impact ING's loan growth in the retail sector. This can potentially affect the bank's overall financial performance.\n\n8. Exposure reduction in Russia and potential write-backs: The CEO mentioned a decrease in exposure with approximately EUR 1 billion in Russia. If the short-term exposure gets repaid back, there may be write-backs in terms of risk-weighted assets (RWA). However, the credit component's development in line with the exposure is uncertain and may pose risks to ING's financial performance.\n\n9. Provisions allocation onshore vs. offshore in Russia: The question about the allocation of provisions onshore and offshore in Russia indicates a need for clarification on the accounting treatment. The differentiation between onshore and offshore provisions can have implications for ING's financial reporting and risk management practices.\n\n10. Uncertainty surrounding sanctions exposure and repayments: The mention of EUR 3.3 billion in sanctions exposure and the potential for additional sanctions raises concerns about the uncertainty surrounding the amount and the impact on repayments. The speed at which this exposure may decrease due to sanctions and repayments is unclear, and ING's financial performance could be affected by changes in the sanctions landscape.\n\n11. Regulatory headwinds beyond Basel IV: The mention of potential regulatory headwinds in excess capital consideration prompts the need for further information on upcoming regulatory changes. While Basel IV is mentioned as a major regulatory framework, there may be other regulatory developments throughout the year that could impact ING's operations and financial performance. Clarification is needed to assess the potential risks and challenges associated with these regulatory headwinds.\n\n12. Uncertainty regarding Net Interest Income (NII) guidance: The mention of providing more guidance on NII sensitivity on June 13th raises concerns about the uncertainty surrounding ING's Net Interest Income. Without clear guidance, it becomes challenging to assess the potential impact on ING's financial performance and make informed investment decisions.\n\n13. Implications of macroeconomic factors on cost of risk: The mention of the complexity behind determining the cost of risk based on GDP alone raises concerns about the implications of other macroeconomic factors such as inflation, unemployment, and energy prices. Without disclosure of the specific moving parts, it becomes difficult to assess the potential impact on ING's cost of risk and its overall financial performance.\n\n14. Tax implications of buybacks in The Netherlands: The request for more explanation about the tax implications of buybacks in The Netherlands raises a new concern. Understanding the tax implications is crucial in determining the feasibility and impact of future capital return decisions, including the choice between cash dividends and buybacks. Lack of clarity on this matter can hinder effective capital management and potentially impact ING's financial performance.\n\n15. Revenue/P&L loss from unwind of Russian activities: The request for disclosure about the revenue/P&L loss on the unwind of the Russian activities highlights a new risk. The unwind of Russian activities may result in a loss of revenue or negative impact on the profit and loss statement. Without specific disclosure, it becomes challenging to assess the potential financial impact of this unwind on ING's overall performance.\n\nUpdated Summary of Potential Risks, Issues, and Concerns:\n\n1. Elevated risk cost impacting ROE: The mention of elevated risk costs impacting ROE suggests a potential increase in credit losses or provisions. This can arise from factors such as deteriorating credit quality, economic downturn, or higher default rates. Elevated risk costs can reduce ING's profitability and adversely impact its financial performance.\n\n2. Impact of invasion of Ukraine: The invasion of Ukraine poses new challenges for ING. Geopolitical tensions and potential economic impacts from the invasion can result in increased credit losses, market volatility, regulatory changes, and geopolitical uncertainties. These risks can negatively affect ING's operations and financial performance.\n\n3. Stagflation concerns: The mention of stagflation raises concerns about lower-than-expected growth and higher inflation. While ING benefits from a strong risk management framework and low-risk book structure, managing this scenario may still pose a challenge. The potential impact on the cost of risk is uncertain, but ING maintains a through-the-cycle perspective and believes it can manage the situation with no significant volatility in the cost of risk other than 25 bps.\n\n4. Negative interest rate impact: The question about the impact of ECB rate hikes and going back to zero raises concerns about the potential loss from negative deposit charging. Currently, ING incurs EUR 300 million on an annual basis from negative interest rate charging. As market rates change, the bank may also lose this amount. This can affect ING's net interest income and overall financial performance.\n\n5. Run down of the Russian book: The mention of the normal rundown of the Russian book based on maturities poses a potential risk for ING. While ING has credit insurance for a good part of the long-term portfolio, the run-down of the short part may continue. This can lead to a reduced portfolio size and potential impacts on ING's performance.\n\n6. Potential impact of negative rates on revenue: The mention of the Wholesale bank being neutrally geared towards negative rates raises concerns about the potential impact on revenue as negative rates disappear. While there is an expectation of not losing revenue, the exact outcome is uncertain, and any revenue loss can affect ING's financial performance.\n\n7. Impact of higher mortgage rates on loan growth: The mention of higher mortgage rates and the impact on origination and loan growth in mortgages raises a new concern. If higher mortgage rates lead to decreased demand for mortgages, it could impact ING's loan growth in the retail sector. This can potentially affect the bank's overall financial performance.\n\n8. Exposure reduction in Russia and potential write-backs: The CEO mentioned a decrease in exposure with approximately EUR 1 billion in Russia. If the short-term exposure gets repaid back, there may be write-backs in terms of risk-weighted assets (RWA). However, the credit component's development in line with the exposure is uncertain and may pose risks to ING's financial performance.\n\n9. Provisions allocation onshore vs. offshore in Russia: The question about the allocation of provisions onshore and offshore in Russia indicates a need for clarification on the accounting treatment. The differentiation between onshore and offshore provisions can have implications for ING's financial reporting and risk management practices.\n\n10. Uncertainty surrounding sanctions exposure and repayments: The mention of EUR 3.3 billion in sanctions exposure and the potential for additional sanctions raises concerns about the uncertainty surrounding the amount and the impact on repayments. The speed at which this exposure may decrease due to sanctions and repayments is unclear, and ING's financial performance could be affected by changes in the sanctions landscape.\n\n11. Regulatory headwinds beyond Basel IV: The mention of potential regulatory headwinds in excess capital consideration prompts the need for further information on upcoming regulatory changes. While Basel IV is mentioned as a major regulatory framework, there may be other regulatory developments throughout the year that could impact ING's operations and financial performance. Clarification is needed to assess the potential risks and challenges associated with these regulatory headwinds.\n\n12. Uncertainty regarding Net Interest Income (NII) guidance: The mention of providing more guidance on NII sensitivity on June 13th raises concerns about the uncertainty surrounding ING's Net Interest Income. Without clear guidance, it becomes challenging to assess the potential impact on ING's financial performance and make informed investment decisions.\n\n13. Implications of macroeconomic factors on cost of risk: The mention of the complexity behind determining the cost of risk based on GDP alone raises concerns about the implications of other macroeconomic factors such as inflation, unemployment, and energy prices. Without disclosure of the specific moving parts, it becomes difficult to assess the potential impact on ING's cost of risk and its overall financial performance.\n\n14. Tax implications of buybacks in The Netherlands: The request for more explanation about the tax implications of buybacks in The Netherlands raises a new concern. Understanding the tax implications is crucial in determining the feasibility and impact of future capital return decisions, including the choice between cash dividends and buybacks. Lack of clarity on this matter can hinder effective capital management and potentially impact ING's financial performance.\n\n15. Revenue/P&L loss from unwind of Russian activities: The request for disclosure about the revenue/P&L loss on the unwind of the Russian activities highlights a new risk. The unwind of Russian activities may result in a loss of revenue or negative impact on the profit and loss statement. Without specific disclosure, it becomes challenging to assess the potential financial impact of this unwind on ING's overall performance.\n\nUpdated Summary of Potential Risks, Issues, and Concerns:\n\n1. Elevated risk cost impacting ROE: The mention of elevated risk costs impacting ROE suggests a potential increase in credit losses or provisions. This can arise from factors such as deteriorating credit quality, economic downturn, or higher default rates. Elevated risk costs can reduce ING's profitability and adversely impact its financial performance.\n\n2. Impact of invasion of Ukraine: The invasion of Ukraine poses new challenges for ING. Geopolitical tensions and potential economic impacts from the invasion can result in increased credit losses, market volatility, regulatory changes, and geopolitical uncertainties. These risks can negatively affect ING's operations and financial performance.\n\n3. Stagflation concerns: The mention of stagflation raises concerns about lower-than-expected growth and higher inflation. While ING benefits from a strong risk management framework and low-risk book structure, managing this scenario may still pose a challenge. The potential impact on the cost of risk is uncertain, but ING maintains a through-the-cycle perspective and believes it can manage the situation with no significant volatility in the cost of risk other than 25 bps.\n\n4. Negative interest rate impact: The question about the impact of ECB rate hikes and going back to zero raises concerns about the potential loss from negative deposit charging. Currently, ING incurs EUR 300 million on an annual basis from negative interest rate charging. As market rates change, the bank may also lose this amount. This can affect ING's net interest income and overall financial performance.\n\n5. Run down of the Russian book: The mention of the normal rundown of the Russian book based on maturities poses a potential risk for ING. While ING has credit insurance for a good part of the long-term portfolio, the run-down of the short part may continue. This can lead to a reduced portfolio size and potential impacts on ING's performance.\n\n6. Potential impact of negative rates on revenue: The mention of the Wholesale bank being neutrally geared towards negative rates raises concerns about the potential impact on revenue as negative rates disappear. While there is an expectation of not losing revenue, the exact outcome is uncertain, and any revenue loss can affect ING's financial performance.\n\n7. Impact of higher mortgage rates on loan growth: The mention of higher mortgage rates and the impact on origination and loan growth in mortgages raises a new concern. If higher mortgage rates lead to decreased demand for mortgages, it could impact ING's loan growth in the retail sector. This can potentially affect the bank's overall financial performance.\n\n8. Exposure reduction in Russia and potential write-backs: The CEO mentioned a decrease in exposure with approximately EUR 1 billion in Russia. If the short-term exposure gets repaid back, there may be write-backs in terms of risk-weighted assets (RWA). However, the credit component's development in line with the exposure is uncertain and may pose risks to ING's financial performance.\n\n9. Provisions allocation onshore vs. offshore in Russia: The question about the allocation of provisions onshore and offshore in Russia indicates a need for clarification on the accounting treatment. The differentiation between onshore and offshore provisions can have implications for ING's financial reporting and risk management practices.\n\n10. Uncertainty surrounding sanctions exposure and repayments: The mention of EUR 3.3 billion in sanctions exposure and the potential for additional sanctions raises concerns about the uncertainty surrounding the amount and the impact on repayments. The speed at which this exposure may decrease due to sanctions and repayments is unclear, and ING's financial performance could be affected by changes in the sanctions landscape.\n\n11. Regulatory headwinds beyond Basel IV: The mention of potential regulatory headwinds in excess capital consideration prompts the need for further information on upcoming regulatory changes. While Basel IV is mentioned as a major regulatory framework, there may be other regulatory developments throughout the year that could impact ING's operations and financial performance. Clarification is needed to assess the potential risks and challenges associated with these regulatory headwinds.\n\n12. Uncertainty regarding Net Interest Income (NII) guidance: The mention of providing more guidance on NII sensitivity on June 13th raises concerns about the uncertainty surrounding ING's Net Interest Income. Without clear guidance, it becomes challenging to assess the potential impact on ING's financial performance and make informed investment decisions.\n\n13. Implications of macroeconomic factors on cost of risk: The mention of the complexity behind determining the cost of risk based on GDP alone raises concerns about the implications of other macroeconomic factors such as inflation, unemployment, and energy prices. Without disclosure of the specific moving parts, it becomes difficult to assess the potential impact on ING's cost of risk and its overall financial performance.\n\n14. Tax implications of buybacks in The Netherlands: The request for more explanation about the tax implications of buybacks in The Netherlands raises a new concern. Understanding the tax implications is crucial in determining the feasibility and impact of future capital return decisions, including the choice between cash dividends and buybacks. Lack of clarity on this matter can hinder effective capital management and potentially impact ING's financial performance.\n\n15. Revenue/P&L loss from unwind of Russian activities: The request for disclosure about the revenue/P&L loss on the unwind of the Russian activities highlights a new risk. The unwind of Russian activities may result in a loss of revenue or negative impact on the profit and loss statement. Without specific disclosure, it becomes challenging to assess the potential financial impact of this unwind on ING's overall performance.\n\n16. Implications of potential higher provisioning: The mention of potential higher provisioning due to the pandemic and the need to assess the impact raises a new concern. The ongoing COVID-19 pandemic may lead to increased credit losses and provisions, impacting ING's financial performance. The extent of the impact and the adequacy of existing provisions need to be evaluated to understand the potential risks and challenges for ING.\n\nUpdated Summary of Potential Risks, Issues, and Concerns:\n\n1. Elevated risk cost impacting ROE: The mention of elevated risk costs impacting ROE suggests a potential increase in credit losses or provisions. This can arise from factors such as deteriorating credit quality, economic downturn, or higher default rates. Elevated risk costs can reduce ING's profitability and adversely impact its financial performance.\n\n2. Impact of invasion of Ukraine: The invasion of Ukraine poses new challenges for ING. Geopolitical tensions and potential economic impacts from the invasion can result in increased credit losses, market volatility, regulatory changes, and geopolitical uncertainties. These risks can negatively affect ING's operations and financial performance.\n\n3. Stagflation concerns: The mention of stagflation raises concerns about lower-than-expected growth and higher inflation. While ING benefits from a strong risk management framework and low-risk book structure, managing this scenario may still pose a challenge. The potential impact on the cost of risk is uncertain, but ING maintains a through-the-cycle perspective and believes it can manage the situation with no significant volatility in the cost of risk other than 25 bps.\n\n4. Negative interest rate impact: The question about the impact of ECB rate hikes and going back to zero raises concerns about the potential loss from negative deposit charging. Currently, ING incurs EUR 300 million on an annual basis from negative interest rate charging. As market rates change, the bank may also lose this amount. This can affect ING's net interest income and overall financial performance.\n\n5. Run down of the Russian book: The mention of the normal rundown of the Russian book based on maturities poses a potential risk for ING. While ING has credit insurance for a good part of the long-term portfolio, the run-down of the short part may continue. This can lead to a reduced portfolio size and potential impacts on ING's performance.\n\n6. Potential impact of negative rates on revenue: The mention of the Wholesale bank being neutrally geared towards negative rates raises concerns about the potential impact on revenue as negative rates disappear. While there is an expectation of not losing revenue, the exact outcome is uncertain, and any revenue loss can affect ING's financial performance.\n\n7. Impact of higher mortgage rates on loan growth: The mention of higher mortgage rates and the impact on origination and loan growth in mortgages raises a new concern. If higher mortgage rates lead to decreased demand for mortgages, it could impact ING's loan growth in the retail sector. This can potentially affect the bank's overall financial performance.\n\n8. Exposure reduction in Russia and potential write-backs: The CEO mentioned a decrease in exposure with approximately EUR 1 billion in Russia. If the short-term exposure gets repaid back, there may be write-backs in terms of risk-weighted assets (RWA). However, the credit component's development in line with the exposure is uncertain and may pose risks to ING's financial performance.\n\n9. Provisions allocation onshore vs. offshore in Russia: The question about the allocation of provisions onshore and offshore in Russia indicates a need for clarification on the accounting treatment. The differentiation between onshore and offshore provisions can have implications for ING's financial reporting and risk management practices.\n\n10. Uncertainty surrounding sanctions exposure and repayments: The mention of EUR 3.3 billion in sanctions exposure and the potential for additional sanctions raises concerns about the uncertainty surrounding the amount and the impact on repayments. The speed at which this exposure may decrease due to sanctions and repayments is unclear, and ING's financial performance could be affected by changes in the sanctions landscape.\n\n11. Regulatory headwinds beyond Basel IV: The mention of potential regulatory headwinds in excess capital consideration prompts the need for further information on upcoming regulatory changes. While Basel IV is mentioned as a major regulatory framework, there may be other regulatory developments throughout the year that could impact ING's operations and financial performance. Clarification is needed to assess the potential risks and challenges associated with these regulatory headwinds.\n\n12. Uncertainty regarding Net Interest Income (NII) guidance: The mention of providing more guidance on NII sensitivity on June 13th raises concerns about the uncertainty surrounding ING's Net Interest Income. Without clear guidance, it becomes challenging to assess the potential impact on ING's financial performance and make informed investment decisions.\n\n13. Implications of macroeconomic factors on cost of risk: The mention of the complexity behind determining the cost of risk based on GDP alone raises concerns about the implications of other macroeconomic factors such as inflation, unemployment, and energy prices. Without disclosure of the specific moving parts, it becomes difficult to assess the potential impact on ING's cost of risk and its overall financial performance.\n\n14. Tax implications of buybacks in The Netherlands: The request for more explanation about the tax implications of buybacks in The Netherlands raises a new concern. Understanding the tax implications is crucial in determining the feasibility and impact of future capital return decisions, including the choice between cash dividends and buybacks. Lack of clarity on this matter can hinder effective capital management and potentially impact ING's financial performance.\n\n15. Revenue/P&L loss from unwind of Russian activities: The request for disclosure about the revenue/P&L loss on the unwind of the Russian activities highlights a new risk. The unwind of Russian activities may result in a loss of revenue or negative impact on the profit and loss statement. Without specific disclosure, it becomes challenging to assess the potential financial impact of this unwind on ING's overall performance.\n\n16. Implications of potential higher provisioning: The mention of potential higher provisioning due to the pandemic and the need to assess the impact raises a new concern. The ongoing COVID-19 pandemic may lead to increased credit losses and provisions, impacting ING's financial performance. The extent of the impact and the adequacy of existing provisions need to be evaluated to understand the potential risks and challenges for ING.\n\n17. Volatile items in income and expenses: The new information provided in the financial earnings transcript highlights the volatility in ING's income and expenses. Fluctuations in valuation adjustments, capital gains/losses, hedge ineffectiveness, and other income items can impact ING's financial performance. Similarly, incidental items expenses can add unpredictability to ING's financial results. Managing and mitigating these volatile items and expenses is crucial for ING to maintain stability and profitability.\n\n18. Regulatory costs: The significant regulatory costs reported in the transcript raise concerns about the financial impact on ING. The magnitude of these costs, especially the negative trend observed over multiple quarters, can impact ING's profitability and financial performance. Understanding the nature and reasons behind these regulatory costs is essential for effective financial planning and risk management.\n\nUpdated Summary of Potential Risks, Issues, and Concerns:\n\n1. Elevated risk cost impacting ROE: The mention of elevated risk costs impacting ROE suggests a potential increase in credit losses or provisions. This can arise from factors such as deteriorating credit quality, economic downturn, or higher default rates. Elevated risk costs can reduce ING's profitability and adversely impact its financial performance.\n\n2. Impact of invasion of Ukraine: The invasion of Ukraine poses new challenges for ING. Geopolitical tensions and potential economic impacts from the invasion can result in increased credit losses, market volatility, regulatory changes, and geopolitical uncertainties. These risks can negatively affect ING's operations and financial performance.\n\n3. Stagflation concerns: The mention of stagflation raises concerns about lower-than-expected growth and higher inflation. While ING benefits from a strong risk management framework and low-risk book structure, managing this scenario may still pose a challenge. The potential impact on the cost of risk is uncertain, but ING maintains a through-the-cycle perspective and believes it can manage the situation with no significant volatility in the cost of risk other than 25 bps.\n\n4. Negative interest rate impact: The question about the impact of ECB rate hikes and going back to zero raises concerns about the potential loss from negative deposit charging. Currently, ING incurs EUR 300 million on an annual basis from negative interest rate charging. As market rates change, the bank may also lose this amount. This can affect ING's net interest income and overall financial performance.\n\n5. Run down of the Russian book: The mention of the normal rundown of the Russian book based on maturities poses a potential risk for ING. While ING has credit insurance for a good part of the long-term portfolio, the run-down of the short part may continue. This can lead to a reduced portfolio size and potential impacts on ING's performance.\n\n6. Potential impact of negative rates on revenue: The mention of the Wholesale bank being neutrally geared towards negative rates raises concerns about the potential impact on revenue as negative rates disappear. While there is an expectation of not losing revenue, the exact outcome is uncertain, and any revenue loss can affect ING's financial performance.\n\n7. Impact of higher mortgage rates on loan growth: The mention of higher mortgage rates and the impact on origination and loan growth in mortgages raises a new concern. If higher mortgage rates lead to decreased demand for mortgages, it could impact ING's loan growth in the retail sector. This can potentially affect the bank's overall financial performance.\n\n8. Exposure reduction in Russia and potential write-backs: The CEO mentioned a decrease in exposure with approximately EUR 1 billion in Russia. If the short-term exposure gets repaid back, there may be write-backs in terms of risk-weighted assets (RWA). However, the credit component's development in line with the exposure is uncertain and may pose risks to ING's financial performance.\n\n9. Provisions allocation onshore vs. offshore in Russia: The question about the allocation of provisions onshore and offshore in Russia indicates a need for clarification on the accounting treatment. The differentiation between onshore and offshore provisions can have implications for ING's financial reporting and risk management practices.\n\n10. Uncertainty surrounding sanctions exposure and repayments: The mention of EUR 3.3 billion in sanctions exposure and the potential for additional sanctions raises concerns about the uncertainty surrounding the amount and the impact on repayments. The speed at which this exposure may decrease due to sanctions and repayments is unclear, and ING's financial performance could be affected by changes in the sanctions landscape.\n\n11. Regulatory headwinds beyond Basel IV: The mention of potential regulatory headwinds in excess capital consideration prompts the need for further information on upcoming regulatory changes. While Basel IV is mentioned as a major regulatory framework, there may be other regulatory developments throughout the year that could impact ING's operations and financial performance. Clarification is needed to assess the potential risks and challenges associated with these regulatory headwinds.\n\n12. Uncertainty regarding Net Interest Income (NII) guidance: The mention of providing more guidance on NII sensitivity on June 13th raises concerns about the uncertainty surrounding ING's Net Interest Income. Without clear guidance, it becomes challenging to assess the potential impact on ING's financial performance and make informed investment decisions.\n\n13. Implications of macroeconomic factors on cost of risk: The mention of the complexity behind determining the cost of risk based on GDP alone raises concerns about the implications of other macroeconomic factors such as inflation, unemployment, and energy prices. Without disclosure of the specific moving parts, it becomes difficult to assess the potential impact on ING's cost of risk and its overall financial performance.\n\n14. Tax implications of buybacks in The Netherlands: The request for more explanation about the tax implications of buybacks in The Netherlands raises a new concern. Understanding the tax implications is crucial in determining the feasibility and impact of future capital return decisions, including the choice between cash dividends and buybacks. Lack of clarity on this matter can hinder effective capital management and potentially impact ING's financial performance.\n\n15. Revenue/P&L loss from unwind of Russian activities: The request for disclosure about the revenue/P&L loss on the unwind of the Russian activities highlights a new risk. The unwind of Russian activities may result in a loss of revenue or negative impact on the profit and loss statement. Without specific disclosure, it becomes challenging to assess the potential financial impact of this unwind on ING's overall performance.\n\n16. Implications of potential higher provisioning: The mention of potential higher provisioning due to the pandemic and the need to assess the impact raises a new concern. The ongoing COVID-19 pandemic may lead to increased credit losses and provisions, impacting ING's financial performance. The extent of the impact and the adequacy of existing provisions need to be evaluated to understand the potential risks and challenges for ING.\n\n17. Volatile items in income and expenses: The new information provided in the financial earnings transcript highlights the volatility in ING's income and expenses. Fluctuations in valuation adjustments, capital gains/losses, hedge ineffectiveness, and other income items can impact ING's financial performance. Similarly, incidental items expenses can add unpredictability to ING's financial results. Managing and mitigating these volatile items and expenses is crucial for ING to maintain stability and profitability.\n\n18. Regulatory costs: The significant regulatory costs reported in the transcript raise concerns about the financial impact on ING. The magnitude of these costs, especially the negative trend observed over multiple quarters, can impact ING's profitability and financial performance. Understanding the nature and reasons behind these regulatory costs is essential for effective financial planning and risk management.\n\n19. Diversification and collateralization of loan book: The new information from the transcript highlights ING's well-diversified and well-collateralized loan book, with a strong focus on own-originated mortgages and senior loans. While this information may indicate a lower level of risk, it is important to monitor the performance of these loans and ensure that the collateral remains sufficient to mitigate potential credit losses.\n\nUpdated Summary of Potential Risks, Issues, and Concerns:\n\n1. Elevated risk cost impacting ROE: The mention of elevated risk costs impacting ROE suggests a potential increase in credit losses or provisions. This can arise from factors such as deteriorating credit quality, economic downturn, or higher default rates. Elevated risk costs can reduce ING's profitability and adversely impact its financial performance.\n\n2. Impact of invasion of Ukraine: The invasion of Ukraine poses new challenges for ING. Geopolitical tensions and potential economic impacts from the invasion can result in increased credit losses, market volatility, regulatory changes, and geopolitical uncertainties. These risks can negatively affect ING's operations and financial performance.\n\n3. Stagflation concerns: The mention of stagflation raises concerns about lower-than-expected growth and higher inflation. While ING benefits from a strong risk management framework and low-risk book structure, managing this scenario may still pose a challenge. The potential impact on the cost of risk is uncertain, but ING maintains a through-the-cycle perspective and believes it can manage the situation with no significant volatility in the cost of risk other than 25 bps.\n\n4. Negative interest rate impact: The question about the impact of ECB rate hikes and going back to zero raises concerns about the potential loss from negative deposit charging. Currently, ING incurs EUR 300 million on an annual basis from negative interest rate charging. As market rates change, the bank may also lose this amount. This can affect ING's net interest income and overall financial performance.\n\n5. Run down of the Russian book: The mention of the normal rundown of the Russian book based on maturities poses a potential risk for ING. While ING has credit insurance for a good part of the long-term portfolio, the run-down of the short part may continue. This can lead to a reduced portfolio size and potential impacts on ING's performance.\n\n6. Potential impact of negative rates on revenue: The mention of the Wholesale bank being neutrally geared towards negative rates raises concerns about the potential impact on revenue as negative rates disappear. While there is an expectation of not losing revenue, the exact outcome is uncertain, and any revenue loss can affect ING's financial performance.\n\n7. Impact of higher mortgage rates on loan growth: The mention of higher mortgage rates and the impact on origination and loan growth in mortgages raises a new concern. If higher mortgage rates lead to decreased demand for mortgages, it could impact ING's loan growth in the retail sector. This can potentially affect the bank's overall financial performance.\n\n8. Exposure reduction in Russia and potential write-backs: The CEO mentioned a decrease in exposure with approximately EUR 1 billion in Russia. If the short-term exposure gets repaid back, there may be write-backs in terms of risk-weighted assets (RWA). However, the credit component's development in line with the exposure is uncertain and may pose risks to ING's financial performance.\n\n9. Provisions allocation onshore vs. offshore in Russia: The question about the allocation of provisions onshore and offshore in Russia indicates a need for clarification on the accounting treatment. The differentiation between onshore and offshore provisions can have implications for ING's financial reporting and risk management practices.\n\n10. Uncertainty surrounding sanctions exposure and repayments: The mention of EUR 3.3 billion in sanctions exposure and the potential for additional sanctions raises concerns about the uncertainty surrounding the amount and the impact on repayments. The speed at which this exposure may decrease due to sanctions and repayments is unclear, and ING's financial performance could be affected by changes in the sanctions landscape.\n\n11. Regulatory headwinds beyond Basel IV: The mention of potential regulatory headwinds in excess capital consideration prompts the need for further information on upcoming regulatory changes. While Basel IV is mentioned as a major regulatory framework, there may be other regulatory developments throughout the year that could impact ING's operations and financial performance. Clarification is needed to assess the potential risks and challenges associated with these regulatory headwinds.\n\n12. Uncertainty regarding Net Interest Income (NII) guidance: The mention of providing more guidance on NII sensitivity on June 13th raises concerns about the uncertainty surrounding ING's Net Interest Income. Without clear guidance, it becomes challenging to assess the potential impact on ING's financial performance and make informed investment decisions.\n\n13. Implications of macroeconomic factors on cost of risk: The mention of the complexity behind determining the cost of risk based on GDP alone raises concerns about the implications of other macroeconomic factors such as inflation, unemployment, and energy prices. Without disclosure of the specific moving parts, it becomes difficult to assess the potential impact on ING's cost of risk and its overall financial performance.\n\n14. Tax implications of buybacks in The Netherlands: The request for more explanation about the tax implications of buybacks in The Netherlands raises a new concern. Understanding the tax implications is crucial in determining the feasibility and impact of future capital return decisions, including the choice between cash dividends and buybacks. Lack of clarity on this matter can hinder effective capital management and potentially impact ING's financial performance.\n\n15. Revenue/P&L loss from unwind of Russian activities: The request for disclosure about the revenue/P&L loss on the unwind of the Russian activities highlights a new risk. The unwind of Russian activities may result in a loss of revenue or negative impact on the profit and loss statement. Without specific disclosure, it becomes challenging to assess the potential financial impact of this unwind on ING's overall performance.\n\n16. Implications of potential higher provisioning: The mention of potential higher provisioning due to the pandemic and the need to assess the impact raises a new concern. The ongoing COVID-19 pandemic may lead to increased credit losses and provisions, impacting ING's financial performance. The extent of the impact and the adequacy of existing provisions need to be evaluated to understand the potential risks and challenges for ING.\n\n17. Volatile items in income and expenses: The new information provided in the financial earnings transcript highlights the volatility in ING's income and expenses. Fluctuations in valuation adjustments, capital gains/losses, hedge ineffectiveness, and other income items can impact ING's financial performance. Similarly, incidental items expenses can add unpredictability to ING's financial results. Managing and mitigating these volatile items and expenses is crucial for ING to maintain stability and profitability.\n\n18. Regulatory costs: The significant regulatory costs reported in the transcript raise concerns about the financial impact on ING. The magnitude of these costs, especially the negative trend observed over multiple quarters, can impact ING's profitability and financial performance. Understanding the nature and reasons behind these regulatory costs is essential for effective financial planning and risk management.\n\n19. Diversification and collateralization of loan book: The new information from the transcript highlights ING's well-diversified and well-collateralized loan book, with a strong focus on own-originated mortgages and senior loans. While this information may indicate a lower level of risk, it is important to monitor the performance of these loans and ensure that the collateral remains sufficient to mitigate potential credit losses.\n\n20. Exposure to oil price risk: The mention of direct exposure to oil price risk in Hong Kong and indirect exposure in other Asian countries raises a new concern. Fluctuations in oil prices can impact the credit quality of borrowers in the oil and gas industry, potentially leading to increased credit losses and provisions. Assessing and managing this exposure is crucial for ING to mitigate potential risks and challenges in its loan portfolio.\n\nUpdated Summary of Potential Risks, Issues, and Concerns:\n\n1. Elevated risk cost impacting ROE: The mention of elevated risk costs impacting ROE suggests a potential increase in credit losses or provisions. This can arise from factors such as deteriorating credit quality, economic downturn, or higher default rates. Elevated risk costs can reduce ING's profitability and adversely impact its financial performance.\n\n2. Impact of invasion of Ukraine: The invasion of Ukraine poses new challenges for ING. Geopolitical tensions and potential economic impacts from the invasion can result in increased credit losses, market volatility, regulatory changes, and geopolitical uncertainties. These risks can negatively affect ING's operations and financial performance.\n\n3. Stagflation concerns: The mention of stagflation raises concerns about lower-than-expected growth and higher inflation. While ING benefits from a strong risk management framework and low-risk book structure, managing this scenario may still pose a challenge. The potential impact on the cost of risk is uncertain, but ING maintains a through-the-cycle perspective and believes it can manage the situation with no significant volatility in the cost of risk other than 25 bps.\n\n4. Negative interest rate impact: The question about the impact of ECB rate hikes and going back to zero raises concerns about the potential loss from negative deposit charging. Currently, ING incurs EUR 300 million on an annual basis from negative interest rate charging. As market rates change, the bank may also lose this amount. This can affect ING's net interest income and overall financial performance.\n\n5. Run down of the Russian book: The mention of the normal rundown of the Russian book based on maturities poses a potential risk for ING. While ING has credit insurance for a good part of the long-term portfolio, the run-down of the short part may continue. This can lead to a reduced portfolio size and potential impacts on ING's performance.\n\n6. Potential impact of negative rates on revenue: The mention of the Wholesale bank being neutrally geared towards negative rates raises concerns about the potential impact on revenue as negative rates disappear. While there is an expectation of not losing revenue, the exact outcome is uncertain, and any revenue loss can affect ING's financial performance.\n\n7. Impact of higher mortgage rates on loan growth: The mention of higher mortgage rates and the impact on origination and loan growth in mortgages raises a new concern. If higher mortgage rates lead to decreased demand for mortgages, it could impact ING's loan growth in the retail sector. This can potentially affect the bank's overall financial performance.\n\n8. Exposure reduction in Russia and potential write-backs: The CEO mentioned a decrease in exposure with approximately EUR 1 billion in Russia. If the short-term exposure gets repaid back, there may be write-backs in terms of risk-weighted assets (RWA). However, the credit component's development in line with the exposure is uncertain and may pose risks to ING's financial performance.\n\n9. Provisions allocation onshore vs. offshore in Russia: The question about the allocation of provisions onshore and offshore in Russia indicates a need for clarification on the accounting treatment. The differentiation between onshore and offshore provisions can have implications for ING's financial reporting and risk management practices.\n\n10. Uncertainty surrounding sanctions exposure and repayments: The mention of EUR 3.3 billion in sanctions exposure and the potential for additional sanctions raises concerns about the uncertainty surrounding the amount and the impact on repayments. The speed at which this exposure may decrease due to sanctions and repayments is unclear, and ING's financial performance could be affected by changes in the sanctions landscape.\n\n11. Regulatory headwinds beyond Basel IV: The mention of potential regulatory headwinds in excess capital consideration prompts the need for further information on upcoming regulatory changes. While Basel IV is mentioned as a major regulatory framework, there may be other regulatory developments throughout the year that could impact ING's operations and financial performance. Clarification is needed to assess the potential risks and challenges associated with these regulatory headwinds.\n\n12. Uncertainty regarding Net Interest Income (NII) guidance: The mention of providing more guidance on NII sensitivity on June 13th raises concerns about the uncertainty surrounding ING's Net Interest Income. Without clear guidance, it becomes challenging to assess the potential impact on ING's financial performance and make informed investment decisions.\n\n13. Implications of macroeconomic factors on cost of risk: The mention of the complexity behind determining the cost of risk based on GDP alone raises concerns about the implications of other macroeconomic factors such as inflation, unemployment, and energy prices. Without disclosure of the specific moving parts, it becomes difficult to assess the potential impact on ING's cost of risk and its overall financial performance.\n\n14. Tax implications of buybacks in The Netherlands: The request for more explanation about the tax implications of buybacks in The Netherlands raises a new concern. Understanding the tax implications is crucial in determining the feasibility and impact of future capital return decisions, including the choice between cash dividends and buybacks. Lack of clarity on this matter can hinder effective capital management and potentially impact ING's financial performance.\n\n15. Revenue/P&L loss from unwind of Russian activities: The request for disclosure about the revenue/P&L loss on the unwind of the Russian activities highlights a new risk. The unwind of Russian activities may result in a loss of revenue or negative impact on the profit and loss statement. Without specific disclosure, it becomes challenging to assess the potential financial impact of this unwind on ING's overall performance.\n\n16. Implications of potential higher provisioning: The mention of potential higher provisioning due to the pandemic and the need to assess the impact raises a new concern. The ongoing COVID-19 pandemic may lead to increased credit losses and provisions, impacting ING's financial performance. The extent of the impact and the adequacy of existing provisions need to be evaluated to understand the potential risks and challenges for ING.\n\n17. Volatile items in income and expenses: The new information provided in the financial earnings transcript highlights the volatility in ING's income and expenses. Fluctuations in valuation adjustments, capital gains/losses, hedge ineffectiveness, and other income items can impact ING's financial performance. Similarly, incidental items expenses can add unpredictability to ING's financial results. Managing and mitigating these volatile items and expenses is crucial for ING to maintain stability and profitability.\n\n18. Regulatory costs: The significant regulatory costs reported in the transcript raise concerns about the financial impact on ING. The magnitude of these costs, especially the negative trend observed over multiple quarters, can impact ING's profitability and financial performance. Understanding the nature and reasons behind these regulatory costs is essential for effective financial planning and risk management.\n\n19. Diversification and collateralization of loan book: The new information from the transcript highlights ING's well-diversified and well-collateralized loan book, with a strong focus on own-originated mortgages and senior loans. While this information may indicate a lower level of risk, it is important to monitor the performance of these loans and ensure that the collateral remains sufficient to mitigate potential credit losses.\n\n20. Exposure to oil price risk: The mention of direct exposure to oil price risk in Hong Kong and indirect exposure in other Asian countries raises a new concern. Fluctuations in oil prices can impact the credit quality of borrowers in the oil and gas industry, potentially leading to increased credit losses and provisions. Assessing and managing this exposure is crucial for ING to mitigate potential risks and challenges in its loan portfolio.\n\n21. Russian and Ukrainian exposure: The new information from the transcript reveals ING's lending credit outstandings related to Russia and Ukraine. The exposure to Russian borrowers with Russian ownership, Russian borrowers with non-Russian ownership, and non-Russian borrowers with Russian ownership presents potential risks due to geopolitical tensions, economic impacts, and sanctions. Similarly, the exposure to Ukraine raises concerns about the potential impact of geopolitical events and economic instability on ING's financial performance. Assessing and managing these exposures is important for mitigating potential credit losses and regulatory risks.\n\nExisting Summary of Potential Risks, Issues, and Concerns:\n1. Elevated risk cost impacting ROE\n2. Impact of invasion of Ukraine\n3. Stagflation concerns\n4. Negative interest rate impact\n5. Run down of the Russian book\n6. Potential impact of negative rates on revenue\n7. Impact of higher mortgage rates on loan growth\n8. Exposure reduction in Russia and potential write-backs\n9. Provisions allocation onshore vs. offshore in Russia\n10. Uncertainty surrounding sanctions exposure and repayments\n11. Regulatory headwinds beyond Basel IV\n12. Uncertainty regarding Net Interest Income (NII) guidance\n13. Implications of macroeconomic factors on cost of risk\n14. Tax implications of buybacks in The Netherlands\n15. Revenue/P&L loss from unwind of Russian activities\n16. Implications of potential higher provisioning\n17. Volatile items in income and expenses\n18. Regulatory costs\n19. Diversification and collateralization of loan book\n20. Exposure to oil price risk\n21. Russian and Ukrainian exposure\n\nUpdated Summary of Potential Risks, Issues, and Concerns:\n1. Elevated risk cost impacting ROE: The mention of elevated risk costs impacting ROE suggests a potential increase in credit losses or provisions. This can arise from factors such as deteriorating credit quality, economic downturn, or higher default rates. Elevated risk costs can reduce ING's profitability and adversely impact its financial performance.\n\n2. Impact of invasion of Ukraine: The invasion of Ukraine poses new challenges for ING. Geopolitical tensions and potential economic impacts from the invasion can result in increased credit losses, market volatility, regulatory changes, and geopolitical uncertainties. These risks can negatively affect ING's operations and financial performance.\n\n3. Stagflation concerns: The mention of stagflation raises concerns about lower-than-expected growth and higher inflation. While ING benefits from a strong risk management framework and low-risk book structure, managing this scenario may still pose a challenge. The potential impact on the cost of risk is uncertain, but ING maintains a through-the-cycle perspective and believes it can manage the situation with no significant volatility in the cost of risk other than 25 bps.\n\n4. Negative interest rate impact: The question about the impact of ECB rate hikes and going back to zero raises concerns about the potential loss from negative deposit charging. Currently, ING incurs EUR 300 million on an annual basis from negative interest rate charging. As market rates change, the bank may also lose this amount. This can affect ING's net interest income and overall financial performance.\n\n5. Run down of the Russian book: The mention of the normal rundown of the Russian book based on maturities poses a potential risk for ING. While ING has credit insurance for a good part of the long-term portfolio, the run-down of the short part may continue. This can lead to a reduced portfolio size and potential impacts on ING's performance.\n\n6. Potential impact of negative rates on revenue: The mention of the Wholesale bank being neutrally geared towards negative rates raises concerns about the potential impact on revenue as negative rates disappear. While there is an expectation of not losing revenue, the exact outcome is uncertain, and any revenue loss can affect ING's financial performance.\n\n7. Impact of higher mortgage rates on loan growth: The mention of higher mortgage rates and the impact on origination and loan growth in mortgages raises a new concern. If higher mortgage rates lead to decreased demand for mortgages, it could impact ING's loan growth in the retail sector. This can potentially affect the bank's overall financial performance.\n\n8. Exposure reduction in Russia and potential write-backs: The CEO mentioned a decrease in exposure with approximately EUR 1 billion in Russia. If the short-term exposure gets repaid back, there may be write-backs in terms of risk-weighted assets (RWA). However, the credit component's development in line with the exposure is uncertain and may pose risks to ING's financial performance.\n\n9. Provisions allocation onshore vs. offshore in Russia: The question about the allocation of provisions onshore and offshore in Russia indicates a need for clarification on the accounting treatment. The differentiation between onshore and offshore provisions can have implications for ING's financial reporting and risk management practices.\n\n10. Uncertainty surrounding sanctions exposure and repayments: The mention of EUR 3.3 billion in sanctions exposure and the potential for additional sanctions raises concerns about the uncertainty surrounding the amount and the impact on repayments. The speed at which this exposure may decrease due to sanctions and repayments is unclear, and ING's financial performance could be affected by changes in the sanctions landscape.\n\n11. Regulatory headwinds beyond Basel IV: The mention of potential regulatory headwinds in excess capital consideration prompts the need for further information on upcoming regulatory changes. While Basel IV is mentioned as a major regulatory framework, there may be other regulatory developments throughout the year that could impact ING's operations and financial performance. Clarification is needed to assess the potential risks and challenges associated with these regulatory headwinds.\n\n12. Uncertainty regarding Net Interest Income (NII) guidance: The mention of providing more guidance on NII sensitivity on June 13th raises concerns about the uncertainty surrounding ING's Net Interest Income. Without clear guidance, it becomes challenging to assess the potential impact on ING's financial performance and make informed investment decisions.\n\n13. Implications of macroeconomic factors on cost of risk: The mention of the complexity behind determining the cost of risk based on GDP alone raises concerns about the implications of other macroeconomic factors such as inflation, unemployment, and energy prices. Without disclosure of the specific moving parts, it becomes difficult to assess the potential impact on ING's cost of risk and its overall financial performance.\n\n14. Tax implications of buybacks in The Netherlands: The request for more explanation about the tax implications of buybacks in The Netherlands raises a new concern. Understanding the tax implications is crucial in determining the feasibility and impact of future capital return decisions, including the choice between cash dividends and buybacks. Lack of clarity on this matter can hinder effective capital management and potentially impact ING's financial performance.\n\n15. Revenue/P&L loss from unwind of Russian activities: The request for disclosure about the revenue/P&L loss on the unwind of the Russian activities highlights a new risk. The unwind of Russian activities may result in a loss of revenue or negative impact on the profit and loss statement. Without specific disclosure, it becomes challenging to assess the potential financial impact of this unwind on ING's overall performance.\n\n16. Implications of potential higher provisioning: The mention of potential higher provisioning due to the pandemic and the need to assess the impact raises a new concern. The ongoing COVID-19 pandemic may lead to increased credit losses and provisions, impacting ING's financial performance. The extent of the impact and the adequacy of existing provisions need to be evaluated to understand the potential risks and challenges for ING.\n\n17. Volatile items in income and expenses: The new information provided in the financial earnings transcript highlights the volatility in ING's income and expenses. Fluctuations in valuation adjustments, capital gains/losses, hedge ineffectiveness, and other income items can impact ING's financial performance. Similarly, incidental items expenses can add unpredictability to ING's financial results. Managing and mitigating these volatile items and expenses is crucial for ING to maintain stability and profitability.\n\n18. Regulatory costs: The significant regulatory costs reported in the transcript raise concerns about the financial impact on ING. The magnitude of these costs, especially the negative trend observed over multiple quarters, can impact ING's profitability and financial performance. Understanding the nature and reasons behind these regulatory costs is essential for effective financial planning and risk management.\n\n19. Diversification and collateralization of loan book: The new information from the transcript highlights ING's well-diversified and well-collateralized loan book, with a strong focus on own-originated mortgages and senior loans. While this information may indicate a lower level of risk, it is important to monitor the performance of these loans and ensure that the collateral remains sufficient to mitigate potential credit losses.\n\n20. Exposure to oil price risk: The mention of direct exposure to oil price risk in Hong Kong and indirect exposure in other Asian countries raises a new concern. Fluctuations in oil prices can impact the credit quality of borrowers in the oil and gas industry, potentially leading to increased credit losses and provisions. Assessing and managing this exposure is crucial for ING to mitigate potential risks and challenges in its loan portfolio.\n\n21. Russian and Ukrainian exposure: The new information from the transcript reveals ING's lending credit outstandings related to Russia and Ukraine. The exposure to Russian borrowers with Russian ownership, Russian borrowers with non-Russian ownership, and non-Russian borrowers with Russian ownership presents potential risks due to geopolitical tensions, economic impacts, and sanctions. Similarly, the exposure to Ukraine raises concerns about the potential impact of geopolitical events and economic instability on ING's financial performance. Assessing and managing these exposures is important for mitigating potential credit losses and regulatory risks.\n\n22. Stage 1, 2, and 3 provisioning: The information provided in the financial earnings transcript about Stage 1, 2, and 3 provisioning raises new concerns. The partial release of Covid-19 related sector overlays, rating downgrades, stage migration, management overlay related to Russian exposure, and updated macroeconomic indicators can impact ING's provisioning levels and financial performance. Understanding the drivers and implications of these provisioning changes is important for assessing the potential risks and challenges associated with credit quality and loan losses.\n\nUpdated Summary of Potential Risks, Issues, and Concerns:\n1. Elevated risk cost impacting ROE: The mention of elevated risk costs impacting ROE suggests a potential increase in credit losses or provisions. This can arise from factors such as deteriorating credit quality, economic downturn, or higher default rates. Elevated risk costs can reduce ING's profitability and adversely impact its financial performance.\n\n2. Impact of invasion of Ukraine: The invasion of Ukraine poses new challenges for ING. Geopolitical tensions and potential economic impacts from the invasion can result in increased credit losses, market volatility, regulatory changes, and geopolitical uncertainties. These risks can negatively affect ING's operations and financial performance.\n\n3. Stagflation concerns: The mention of stagflation raises concerns about lower-than-expected growth and higher inflation. While ING benefits from a strong risk management framework and low-risk book structure, managing this scenario may still pose a challenge. The potential impact on the cost of risk is uncertain, but ING maintains a through-the-cycle perspective and believes it can manage the situation with no significant volatility in the cost of risk other than 25 bps.\n\n4. Negative interest rate impact: The question about the impact of ECB rate hikes and going back to zero raises concerns about the potential loss from negative deposit charging. Currently, ING incurs EUR 300 million on an annual basis from negative interest rate charging. As market rates change, the bank may also lose this amount. This can affect ING's net interest income and overall financial performance.\n\n5. Run down of the Russian book: The mention of the normal rundown of the Russian book based on maturities poses a potential risk for ING. While ING has credit insurance for a good part of the long-term portfolio, the run-down of the short part may continue. This can lead to a reduced portfolio size and potential impacts on ING's performance.\n\n6. Potential impact of negative rates on revenue: The mention of the Wholesale bank being neutrally geared towards negative rates raises concerns about the potential impact on revenue as negative rates disappear. While there is an expectation of not losing revenue, the exact outcome is uncertain, and any revenue loss can affect ING's financial performance.\n\n7. Impact of higher mortgage rates on loan growth: The mention of higher mortgage rates and the impact on origination and loan growth in mortgages raises a new concern. If higher mortgage rates lead to decreased demand for mortgages, it could impact ING's loan growth in the retail sector. This can potentially affect the bank's overall financial performance.\n\n8. Exposure reduction in Russia and potential write-backs: The CEO mentioned a decrease in exposure with approximately EUR 1 billion in Russia. If the short-term exposure gets repaid back, there may be write-backs in terms of risk-weighted assets (RWA). However, the credit component's development in line with the exposure is uncertain and may pose risks to ING's financial performance.\n\n9. Provisions allocation onshore vs. offshore in Russia: The question about the allocation of provisions onshore and offshore in Russia indicates a need for clarification on the accounting treatment. The differentiation between onshore and offshore provisions can have implications for ING's financial reporting and risk management practices.\n\n10. Uncertainty surrounding sanctions exposure and repayments: The mention of EUR 3.3 billion in sanctions exposure and the potential for additional sanctions raises concerns about the uncertainty surrounding the amount and the impact on repayments. The speed at which this exposure may decrease due to sanctions and repayments is unclear, and ING's financial performance could be affected by changes in the sanctions landscape.\n\n11. Regulatory headwinds beyond Basel IV: The mention of potential regulatory headwinds in excess capital consideration prompts the need for further information on upcoming regulatory changes. While Basel IV is mentioned as a major regulatory framework, there may be other regulatory developments throughout the year that could impact ING's operations and financial performance. Clarification is needed to assess the potential risks and challenges associated with these regulatory headwinds.\n\n12. Uncertainty regarding Net Interest Income (NII) guidance: The mention of providing more guidance on NII sensitivity on June 13th raises concerns about the uncertainty surrounding ING's Net Interest Income. Without clear guidance, it becomes challenging to assess the potential impact on ING's financial performance and make informed investment decisions.\n\n13. Implications of macroeconomic factors on cost of risk: The mention of the complexity behind determining the cost of risk based on GDP alone raises concerns about the implications of other macroeconomic factors such as inflation, unemployment, and energy prices. Without disclosure of the specific moving parts, it becomes difficult to assess the potential impact on ING's cost of risk and its overall financial performance.\n\n14. Tax implications of buybacks in The Netherlands: The request for more explanation about the tax implications of buybacks in The Netherlands raises a new concern. Understanding the tax implications is crucial in determining the feasibility and impact of future capital return decisions, including the choice between cash dividends and buybacks. Lack of clarity on this matter can hinder effective capital management and potentially impact ING's financial performance.\n\n15. Revenue/P&L loss from unwind of Russian activities: The request for disclosure about the revenue/P&L loss on the unwind of the Russian activities highlights a new risk. The unwind of Russian activities may result in a loss of revenue or negative impact on the profit and loss statement. Without specific disclosure, it becomes challenging to assess the potential financial impact of this unwind on ING's overall performance.\n\n16. Implications of potential higher provisioning: The mention of potential higher provisioning due to the pandemic and the need to assess the impact raises a new concern. The ongoing COVID-19 pandemic may lead to increased credit losses and provisions, impacting ING's financial performance. The extent of the impact and the adequacy of existing provisions need to be evaluated to understand the potential risks and challenges for ING.\n\n17. Volatile items in income and expenses: The new information provided in the financial earnings transcript highlights the volatility in ING's income and expenses. Fluctuations in valuation adjustments, capital gains/losses, hedge ineffectiveness, and other income items can impact ING's financial performance. Similarly, incidental items expenses can add unpredictability to ING's financial results. Managing and mitigating these volatile items and expenses is crucial for ING to maintain stability and profitability.\n\n18. Regulatory costs: The significant regulatory costs reported in the transcript raise concerns about the financial impact on ING. The magnitude of these costs, especially the negative trend observed over multiple quarters, can impact ING's profitability and financial performance. Understanding the nature and reasons behind these regulatory costs is essential for effective financial planning and risk management.\n\n19. Diversification and collateralization of loan book: The new information from the transcript highlights ING's well-diversified and well-collateralized loan book, with a strong focus on own-originated mortgages and senior loans. While this information may indicate a lower level of risk, it is important to monitor the performance of these loans and ensure that the collateral remains sufficient to mitigate potential credit losses.\n\n20. Exposure to oil price risk: The mention of direct exposure to oil price risk in Hong Kong and indirect exposure in other Asian countries raises a new concern. Fluctuations in oil prices can impact the credit quality of borrowers in the oil and gas industry, potentially leading to increased credit losses and provisions. Assessing and managing this exposure is crucial for ING to mitigate potential risks and challenges in its loan portfolio.\n\n21. Russian and Ukrainian exposure: The new information from the transcript reveals ING's lending credit outstandings related to Russia and Ukraine. The exposure to Russian borrowers with Russian ownership, Russian borrowers with non-Russian ownership, and non-Russian borrowers with Russian ownership presents potential risks due to geopolitical tensions, economic impacts, and sanctions. Similarly, the exposure to Ukraine raises concerns about the potential impact of geopolitical events and economic instability on ING's financial performance. Assessing and managing these exposures is important for mitigating potential credit losses and regulatory risks.\n\n22. Stage 1, 2, and 3 provisioning: The information provided in the financial earnings transcript about Stage 1, 2, and 3 provisioning raises new concerns. The partial release of Covid-19 related sector overlays, rating downgrades, stage migration, management overlay related to Russian exposure, and updated macroeconomic indicators can impact ING's provisioning levels and financial performance. Understanding the drivers and implications of these provisioning changes is important for assessing the potential risks and challenges associated with credit quality and loan losses.\n\n23. General risks and uncertainties: The new text highlights various general risks and uncertainties that can impact ING's financial performance. These include changes in general economic conditions, effects of the Covid-19 pandemic, changes in interest rate levels, market disruptions, fiscal uncertainty, changes in regulations, geopolitical risks, legal and regulatory challenges, operational and IT risks, changes in tax laws, changes in competitive landscape, and other business risks. Monitoring and managing these risks is essential for ING to navigate through uncertainties and maintain its financial stability and profitability.\n"
        }
      ],
      "execution_count": 33,
      "metadata": {
        "jupyter": {
          "source_hidden": false,
          "outputs_hidden": false
        },
        "nteract": {
          "transient": {
            "deleting": false
          }
        },
        "gather": {
          "logged": 1707934374444
        }
      },
      "id": "a3875d79-9dc2-44af-a8db-bd0bf4de7ed6"
    },
    {
      "cell_type": "markdown",
      "source": [
        "## Option 4. Chain of Density\n",
        "### --> Stuff Approach LLM:gpt-4-turbo"
      ],
      "metadata": {
        "nteract": {
          "transient": {
            "deleting": false
          }
        }
      },
      "id": "1a7ca844-a300-4f74-8950-27aadef265ed"
    },
    {
      "cell_type": "code",
      "source": [
        "from langchain.chains.combine_documents.stuff import StuffDocumentsChain\n",
        "from langchain.chains.llm import LLMChain\n",
        "from langchain.prompts import PromptTemplate\n",
        "\n",
        "\n",
        "# While we are using the standard prompt by langchain, you can modify the prompt to suit your needs\n",
        "promptTemplate = \"\"\"Earning call Transcript:\n",
        "  \n",
        "        {text}\n",
        "\n",
        "        You will generate increasingly concise, entity-dense summaries of the above Earning call Transcript.\n",
        "\n",
        "        Repeat the following 2 steps 2 times.\n",
        "\n",
        "        Step 1. Identify 1-3 informative Entities (\";\" delimited) from the text which are missing from the previously generated summary.\n",
        "\n",
        "        Step 2. Write a new, denser summary of identical length which covers every entity and detail from the previous summary plus the Missing Entities.\n",
        "\n",
        "        A Missing Entity is:\n",
        "\n",
        "        Relevant: to the main story.\n",
        "        Specific: descriptive yet concise (5 words or fewer).\n",
        "        Novel: not in the previous summary.\n",
        "        Faithful: present in the content piece.\n",
        "        Anywhere: located anywhere in the Article.\n",
        "\n",
        "        Guidelines:\n",
        "\n",
        "        The first summary should be long (4-5 sentences, ~250 words) yet highly non-specific, containing little information beyond the entities marked as missing. Use overly verbose language and fillers (e.g., \"this article discusses\") to reach ~250 words.\n",
        "        Make every word count: re-write the previous summary to improve flow and make space for additional entities.\n",
        "        Make space with fusion, compression, and removal of uninformative phrases like \"the article discusses\".\n",
        "        The summaries should become highly dense and concise yet self-contained, e.g., easily understood without the Article.\n",
        "        Missing entities can appear anywhere in the new summary.\n",
        "        Never drop entities from the previous summary. If space cannot be made, add fewer new entities.\n",
        "        Remember, use the exact same number of words for each summary.\n",
        "        Answer in JSON. The JSON should be a list (length 3) of dictionaries whose keys are \"Missing_Entities\" and \"Denser_Summary\".\"\"\"\n",
        "prompt = PromptTemplate.from_template(promptTemplate)\n",
        "\n",
        "llm_chain = LLMChain(llm=llmgpt4, prompt=prompt)\n",
        "\n",
        "stuff_chain = StuffDocumentsChain(llm_chain=llm_chain, document_variable_name=\"text\")\n",
        "\n",
        "print(stuff_chain.run(sections))\n"
      ],
      "outputs": [
        {
          "output_type": "stream",
          "name": "stdout",
          "text": "```json\n[\n    {\n        \"Missing_Entities\": \"Steven van Rijswijk, CEO; CET1 ratio; ECB rate hikes; Wholesale Banking loan growth; mortgage book origination\",\n        \"Denser_Summary\": \"In this extensive and thorough overview of ING's financial performance for the first quarter of 2022, we are presented with a detailed account of the company's earnings and strategic initiatives, as articulated by CEO Steven van Rijswijk. The narrative delves into the intricacies of ING's resilience in the face of macroeconomic challenges, outlining the financial institution's commitment to maintaining a robust CET1 ratio amidst regulatory changes and market volatility. Furthermore, the discourse touches upon the implications of potential ECB rate hikes on ING's net interest income trajectory, as well as the company's focus on sustaining loan growth within its Wholesale Banking segment. Additionally, there is a consideration of mortgage book origination trends, which are influenced by the broader economic climate and interest rate environment. The conversation is replete with forward-looking statements, reflecting management's expectations for future financial performance, and includes forward-looking statements about the business, operations, and prospects of ING.\"\n    },\n    {\n        \"Missing_Entities\": \"Russia-related exposure; green transition financing; digital channel improvements\",\n        \"Denser_Summary\": \"CEO Steven van Rijswijk provided insights into ING's performance, highlighting a strong CET1 ratio and the impact of ECB rate hikes on NII. He discussed Wholesale Banking loan growth and mortgage book origination within the context of economic trends. The management also addressed the bank's Russia-related exposure, emphasizing their risk management and reduction strategy. Additionally, ING's commitment to financing the green transition was articulated, showcasing its efforts towards sustainable business practices. Another focus area detailed was the enhancement of ING's digital channels, aiming to improve customer experience and operational efficiency. The narrative underlined ING's strategic priorities amidst geopolitical tensions and the evolving financial landscape.\"\n    },\n    {\n        \"Missing_Entities\": \"ESG-related matters; Basel IV impact; digital mortgage process efficiency\",\n        \"Denser_Summary\": \"Steven van Rijswijk, CEO of ING, detailed the bank's 1Q2022 performance, emphasizing a solid CET1 ratio and the anticipated benefits from ECB rate hikes. He discussed Wholesale Banking's loan growth and the dynamics affecting mortgage origination. ING's strategy for managing Russia-related exposure, its proactive role in green transition financing, and digital channel improvements were highlighted. The bank's approach to ESG-related matters was also mentioned, along with the minimal Basel IV impact on capital. Rijswijk noted the increased efficiency in the digital mortgage process, reflecting ING's commitment to innovation and customer service excellence in a challenging economic environment.\"\n    }\n]\n```\n"
        }
      ],
      "execution_count": 34,
      "metadata": {
        "jupyter": {
          "source_hidden": false,
          "outputs_hidden": false
        },
        "nteract": {
          "transient": {
            "deleting": false
          }
        },
        "gather": {
          "logged": 1707934568739
        }
      },
      "id": "7504c81d-d8de-4094-bd75-03ebba5c2ea4"
    },
    {
      "cell_type": "markdown",
      "source": [
        "## Best Representation Vectors "
      ],
      "metadata": {
        "nteract": {
          "transient": {
            "deleting": false
          }
        }
      },
      "id": "8516a9e5-a940-4f44-9ebc-d8d933fa624c"
    },
    {
      "cell_type": "code",
      "source": [
        "from langchain.document_loaders import PyPDFLoader\n",
        "# Loaders\n",
        "from langchain.schema import Document\n",
        "\n",
        "# Splitters\n",
        "from langchain.text_splitter import RecursiveCharacterTextSplitter\n",
        "\n",
        "# Model\n",
        "from langchain.chat_models import ChatOpenAI\n",
        "\n",
        "# Embedding Support\n",
        "from langchain.vectorstores import FAISS\n",
        "from langchain.embeddings import OpenAIEmbeddings\n",
        "\n",
        "# Summarizer we'll use for Map Reduce\n",
        "from langchain.chains.summarize import load_summarize_chain\n",
        "\n",
        "# Data Science\n",
        "import numpy as np\n",
        "from sklearn.cluster import KMeans\n",
        "\n",
        "# Load the book\n",
        "loader = PyPDFLoader(\"ING_Call_transcript_1Q2022.pdf\")\n",
        "pages = loader.load()\n",
        "\n",
        "# Cut out the open and closing parts\n",
        "#pages = pages[26:277]\n",
        "\n",
        "# Combine the pages, and replace the tabs with spaces\n",
        "text = \"\"\n",
        "\n",
        "for page in pages:\n",
        "    text += page.page_content\n",
        "    \n",
        "text = text.replace('\\t', ' ')\n",
        "\n",
        "text_splitter = RecursiveCharacterTextSplitter(separators=[\"\\n\\n\", \"\\n\", \"\\t\"], chunk_size=1000, chunk_overlap=300)\n",
        "docs = text_splitter.create_documents([text])\n",
        "\n",
        "num_documents = len(docs)\n",
        "\n",
        "print (f\"Now our book is split up into {num_documents} documents\")"
      ],
      "outputs": [
        {
          "output_type": "stream",
          "name": "stdout",
          "text": "Now our book is split up into 106 documents\n"
        }
      ],
      "execution_count": 20,
      "metadata": {
        "jupyter": {
          "source_hidden": false,
          "outputs_hidden": false
        },
        "nteract": {
          "transient": {
            "deleting": false
          }
        },
        "gather": {
          "logged": 1708478826347
        }
      },
      "id": "f9b4465d-eb5f-4675-a293-811da828d7dd"
    },
    {
      "cell_type": "code",
      "source": [
        "from langchain.embeddings import AzureOpenAIEmbeddings\n",
        "embedder = AzureOpenAIEmbeddings(deployment=\"text-embedding-ada-002\", chunk_size=1) \n",
        "#embedder.embed_query(\"THis is Sreedhar\")\n",
        "vectors= embedder.embed_documents([x.page_content for x in docs])"
      ],
      "outputs": [
        {
          "output_type": "stream",
          "name": "stderr",
          "text": "/anaconda/envs/azureml_py310_sdkv2/lib/python3.10/site-packages/langchain_core/_api/deprecation.py:117: LangChainDeprecationWarning: The class `langchain_community.embeddings.azure_openai.AzureOpenAIEmbeddings` was deprecated in langchain-community 0.1.0 and will be removed in 0.2.0. An updated version of the class exists in the langchain-openai package and should be used instead. To use it run `pip install -U langchain-openai` and import as `from langchain_openai import AzureOpenAIEmbeddings`.\n  warn_deprecated(\n"
        }
      ],
      "execution_count": 21,
      "metadata": {
        "jupyter": {
          "source_hidden": false,
          "outputs_hidden": false
        },
        "nteract": {
          "transient": {
            "deleting": false
          }
        },
        "gather": {
          "logged": 1708478879247
        }
      },
      "id": "a50962f2-4747-416c-b601-b8e765947bdf"
    },
    {
      "cell_type": "markdown",
      "source": [
        "Now let's cluster our embeddings. There are a ton of clustering algorithms you can chose from. Please try a few out to see what works best for you!"
      ],
      "metadata": {
        "nteract": {
          "transient": {
            "deleting": false
          }
        }
      },
      "id": "4779a768-fd3e-4880-81a2-353edbed8722"
    },
    {
      "cell_type": "code",
      "source": [
        "# Assuming 'embeddings' is a list or array of 1536-dimensional embeddings\n",
        "\n",
        "# Choose the number of clusters, this can be adjusted based on the book's content.\n",
        "# I played around and found ~10 was the best.\n",
        "# Usually if you have 10 passages from a book you can tell what it's about\n",
        "num_clusters = 11\n",
        "\n",
        "# Perform K-means clustering\n",
        "kmeans = KMeans(n_clusters=num_clusters, random_state=42).fit(vectors)"
      ],
      "outputs": [
        {
          "output_type": "stream",
          "name": "stderr",
          "text": "/anaconda/envs/azureml_py310_sdkv2/lib/python3.10/site-packages/sklearn/cluster/_kmeans.py:870: FutureWarning: The default value of `n_init` will change from 10 to 'auto' in 1.4. Set the value of `n_init` explicitly to suppress the warning\n  warnings.warn(\n"
        }
      ],
      "execution_count": 22,
      "metadata": {
        "jupyter": {
          "source_hidden": false,
          "outputs_hidden": false
        },
        "nteract": {
          "transient": {
            "deleting": false
          }
        },
        "gather": {
          "logged": 1708478895564
        }
      },
      "id": "4628d1af-b856-417d-80b7-a99d98f0fd56"
    },
    {
      "cell_type": "markdown",
      "source": [
        "Here are the clusters that were found. It's interesting to see the progression of clusters throughout the book. This is expected because as the plot changes you'd expect different clusters to emerge due to different semantic meaning"
      ],
      "metadata": {
        "nteract": {
          "transient": {
            "deleting": false
          }
        }
      },
      "id": "4ff920f3-fd51-4346-b600-a9f8a3e21119"
    },
    {
      "cell_type": "code",
      "source": [
        "kmeans.labels_"
      ],
      "outputs": [
        {
          "output_type": "execute_result",
          "execution_count": 23,
          "data": {
            "text/plain": "array([ 1,  1,  1,  4,  4,  7,  4,  4,  4,  9,  5,  5,  5,  5,  4,  4,  6,\n        6,  6,  9,  9,  9,  4,  3,  7,  7,  7,  2,  2,  9,  9,  7,  3,  3,\n        3,  3,  4,  0,  0,  4, 10, 10,  4,  3, 10, 10, 10, 10,  0,  3,  7,\n        7,  8, 10, 10,  0,  9,  3,  2,  1,  8,  8,  8,  8,  8,  8,  9,  3,\n        0,  3,  3,  0,  0,  0,  8,  8,  4,  0, 10, 10,  4,  4,  7,  3,  7,\n        3,  0,  3,  3,  1,  3,  3,  3,  3,  3,  1,  0,  0,  8,  8, 10,  3,\n        3,  3,  1,  1], dtype=int32)"
          },
          "metadata": {}
        }
      ],
      "execution_count": 23,
      "metadata": {
        "jupyter": {
          "source_hidden": false,
          "outputs_hidden": false
        },
        "nteract": {
          "transient": {
            "deleting": false
          }
        },
        "gather": {
          "logged": 1708478901385
        }
      },
      "id": "a1940e0a-05b3-49f9-b806-047053b04449"
    },
    {
      "cell_type": "markdown",
      "source": [
        "This is sweet, but whenever you have a clustering exercise, it's hard *not* to graph them. Make sure you add colors.\n",
        "\n",
        "We also need to do dimensionality reduction to reduce the vectors from 1536 dimensions to 2 (this is sloppy data science but we are working towards the 80% solution)"
      ],
      "metadata": {
        "nteract": {
          "transient": {
            "deleting": false
          }
        }
      },
      "id": "17036aac-9f87-40b2-a589-a4bea570027e"
    },
    {
      "cell_type": "code",
      "source": [
        "from sklearn.manifold import TSNE\n",
        "import matplotlib.pyplot as plt\n",
        "import numpy as np\n",
        "\n",
        "vectors_array = np.array(vectors)\n",
        "\n",
        "\n",
        "# Taking out the warnings\n",
        "import warnings\n",
        "from warnings import simplefilter\n",
        "\n",
        "# Filter out FutureWarnings\n",
        "simplefilter(action='ignore', category=FutureWarning)\n",
        "\n",
        "# Perform t-SNE and reduce to 2 dimensions\n",
        "tsne = TSNE(n_components=2, random_state=42)\n",
        "reduced_data_tsne = tsne.fit_transform(vectors_array)\n",
        "\n",
        "# Plot the reduced data\n",
        "plt.scatter(reduced_data_tsne[:, 0], reduced_data_tsne[:, 1], c=kmeans.labels_)\n",
        "plt.xlabel('Dimension 1')\n",
        "plt.ylabel('Dimension 2')\n",
        "plt.title('Book Embeddings Clustered')\n",
        "plt.show()"
      ],
      "outputs": [
        {
          "output_type": "display_data",
          "data": {
            "text/plain": "<Figure size 640x480 with 1 Axes>",
            "image/png": "[encoded data removed]"
          },
          "metadata": {}
        }
      ],
      "execution_count": 24,
      "metadata": {
        "jupyter": {
          "source_hidden": false,
          "outputs_hidden": false
        },
        "nteract": {
          "transient": {
            "deleting": false
          }
        },
        "gather": {
          "logged": 1708478907151
        }
      },
      "id": "f68ea3b9-53a3-426f-a7ae-f807ad0d0a98"
    },
    {
      "cell_type": "markdown",
      "source": [
        "Awesome, not perfect, but pretty good directionally. Now we need to get the vectors which are closest to the cluster centroids (the center).\n",
        "\n",
        "The function below is a quick way to do that (w/ help from ChatGPT)"
      ],
      "metadata": {
        "nteract": {
          "transient": {
            "deleting": false
          }
        }
      },
      "id": "ac00c000-8a61-47d9-b768-eb7bf79beb4e"
    },
    {
      "cell_type": "code",
      "source": [
        "# Find the closest embeddings to the centroids\n",
        "\n",
        "# Create an empty list that will hold your closest points\n",
        "closest_indices = []\n",
        "\n",
        "# Loop through the number of clusters you have\n",
        "for i in range(num_clusters):\n",
        "    \n",
        "    # Get the list of distances from that particular cluster center\n",
        "    distances = np.linalg.norm(vectors - kmeans.cluster_centers_[i], axis=1)\n",
        "    \n",
        "    # Find the list position of the closest one (using argmin to find the smallest distance)\n",
        "    closest_index = np.argmin(distances)\n",
        "    \n",
        "    # Append that position to your closest indices list\n",
        "    closest_indices.append(closest_index)"
      ],
      "outputs": [],
      "execution_count": 25,
      "metadata": {
        "jupyter": {
          "source_hidden": false,
          "outputs_hidden": false
        },
        "nteract": {
          "transient": {
            "deleting": false
          }
        },
        "gather": {
          "logged": 1708478910181
        }
      },
      "id": "168a578b-eaa8-4f95-a8fc-dbffb48750cf"
    },
    {
      "cell_type": "markdown",
      "source": [
        "Now sort them (so the chunks are processed in order)"
      ],
      "metadata": {
        "nteract": {
          "transient": {
            "deleting": false
          }
        }
      },
      "id": "70d9c36a-fba4-4135-81dd-fd0aeb4c41be"
    },
    {
      "cell_type": "code",
      "source": [
        "selected_indices = sorted(closest_indices)\n",
        "selected_indices"
      ],
      "outputs": [
        {
          "output_type": "execute_result",
          "execution_count": 26,
          "data": {
            "text/plain": "[0, 4, 12, 17, 20, 27, 31, 41, 65, 92, 97]"
          },
          "metadata": {}
        }
      ],
      "execution_count": 26,
      "metadata": {
        "jupyter": {
          "source_hidden": false,
          "outputs_hidden": false
        },
        "nteract": {
          "transient": {
            "deleting": false
          }
        },
        "gather": {
          "logged": 1708478912806
        }
      },
      "id": "fea58fbb-9d3f-458a-a9d6-e04b58191357"
    },
    {
      "cell_type": "markdown",
      "source": [
        "It's intersting to see which chunks pop up at most descriptive. How does your distribution look?\n",
        "\n",
        "Let's create our custom prompts. I'm going to use gpt4 (which has a bigger token limit) for the combine step so I'm asking for long summaries in the map step to reduce the information loss."
      ],
      "metadata": {
        "nteract": {
          "transient": {
            "deleting": false
          }
        }
      },
      "id": "55ce14f1-ca43-46dd-9ac8-3d9db88ec90d"
    },
    {
      "cell_type": "code",
      "source": [
        "map_prompt = \"\"\"\n",
        "You will be given a single passage of a book. This section will be enclosed in triple backticks (```)\n",
        "Your goal is to give a summary of this section so that a reader will have a full understanding of what happened.\n",
        "Your response should be at least three paragraphs and fully encompass what was said in the passage.\n",
        "\n",
        "```{text}```\n",
        "FULL SUMMARY:\n",
        "\"\"\"\n",
        "map_prompt_template = PromptTemplate(template=map_prompt, input_variables=[\"text\"])"
      ],
      "outputs": [],
      "execution_count": 27,
      "metadata": {
        "jupyter": {
          "source_hidden": false,
          "outputs_hidden": false
        },
        "nteract": {
          "transient": {
            "deleting": false
          }
        },
        "gather": {
          "logged": 1708478915256
        }
      },
      "id": "983d0bbb-016b-4a4d-9947-deb56ed1a949"
    },
    {
      "cell_type": "code",
      "source": [
        "map_chain = load_summarize_chain(llm=llm,\n",
        "                             chain_type=\"stuff\",\n",
        "                             prompt=map_prompt_template)"
      ],
      "outputs": [],
      "execution_count": 28,
      "metadata": {
        "jupyter": {
          "source_hidden": false,
          "outputs_hidden": false
        },
        "nteract": {
          "transient": {
            "deleting": false
          }
        },
        "gather": {
          "logged": 1708478918574
        }
      },
      "id": "aec4a124-1feb-4879-8ce2-0801b3e125e7"
    },
    {
      "cell_type": "markdown",
      "source": [
        "Then go get your docs which the top vectors represented."
      ],
      "metadata": {
        "nteract": {
          "transient": {
            "deleting": false
          }
        }
      },
      "id": "d08c6f4f-473f-4b05-a988-b10a99cbdedd"
    },
    {
      "cell_type": "code",
      "source": [
        "selected_docs = [docs[doc] for doc in selected_indices]"
      ],
      "outputs": [],
      "execution_count": 29,
      "metadata": {
        "jupyter": {
          "source_hidden": false,
          "outputs_hidden": false
        },
        "nteract": {
          "transient": {
            "deleting": false
          }
        },
        "gather": {
          "logged": 1708478921458
        }
      },
      "id": "feb50026-6132-438f-a227-521c0b25e5a4"
    },
    {
      "cell_type": "markdown",
      "source": [
        "Let's loop through our selected docs and get a good summary for each chunk. We'll store the summary in a list."
      ],
      "metadata": {
        "nteract": {
          "transient": {
            "deleting": false
          }
        }
      },
      "id": "809fb485-3af4-40e3-a018-fe39f8c51dbb"
    },
    {
      "cell_type": "code",
      "source": [
        "# Make an empty list to hold your summaries\n",
        "summary_list = []\n",
        "\n",
        "# Loop through a range of the lenght of your selected docs\n",
        "for i, doc in enumerate(selected_docs):\n",
        "    \n",
        "    # Go get a summary of the chunk\n",
        "    chunk_summary = map_chain.run([doc])\n",
        "    \n",
        "    # Append that summary to your list\n",
        "    summary_list.append(chunk_summary)\n",
        "    \n",
        "    print (f\"Summary #{i} (chunk #{selected_indices[i]}) - Preview: {chunk_summary[:250]} \\n\")"
      ],
      "outputs": [
        {
          "output_type": "stream",
          "name": "stderr",
          "text": "/anaconda/envs/azureml_py310_sdkv2/lib/python3.10/site-packages/langchain_core/_api/deprecation.py:117: LangChainDeprecationWarning: The function `run` was deprecated in LangChain 0.1.0 and will be removed in 0.2.0. Use invoke instead.\n  warn_deprecated(\n"
        },
        {
          "output_type": "stream",
          "name": "stdout",
          "text": "Summary #0 (chunk #0) - Preview: The passage is the transcript of the 1Q2022 analyst meeting for ING Group. Patricia Krooshof-Naughten, the operator, welcomes the participants to the conference call. She mentions that the comments made during the call may include forward-looking sta \n\nSummary #1 (chunk #4) - Preview: In this passage, it is mentioned that there is an additional distribution of EUR 1.25 billion announced. The author also states that the current yield curve is causing a shift in liability pressure, turning it into a tailwind. \n\nThe passage goes on t \n\nSummary #2 (chunk #12) - Preview: The passage discusses the expanded digital capabilities for customers and how it helps improve efficiency and customer experience. The company invests in digitalizing processes to achieve a higher first-time right and shorter time-to-yes. An example  \n\nSummary #3 (chunk #17) - Preview: In this passage, it is stated that the fee income for the year has increased by 9%, with growth seen in both the Retail and Wholesale sectors. Retail fees saw a 6% increase, with a particularly impressive 26% increase in daily banking fees. This grow \n\nSummary #4 (chunk #20) - Preview: In this passage from the book, the speaker discusses the financial performance of the company for the first quarter of 2022. They mention that there were no incidental cost items during this period and express satisfaction with the development of ope \n\nSummary #5 (chunk #27) - Preview: In this passage, the focus is on the financial aspects of ING Group. The CET1 capital has increased by EUR 100 million, primarily because 50% of the net profit for the quarter has been included. The remaining 50% of the net profit has been reserved f \n\nSummary #6 (chunk #31) - Preview: In this passage, the author discusses the financial performance of a company, specifically focusing on risk costs, loan quality, capital distribution, and the Russian exposure. The risk costs were elevated at EUR 987 million, primarily in Stage 2. Ho \n\nSummary #7 (chunk #41) - Preview: In this passage, the CEO of ING, Steven van Rijswijk, responds to a question about the contribution of partnerships to fees. He acknowledges the partnerships with companies like AXA and Scalable Capital but does not provide a specific quantification  \n\nSummary #8 (chunk #65) - Preview: In this passage, Steven van Rijswijk, the CEO of ING, is responding to a question regarding the company's guidance for the year. He explains that they do not give specific guidance for the year, but rather guidance that spans the entire business cycl \n\nSummary #9 (chunk #92) - Preview: In this passage from a transcript of the 1Q2022 analyst meeting for ING, several topics are discussed. Ljiljana Čortan, the CRO of ING, mentions that the total risk cost for Russia is EUR 834 million, with around EUR 200 million attributed to onshore \n\nSummary #10 (chunk #97) - Preview: In this passage, the speaker acknowledges that the listener wants more guidance on NII (Net Interest Income) and what it does. They clarify that despite what ING had previously said about there being no benefit from rate rises, they have actually sta \n\n"
        }
      ],
      "execution_count": 30,
      "metadata": {
        "jupyter": {
          "source_hidden": false,
          "outputs_hidden": false
        },
        "nteract": {
          "transient": {
            "deleting": false
          }
        },
        "gather": {
          "logged": 1708478951294
        }
      },
      "id": "6a88a48c-88a1-445a-8c5a-f95259331c1b"
    },
    {
      "cell_type": "markdown",
      "source": [
        "Great, now that we have our list of summaries, let's get a summary of the summaries"
      ],
      "metadata": {
        "nteract": {
          "transient": {
            "deleting": false
          }
        }
      },
      "id": "7d71e23c-65d7-4640-a947-f807a0a29877"
    },
    {
      "cell_type": "code",
      "source": [
        "summaries = \"\\n\".join(summary_list)\n",
        "\n",
        "# Convert it back to a document\n",
        "summaries = Document(page_content=summaries)\n",
        "\n",
        "print (f\"Your total summary has {llm.get_num_tokens(summaries.page_content)} tokens\")"
      ],
      "outputs": [
        {
          "output_type": "stream",
          "name": "stdout",
          "text": "Your total summary has 2278 tokens\n"
        }
      ],
      "execution_count": 31,
      "metadata": {
        "jupyter": {
          "source_hidden": false,
          "outputs_hidden": false
        },
        "nteract": {
          "transient": {
            "deleting": false
          }
        },
        "gather": {
          "logged": 1708478955996
        }
      },
      "id": "2c398bd0-ed52-4f8c-b581-6b0d853111cd"
    },
    {
      "cell_type": "code",
      "source": [
        "combine_prompt = \"\"\"\n",
        "You will be given a series of summaries from a book. The summaries will be enclosed in triple backticks (```)\n",
        "Your goal is to give a verbose summary of what happened in the story.\n",
        "The reader should be able to grasp what happened in the book.\n",
        "\n",
        "```{text}```\n",
        "VERBOSE SUMMARY:\n",
        "\"\"\"\n",
        "combine_prompt_template = PromptTemplate(template=combine_prompt, input_variables=[\"text\"])\n",
        "\n",
        "reduce_chain = load_summarize_chain(llm=llmgpt4,\n",
        "                             chain_type=\"stuff\",\n",
        "                             prompt=combine_prompt_template,\n",
        "#                              verbose=True # Set this to true if you want to see the inner workings\n",
        "                                   )\n",
        "\n",
        "output = reduce_chain.run([summaries])\n",
        "print (output)"
      ],
      "outputs": [
        {
          "output_type": "stream",
          "name": "stdout",
          "text": "In the book, which appears to be a detailed transcript of ING Group's first quarter (1Q2022) analyst meeting, various aspects of the company's financial performance, future outlook, strategic decisions, and specific challenges are discussed. The meeting begins with Patricia Krooshof-Naughten, the operator, setting the tone by cautioning that forward-looking statements may not fully materialize and actual results could differ.\n\nThe financial highlights from the discussions indicate that ING Group announced an additional EUR 1.25 billion distribution to shareholders, reflecting a positive financial stance. The yield curve's evolution is turning liability pressures into tailwinds, boding well for the company's future interest income. The mortgage loan sector experienced growth, and there was a reduction in short-term TLTRO facilities in Wholesale banking. Fee income showed a robust 9% year-on-year increase, driven by strong performance in daily banking and lending, as well as investment products. Despite inflationary pressures, costs have been kept lower than the previous year, but risk costs have been elevated due to exposure to the Russian market, which the company has taken steps to reduce.\n\nDigital transformation is a key strategic focus, with expanded digital capabilities enhancing customer experience and operational efficiency. Examples of this include improvements in the Dutch mortgage process and the launch of a fully digital investment account process in Germany, which led to significant growth in new accounts.\n\nFee income for the year saw a commendable increase, with Retail and Wholesale banking both contributing. Retail fees rose by 6%, driven by an increase in primary customers, higher payment package fees, and a recovery of domestic payment transactions to pre-Covid levels. Wholesale Banking fees surged by 17%, with lending playing a pivotal role due to an uptick in syndication deals.\n\nThe financial performance for the first quarter of 2022 was solid, with no incidental cost items affecting the operating costs. Risk costs, however, were significant, with EUR 987 million reported, largely due to provisioning in the Wholesale Banking Russian portfolio. These provisions were a response to a sovereign downgrade, a migration of clients to a watch list, and a management overlay to cover potential risks.\n\nRegarding capital, the CET1 ratio saw an increase due to the inclusion of 50% of the net profit for the quarter. The final dividend for 2021 was approved and scheduled for payment, with plans for an additional EUR 1.25 billion distribution through a combination of a cash component and share buyback.\n\nThe company also discussed loan quality and capital distribution in the context of its Russian exposure. Elevated risk costs were primarily in Stage 2, but the Stage 3 ratio remained low, indicating confidence in loan quality. The CET1 ratio was slightly reduced due to growth in risk-weighted assets, stemming from Russian exposure and Dutch mortgages. Despite this, a final cash dividend and additional distribution were announced, demonstrating a commitment to returning value to shareholders.\n\nSteven van Rijswijk, CEO of ING, fielded questions on topics such as the contribution of partnerships to fee income and the impact of European Central Bank rate hikes on Net Interest Income (NII). He confirmed the positive impact of improved yield curves on NII and discussed the dynamics of lending margins in relation to increased prices and funding costs.\n\nThe CEO also addressed the company's approach to guidance, emphasizing that ING provides guidance over an entire business cycle rather than on an annual basis. He noted ING’s historically low cost of risk in the eurozone and the proactive measures taken to mitigate the effects of higher inflation and supply chain disruptions.\n\nIn a question and answer session, Ljiljana Čortan, the CRO of ING, specified the total risk cost for Russia, with a distinction between onshore and offshore exposure. A participant from BNP Paribas Exane inquired about a specific subsidiary in Russia, questioning whether ING would consider recapitalizing it in the event of losses.\n\nLastly, a speaker clarified the company's position on the benefits of interest rate rises to NII, correcting a previous statement and signaling a positive impact for the current year. The speaker promised more guidance on NII sensitivity to be provided on June 13th. A question from Stefan Nedialkov of Citi regarding Basel IV and the movement of risk-weighted assets was raised, but the passage ended before a response was given.\n\nIn summary, the book provides a comprehensive account of ING Group's financial performance in Q1 2022, with discussions on shareholder distribution, digitalization efforts, fee income growth, risk management, particularly in relation to Russia, and strategies to navigate the economic environment shaped by interest rates and regulatory changes.\n"
        }
      ],
      "execution_count": 33,
      "metadata": {
        "jupyter": {
          "source_hidden": false,
          "outputs_hidden": false
        },
        "nteract": {
          "transient": {
            "deleting": false
          }
        },
        "gather": {
          "logged": 1708479193362
        }
      },
      "id": "1b24f930-7a47-49a5-9c04-d743b0892236"
    }
  ],
  "metadata": {
    "kernelspec": {
      "name": "python310-sdkv2",
      "language": "python",
      "display_name": "Python 3.10 - SDK v2"
    },
    "language_info": {
      "name": "python",
      "version": "3.10.11",
      "mimetype": "text/x-python",
      "codemirror_mode": {
        "name": "ipython",
        "version": 3
      },
      "pygments_lexer": "ipython3",
      "nbconvert_exporter": "python",
      "file_extension": ".py"
    },
    "colab": {
      "provenance": []
    },
    "microsoft": {
      "ms_spell_check": {
        "ms_spell_check_language": "en"
      },
      "host": {
        "AzureML": {
          "notebookHasBeenCompleted": true
        }
      }
    },
    "kernel_info": {
      "name": "python310-sdkv2"
    },
    "nteract": {
      "version": "nteract-front-end@1.0.0"
    }
  },
  "nbformat": 4,
  "nbformat_minor": 5
}